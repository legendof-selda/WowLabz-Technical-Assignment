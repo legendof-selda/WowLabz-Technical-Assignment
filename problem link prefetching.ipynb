{
 "metadata": {
  "language_info": {
   "codemirror_mode": {
    "name": "ipython",
    "version": 3
   },
   "file_extension": ".py",
   "mimetype": "text/x-python",
   "name": "python",
   "nbconvert_exporter": "python",
   "pygments_lexer": "ipython3",
   "version": "3.8.5-final"
  },
  "orig_nbformat": 2,
  "kernelspec": {
   "name": "python3",
   "display_name": "Python 3.8.5 64-bit ('dsenv': conda)",
   "metadata": {
    "interpreter": {
     "hash": "d03489e08925ad710d3430da4ccf8c8a8ae0bb3526588250c26592ad693a7ef6"
    }
   }
  }
 },
 "nbformat": 4,
 "nbformat_minor": 2,
 "cells": [
  {
   "cell_type": "code",
   "execution_count": 1,
   "metadata": {},
   "outputs": [],
   "source": [
    "import math\n",
    "import numpy as np\n",
    "import matplotlib.pyplot as plt\n",
    "import pandas as pd"
   ]
  },
  {
   "cell_type": "code",
   "execution_count": 2,
   "metadata": {},
   "outputs": [
    {
     "output_type": "stream",
     "name": "stdout",
     "text": [
      "(100, 1)\n"
     ]
    }
   ],
   "source": [
    "sequence = (np.random.randint(10, size=(100, 1)))\n",
    "print(sequence.shape)"
   ]
  },
  {
   "cell_type": "code",
   "execution_count": 3,
   "metadata": {},
   "outputs": [],
   "source": [
    "from sklearn.preprocessing import StandardScaler\n",
    "scalerX = StandardScaler().fit(sequence)\n",
    "scaled_sequence = scalerX.transform(sequence)"
   ]
  },
  {
   "cell_type": "code",
   "execution_count": 4,
   "metadata": {},
   "outputs": [
    {
     "output_type": "execute_result",
     "data": {
      "text/plain": [
       "                event_time event_type  product_id          category_id  \\\n",
       "0  2019-10-01 00:00:00 UTC       cart     5773203  1487580005134238553   \n",
       "1  2019-10-01 00:00:03 UTC       cart     5773353  1487580005134238553   \n",
       "2  2019-10-01 00:00:07 UTC       cart     5881589  2151191071051219817   \n",
       "3  2019-10-01 00:00:07 UTC       cart     5723490  1487580005134238553   \n",
       "4  2019-10-01 00:00:15 UTC       cart     5881449  1487580013522845895   \n",
       "\n",
       "  category_code   brand  price    user_id  \\\n",
       "0           NaN  runail   2.62  463240011   \n",
       "1           NaN  runail   2.62  463240011   \n",
       "2           NaN  lovely  13.48  429681830   \n",
       "3           NaN  runail   2.62  463240011   \n",
       "4           NaN  lovely   0.56  429681830   \n",
       "\n",
       "                           user_session  \n",
       "0  26dd6e6e-4dac-4778-8d2c-92e149dab885  \n",
       "1  26dd6e6e-4dac-4778-8d2c-92e149dab885  \n",
       "2  49e8d843-adf3-428b-a2c3-fe8bc6a307c9  \n",
       "3  26dd6e6e-4dac-4778-8d2c-92e149dab885  \n",
       "4  49e8d843-adf3-428b-a2c3-fe8bc6a307c9  "
      ],
      "text/html": "<div>\n<style scoped>\n    .dataframe tbody tr th:only-of-type {\n        vertical-align: middle;\n    }\n\n    .dataframe tbody tr th {\n        vertical-align: top;\n    }\n\n    .dataframe thead th {\n        text-align: right;\n    }\n</style>\n<table border=\"1\" class=\"dataframe\">\n  <thead>\n    <tr style=\"text-align: right;\">\n      <th></th>\n      <th>event_time</th>\n      <th>event_type</th>\n      <th>product_id</th>\n      <th>category_id</th>\n      <th>category_code</th>\n      <th>brand</th>\n      <th>price</th>\n      <th>user_id</th>\n      <th>user_session</th>\n    </tr>\n  </thead>\n  <tbody>\n    <tr>\n      <th>0</th>\n      <td>2019-10-01 00:00:00 UTC</td>\n      <td>cart</td>\n      <td>5773203</td>\n      <td>1487580005134238553</td>\n      <td>NaN</td>\n      <td>runail</td>\n      <td>2.62</td>\n      <td>463240011</td>\n      <td>26dd6e6e-4dac-4778-8d2c-92e149dab885</td>\n    </tr>\n    <tr>\n      <th>1</th>\n      <td>2019-10-01 00:00:03 UTC</td>\n      <td>cart</td>\n      <td>5773353</td>\n      <td>1487580005134238553</td>\n      <td>NaN</td>\n      <td>runail</td>\n      <td>2.62</td>\n      <td>463240011</td>\n      <td>26dd6e6e-4dac-4778-8d2c-92e149dab885</td>\n    </tr>\n    <tr>\n      <th>2</th>\n      <td>2019-10-01 00:00:07 UTC</td>\n      <td>cart</td>\n      <td>5881589</td>\n      <td>2151191071051219817</td>\n      <td>NaN</td>\n      <td>lovely</td>\n      <td>13.48</td>\n      <td>429681830</td>\n      <td>49e8d843-adf3-428b-a2c3-fe8bc6a307c9</td>\n    </tr>\n    <tr>\n      <th>3</th>\n      <td>2019-10-01 00:00:07 UTC</td>\n      <td>cart</td>\n      <td>5723490</td>\n      <td>1487580005134238553</td>\n      <td>NaN</td>\n      <td>runail</td>\n      <td>2.62</td>\n      <td>463240011</td>\n      <td>26dd6e6e-4dac-4778-8d2c-92e149dab885</td>\n    </tr>\n    <tr>\n      <th>4</th>\n      <td>2019-10-01 00:00:15 UTC</td>\n      <td>cart</td>\n      <td>5881449</td>\n      <td>1487580013522845895</td>\n      <td>NaN</td>\n      <td>lovely</td>\n      <td>0.56</td>\n      <td>429681830</td>\n      <td>49e8d843-adf3-428b-a2c3-fe8bc6a307c9</td>\n    </tr>\n  </tbody>\n</table>\n</div>"
     },
     "metadata": {},
     "execution_count": 4
    }
   ],
   "source": [
    "df = pd.read_csv(\"D:\\\\Jupyter Notebooks\\\\datasets\\\\eCommerce Events History in Cosmetics Shop\\\\2019-Oct.csv\")\n",
    "df.head()"
   ]
  },
  {
   "cell_type": "code",
   "execution_count": 5,
   "metadata": {},
   "outputs": [
    {
     "output_type": "execute_result",
     "data": {
      "text/plain": [
       "         product_id   category_id         price       user_id\n",
       "count  4.102283e+06  4.102283e+06  4.102283e+06  4.102283e+06\n",
       "mean   5.468464e+06  1.545652e+18  8.534920e+00  5.013416e+08\n",
       "std    1.321863e+06  1.563666e+17  1.913315e+01  8.171257e+07\n",
       "min    3.752000e+03  1.487580e+18 -7.937000e+01  4.103071e+06\n",
       "25%    5.723489e+06  1.487580e+18  2.140000e+00  4.692921e+08\n",
       "50%    5.809115e+06  1.487580e+18  4.110000e+00  5.389695e+08\n",
       "75%    5.850322e+06  1.487580e+18  7.140000e+00  5.575029e+08\n",
       "max    5.900470e+06  2.195085e+18  3.076000e+02  5.662808e+08"
      ],
      "text/html": "<div>\n<style scoped>\n    .dataframe tbody tr th:only-of-type {\n        vertical-align: middle;\n    }\n\n    .dataframe tbody tr th {\n        vertical-align: top;\n    }\n\n    .dataframe thead th {\n        text-align: right;\n    }\n</style>\n<table border=\"1\" class=\"dataframe\">\n  <thead>\n    <tr style=\"text-align: right;\">\n      <th></th>\n      <th>product_id</th>\n      <th>category_id</th>\n      <th>price</th>\n      <th>user_id</th>\n    </tr>\n  </thead>\n  <tbody>\n    <tr>\n      <th>count</th>\n      <td>4.102283e+06</td>\n      <td>4.102283e+06</td>\n      <td>4.102283e+06</td>\n      <td>4.102283e+06</td>\n    </tr>\n    <tr>\n      <th>mean</th>\n      <td>5.468464e+06</td>\n      <td>1.545652e+18</td>\n      <td>8.534920e+00</td>\n      <td>5.013416e+08</td>\n    </tr>\n    <tr>\n      <th>std</th>\n      <td>1.321863e+06</td>\n      <td>1.563666e+17</td>\n      <td>1.913315e+01</td>\n      <td>8.171257e+07</td>\n    </tr>\n    <tr>\n      <th>min</th>\n      <td>3.752000e+03</td>\n      <td>1.487580e+18</td>\n      <td>-7.937000e+01</td>\n      <td>4.103071e+06</td>\n    </tr>\n    <tr>\n      <th>25%</th>\n      <td>5.723489e+06</td>\n      <td>1.487580e+18</td>\n      <td>2.140000e+00</td>\n      <td>4.692921e+08</td>\n    </tr>\n    <tr>\n      <th>50%</th>\n      <td>5.809115e+06</td>\n      <td>1.487580e+18</td>\n      <td>4.110000e+00</td>\n      <td>5.389695e+08</td>\n    </tr>\n    <tr>\n      <th>75%</th>\n      <td>5.850322e+06</td>\n      <td>1.487580e+18</td>\n      <td>7.140000e+00</td>\n      <td>5.575029e+08</td>\n    </tr>\n    <tr>\n      <th>max</th>\n      <td>5.900470e+06</td>\n      <td>2.195085e+18</td>\n      <td>3.076000e+02</td>\n      <td>5.662808e+08</td>\n    </tr>\n  </tbody>\n</table>\n</div>"
     },
     "metadata": {},
     "execution_count": 5
    }
   ],
   "source": [
    "df.describe()"
   ]
  },
  {
   "cell_type": "code",
   "execution_count": 6,
   "metadata": {},
   "outputs": [
    {
     "output_type": "execute_result",
     "data": {
      "text/plain": [
       "event_time             0\n",
       "event_type             0\n",
       "product_id             0\n",
       "category_id            0\n",
       "category_code    4034806\n",
       "brand            1659261\n",
       "price                  0\n",
       "user_id                0\n",
       "user_session         637\n",
       "dtype: int64"
      ]
     },
     "metadata": {},
     "execution_count": 6
    }
   ],
   "source": [
    "df.isna().sum()"
   ]
  },
  {
   "cell_type": "code",
   "execution_count": 7,
   "metadata": {},
   "outputs": [
    {
     "output_type": "execute_result",
     "data": {
      "text/plain": [
       "(4102283, 9)"
      ]
     },
     "metadata": {},
     "execution_count": 7
    }
   ],
   "source": [
    "df.shape"
   ]
  },
  {
   "cell_type": "code",
   "execution_count": 8,
   "metadata": {},
   "outputs": [],
   "source": [
    "df = df.drop(columns=['category_code', 'brand'], axis=1)"
   ]
  },
  {
   "cell_type": "code",
   "execution_count": 9,
   "metadata": {},
   "outputs": [
    {
     "output_type": "execute_result",
     "data": {
      "text/plain": [
       "array(['cart', 'view', 'remove_from_cart', 'purchase'], dtype=object)"
      ]
     },
     "metadata": {},
     "execution_count": 9
    }
   ],
   "source": [
    "df.event_type.unique()"
   ]
  },
  {
   "cell_type": "code",
   "execution_count": 10,
   "metadata": {},
   "outputs": [
    {
     "output_type": "execute_result",
     "data": {
      "text/plain": [
       "array(['cart', 'view', 'remove_from_cart', 'purchase'], dtype=object)"
      ]
     },
     "metadata": {},
     "execution_count": 10
    }
   ],
   "source": [
    "df[df['user_session'].notna()].event_type.unique()"
   ]
  },
  {
   "cell_type": "code",
   "execution_count": 11,
   "metadata": {},
   "outputs": [
    {
     "output_type": "execute_result",
     "data": {
      "text/plain": [
       "array(['cart', 'remove_from_cart', 'view'], dtype=object)"
      ]
     },
     "metadata": {},
     "execution_count": 11
    }
   ],
   "source": [
    "df[df['user_session'].isna()].event_type.unique()"
   ]
  },
  {
   "cell_type": "code",
   "execution_count": 12,
   "metadata": {},
   "outputs": [
    {
     "output_type": "execute_result",
     "data": {
      "text/plain": [
       "event_time      1862164\n",
       "event_type      1862164\n",
       "product_id      1862164\n",
       "category_id     1862164\n",
       "price           1862164\n",
       "user_id         1862164\n",
       "user_session    1862161\n",
       "dtype: int64"
      ]
     },
     "metadata": {},
     "execution_count": 12
    }
   ],
   "source": [
    "df[df['event_type']=='view'].count()"
   ]
  },
  {
   "cell_type": "code",
   "execution_count": 13,
   "metadata": {},
   "outputs": [],
   "source": [
    "df.drop(df[df['event_type']!='view'].index, inplace=True)"
   ]
  },
  {
   "cell_type": "code",
   "execution_count": 14,
   "metadata": {},
   "outputs": [],
   "source": [
    "df['url'] = \"dummysite.com/\" + df['event_type'] + \"/\" + df['category_id'].astype(str) + \"/\" + df['product_id'].astype(str) + \"/userid=\" + df['user_session'].astype(str)"
   ]
  },
  {
   "cell_type": "code",
   "execution_count": 15,
   "metadata": {},
   "outputs": [
    {
     "output_type": "execute_result",
     "data": {
      "text/plain": [
       "9     dummysite.com/view/2029082628195353599/5875317...\n",
       "10    dummysite.com/view/1487580004857414477/5692917...\n",
       "19    dummysite.com/view/1487580008162526182/5819638...\n",
       "21    dummysite.com/view/1487580006350586771/5856191...\n",
       "39    dummysite.com/view/1487580009362096156/5733176...\n",
       "Name: url, dtype: object"
      ]
     },
     "metadata": {},
     "execution_count": 15
    }
   ],
   "source": [
    "df['url'].head()"
   ]
  },
  {
   "cell_type": "code",
   "execution_count": 16,
   "metadata": {},
   "outputs": [],
   "source": [
    "df.sort_values(by=['user_session', 'event_time'], inplace=True)"
   ]
  },
  {
   "cell_type": "code",
   "execution_count": 17,
   "metadata": {},
   "outputs": [
    {
     "output_type": "execute_result",
     "data": {
      "text/plain": [
       "                      event_time event_type  product_id          category_id  \\\n",
       "3008486  2019-10-23 09:07:38 UTC       view     5859210  1487580010872045658   \n",
       "3009077  2019-10-23 09:12:50 UTC       view       30195  1487580010922377308   \n",
       "1037295  2019-10-07 19:35:37 UTC       view     5646845  1487580008984608779   \n",
       "2870668  2019-10-22 08:29:50 UTC       view     5682289  1487580009362096156   \n",
       "2314660  2019-10-17 15:33:24 UTC       view     5677454  1487580009143992338   \n",
       "\n",
       "         price    user_id                          user_session  \\\n",
       "3008486   0.48  405771061  000013d6-68a4-40cf-9452-6577dbfab515   \n",
       "3009077   0.38  405771061  000013d6-68a4-40cf-9452-6577dbfab515   \n",
       "1037295  15.79  437891561  000027d7-5077-4a81-89de-ce2c4936a28f   \n",
       "2870668   3.79  534154250  00002e32-16ef-4770-9ec0-36ef9d1c888f   \n",
       "2314660   6.83  321400452  00003443-8504-4e24-8e86-e8e86d486826   \n",
       "\n",
       "                                                       url  \n",
       "3008486  dummysite.com/view/1487580010872045658/5859210...  \n",
       "3009077  dummysite.com/view/1487580010922377308/30195/u...  \n",
       "1037295  dummysite.com/view/1487580008984608779/5646845...  \n",
       "2870668  dummysite.com/view/1487580009362096156/5682289...  \n",
       "2314660  dummysite.com/view/1487580009143992338/5677454...  "
      ],
      "text/html": "<div>\n<style scoped>\n    .dataframe tbody tr th:only-of-type {\n        vertical-align: middle;\n    }\n\n    .dataframe tbody tr th {\n        vertical-align: top;\n    }\n\n    .dataframe thead th {\n        text-align: right;\n    }\n</style>\n<table border=\"1\" class=\"dataframe\">\n  <thead>\n    <tr style=\"text-align: right;\">\n      <th></th>\n      <th>event_time</th>\n      <th>event_type</th>\n      <th>product_id</th>\n      <th>category_id</th>\n      <th>price</th>\n      <th>user_id</th>\n      <th>user_session</th>\n      <th>url</th>\n    </tr>\n  </thead>\n  <tbody>\n    <tr>\n      <th>3008486</th>\n      <td>2019-10-23 09:07:38 UTC</td>\n      <td>view</td>\n      <td>5859210</td>\n      <td>1487580010872045658</td>\n      <td>0.48</td>\n      <td>405771061</td>\n      <td>000013d6-68a4-40cf-9452-6577dbfab515</td>\n      <td>dummysite.com/view/1487580010872045658/5859210...</td>\n    </tr>\n    <tr>\n      <th>3009077</th>\n      <td>2019-10-23 09:12:50 UTC</td>\n      <td>view</td>\n      <td>30195</td>\n      <td>1487580010922377308</td>\n      <td>0.38</td>\n      <td>405771061</td>\n      <td>000013d6-68a4-40cf-9452-6577dbfab515</td>\n      <td>dummysite.com/view/1487580010922377308/30195/u...</td>\n    </tr>\n    <tr>\n      <th>1037295</th>\n      <td>2019-10-07 19:35:37 UTC</td>\n      <td>view</td>\n      <td>5646845</td>\n      <td>1487580008984608779</td>\n      <td>15.79</td>\n      <td>437891561</td>\n      <td>000027d7-5077-4a81-89de-ce2c4936a28f</td>\n      <td>dummysite.com/view/1487580008984608779/5646845...</td>\n    </tr>\n    <tr>\n      <th>2870668</th>\n      <td>2019-10-22 08:29:50 UTC</td>\n      <td>view</td>\n      <td>5682289</td>\n      <td>1487580009362096156</td>\n      <td>3.79</td>\n      <td>534154250</td>\n      <td>00002e32-16ef-4770-9ec0-36ef9d1c888f</td>\n      <td>dummysite.com/view/1487580009362096156/5682289...</td>\n    </tr>\n    <tr>\n      <th>2314660</th>\n      <td>2019-10-17 15:33:24 UTC</td>\n      <td>view</td>\n      <td>5677454</td>\n      <td>1487580009143992338</td>\n      <td>6.83</td>\n      <td>321400452</td>\n      <td>00003443-8504-4e24-8e86-e8e86d486826</td>\n      <td>dummysite.com/view/1487580009143992338/5677454...</td>\n    </tr>\n  </tbody>\n</table>\n</div>"
     },
     "metadata": {},
     "execution_count": 17
    }
   ],
   "source": [
    "df.head()"
   ]
  },
  {
   "cell_type": "code",
   "execution_count": 18,
   "metadata": {},
   "outputs": [
    {
     "output_type": "execute_result",
     "data": {
      "text/plain": [
       "                      event_time event_type  product_id          category_id  \\\n",
       "2830949  2019-10-21 21:11:09 UTC       view     5784982  2195085255034011676   \n",
       "2831152  2019-10-21 21:13:30 UTC       view     5795273  1516331853567492962   \n",
       "2831200  2019-10-21 21:14:02 UTC       view     5670334  2195085255034011676   \n",
       "2831329  2019-10-21 21:15:42 UTC       view     5735272  2195085255034011676   \n",
       "2831839  2019-10-21 21:22:07 UTC       view     5563536  2195085255034011676   \n",
       "2831912  2019-10-21 21:22:59 UTC       view     5858353  2195085255034011676   \n",
       "2832031  2019-10-21 21:24:19 UTC       view     5784982  2195085255034011676   \n",
       "\n",
       "         price  user_id                          user_session  \\\n",
       "2830949   4.60  4103071  8930ec72-36b0-4be9-80c7-af93b9f477c6   \n",
       "2831152   3.41  4103071  8930ec72-36b0-4be9-80c7-af93b9f477c6   \n",
       "2831200   2.38  4103071  8930ec72-36b0-4be9-80c7-af93b9f477c6   \n",
       "2831329   2.37  4103071  8930ec72-36b0-4be9-80c7-af93b9f477c6   \n",
       "2831839   3.02  4103071  8930ec72-36b0-4be9-80c7-af93b9f477c6   \n",
       "2831912   1.98  4103071  8930ec72-36b0-4be9-80c7-af93b9f477c6   \n",
       "2832031   4.60  4103071  8930ec72-36b0-4be9-80c7-af93b9f477c6   \n",
       "\n",
       "                                                       url  \n",
       "2830949  dummysite.com/view/2195085255034011676/5784982...  \n",
       "2831152  dummysite.com/view/1516331853567492962/5795273...  \n",
       "2831200  dummysite.com/view/2195085255034011676/5670334...  \n",
       "2831329  dummysite.com/view/2195085255034011676/5735272...  \n",
       "2831839  dummysite.com/view/2195085255034011676/5563536...  \n",
       "2831912  dummysite.com/view/2195085255034011676/5858353...  \n",
       "2832031  dummysite.com/view/2195085255034011676/5784982...  "
      ],
      "text/html": "<div>\n<style scoped>\n    .dataframe tbody tr th:only-of-type {\n        vertical-align: middle;\n    }\n\n    .dataframe tbody tr th {\n        vertical-align: top;\n    }\n\n    .dataframe thead th {\n        text-align: right;\n    }\n</style>\n<table border=\"1\" class=\"dataframe\">\n  <thead>\n    <tr style=\"text-align: right;\">\n      <th></th>\n      <th>event_time</th>\n      <th>event_type</th>\n      <th>product_id</th>\n      <th>category_id</th>\n      <th>price</th>\n      <th>user_id</th>\n      <th>user_session</th>\n      <th>url</th>\n    </tr>\n  </thead>\n  <tbody>\n    <tr>\n      <th>2830949</th>\n      <td>2019-10-21 21:11:09 UTC</td>\n      <td>view</td>\n      <td>5784982</td>\n      <td>2195085255034011676</td>\n      <td>4.60</td>\n      <td>4103071</td>\n      <td>8930ec72-36b0-4be9-80c7-af93b9f477c6</td>\n      <td>dummysite.com/view/2195085255034011676/5784982...</td>\n    </tr>\n    <tr>\n      <th>2831152</th>\n      <td>2019-10-21 21:13:30 UTC</td>\n      <td>view</td>\n      <td>5795273</td>\n      <td>1516331853567492962</td>\n      <td>3.41</td>\n      <td>4103071</td>\n      <td>8930ec72-36b0-4be9-80c7-af93b9f477c6</td>\n      <td>dummysite.com/view/1516331853567492962/5795273...</td>\n    </tr>\n    <tr>\n      <th>2831200</th>\n      <td>2019-10-21 21:14:02 UTC</td>\n      <td>view</td>\n      <td>5670334</td>\n      <td>2195085255034011676</td>\n      <td>2.38</td>\n      <td>4103071</td>\n      <td>8930ec72-36b0-4be9-80c7-af93b9f477c6</td>\n      <td>dummysite.com/view/2195085255034011676/5670334...</td>\n    </tr>\n    <tr>\n      <th>2831329</th>\n      <td>2019-10-21 21:15:42 UTC</td>\n      <td>view</td>\n      <td>5735272</td>\n      <td>2195085255034011676</td>\n      <td>2.37</td>\n      <td>4103071</td>\n      <td>8930ec72-36b0-4be9-80c7-af93b9f477c6</td>\n      <td>dummysite.com/view/2195085255034011676/5735272...</td>\n    </tr>\n    <tr>\n      <th>2831839</th>\n      <td>2019-10-21 21:22:07 UTC</td>\n      <td>view</td>\n      <td>5563536</td>\n      <td>2195085255034011676</td>\n      <td>3.02</td>\n      <td>4103071</td>\n      <td>8930ec72-36b0-4be9-80c7-af93b9f477c6</td>\n      <td>dummysite.com/view/2195085255034011676/5563536...</td>\n    </tr>\n    <tr>\n      <th>2831912</th>\n      <td>2019-10-21 21:22:59 UTC</td>\n      <td>view</td>\n      <td>5858353</td>\n      <td>2195085255034011676</td>\n      <td>1.98</td>\n      <td>4103071</td>\n      <td>8930ec72-36b0-4be9-80c7-af93b9f477c6</td>\n      <td>dummysite.com/view/2195085255034011676/5858353...</td>\n    </tr>\n    <tr>\n      <th>2832031</th>\n      <td>2019-10-21 21:24:19 UTC</td>\n      <td>view</td>\n      <td>5784982</td>\n      <td>2195085255034011676</td>\n      <td>4.60</td>\n      <td>4103071</td>\n      <td>8930ec72-36b0-4be9-80c7-af93b9f477c6</td>\n      <td>dummysite.com/view/2195085255034011676/5784982...</td>\n    </tr>\n  </tbody>\n</table>\n</div>"
     },
     "metadata": {},
     "execution_count": 18
    }
   ],
   "source": [
    "df[df['user_session']=='8930ec72-36b0-4be9-80c7-af93b9f477c6']"
   ]
  },
  {
   "cell_type": "code",
   "execution_count": 19,
   "metadata": {},
   "outputs": [
    {
     "output_type": "execute_result",
     "data": {
      "text/plain": [
       "                                                event_time  event_type  \\\n",
       "user_id   user_session                                                   \n",
       "4103071   8930ec72-36b0-4be9-80c7-af93b9f477c6           7           7   \n",
       "8846226   ddd23270-792c-49f3-9ae2-d86f5080a5eb           3           3   \n",
       "          f835c9a8-cb8a-4201-85d4-00565bcc84ad           4           4   \n",
       "9794320   1be8fa80-8036-4d95-93da-494a08d82cb5           2           2   \n",
       "          9f8afcc5-abe6-47a6-93d5-290d350cea5e           1           1   \n",
       "...                                                    ...         ...   \n",
       "566279639 c2cd9fb0-ad5c-476d-862e-4a48420ebc6a           1           1   \n",
       "566279883 bd4d4392-42ad-4373-a8cd-1c7a4bd6b01a           1           1   \n",
       "566279996 21512135-c819-4fef-885d-76607526652b           1           1   \n",
       "566280278 5c4f78a3-ebf5-4606-946f-6a3a0b8852d2           2           2   \n",
       "566280798 4eaf7c71-e8bf-4ea6-b719-eca144466eb3           1           1   \n",
       "\n",
       "                                                product_id  category_id  \\\n",
       "user_id   user_session                                                    \n",
       "4103071   8930ec72-36b0-4be9-80c7-af93b9f477c6           7            7   \n",
       "8846226   ddd23270-792c-49f3-9ae2-d86f5080a5eb           3            3   \n",
       "          f835c9a8-cb8a-4201-85d4-00565bcc84ad           4            4   \n",
       "9794320   1be8fa80-8036-4d95-93da-494a08d82cb5           2            2   \n",
       "          9f8afcc5-abe6-47a6-93d5-290d350cea5e           1            1   \n",
       "...                                                    ...          ...   \n",
       "566279639 c2cd9fb0-ad5c-476d-862e-4a48420ebc6a           1            1   \n",
       "566279883 bd4d4392-42ad-4373-a8cd-1c7a4bd6b01a           1            1   \n",
       "566279996 21512135-c819-4fef-885d-76607526652b           1            1   \n",
       "566280278 5c4f78a3-ebf5-4606-946f-6a3a0b8852d2           2            2   \n",
       "566280798 4eaf7c71-e8bf-4ea6-b719-eca144466eb3           1            1   \n",
       "\n",
       "                                                price  url  \n",
       "user_id   user_session                                      \n",
       "4103071   8930ec72-36b0-4be9-80c7-af93b9f477c6      7    7  \n",
       "8846226   ddd23270-792c-49f3-9ae2-d86f5080a5eb      3    3  \n",
       "          f835c9a8-cb8a-4201-85d4-00565bcc84ad      4    4  \n",
       "9794320   1be8fa80-8036-4d95-93da-494a08d82cb5      2    2  \n",
       "          9f8afcc5-abe6-47a6-93d5-290d350cea5e      1    1  \n",
       "...                                               ...  ...  \n",
       "566279639 c2cd9fb0-ad5c-476d-862e-4a48420ebc6a      1    1  \n",
       "566279883 bd4d4392-42ad-4373-a8cd-1c7a4bd6b01a      1    1  \n",
       "566279996 21512135-c819-4fef-885d-76607526652b      1    1  \n",
       "566280278 5c4f78a3-ebf5-4606-946f-6a3a0b8852d2      2    2  \n",
       "566280798 4eaf7c71-e8bf-4ea6-b719-eca144466eb3      1    1  \n",
       "\n",
       "[826170 rows x 6 columns]"
      ],
      "text/html": "<div>\n<style scoped>\n    .dataframe tbody tr th:only-of-type {\n        vertical-align: middle;\n    }\n\n    .dataframe tbody tr th {\n        vertical-align: top;\n    }\n\n    .dataframe thead th {\n        text-align: right;\n    }\n</style>\n<table border=\"1\" class=\"dataframe\">\n  <thead>\n    <tr style=\"text-align: right;\">\n      <th></th>\n      <th></th>\n      <th>event_time</th>\n      <th>event_type</th>\n      <th>product_id</th>\n      <th>category_id</th>\n      <th>price</th>\n      <th>url</th>\n    </tr>\n    <tr>\n      <th>user_id</th>\n      <th>user_session</th>\n      <th></th>\n      <th></th>\n      <th></th>\n      <th></th>\n      <th></th>\n      <th></th>\n    </tr>\n  </thead>\n  <tbody>\n    <tr>\n      <th>4103071</th>\n      <th>8930ec72-36b0-4be9-80c7-af93b9f477c6</th>\n      <td>7</td>\n      <td>7</td>\n      <td>7</td>\n      <td>7</td>\n      <td>7</td>\n      <td>7</td>\n    </tr>\n    <tr>\n      <th rowspan=\"2\" valign=\"top\">8846226</th>\n      <th>ddd23270-792c-49f3-9ae2-d86f5080a5eb</th>\n      <td>3</td>\n      <td>3</td>\n      <td>3</td>\n      <td>3</td>\n      <td>3</td>\n      <td>3</td>\n    </tr>\n    <tr>\n      <th>f835c9a8-cb8a-4201-85d4-00565bcc84ad</th>\n      <td>4</td>\n      <td>4</td>\n      <td>4</td>\n      <td>4</td>\n      <td>4</td>\n      <td>4</td>\n    </tr>\n    <tr>\n      <th rowspan=\"2\" valign=\"top\">9794320</th>\n      <th>1be8fa80-8036-4d95-93da-494a08d82cb5</th>\n      <td>2</td>\n      <td>2</td>\n      <td>2</td>\n      <td>2</td>\n      <td>2</td>\n      <td>2</td>\n    </tr>\n    <tr>\n      <th>9f8afcc5-abe6-47a6-93d5-290d350cea5e</th>\n      <td>1</td>\n      <td>1</td>\n      <td>1</td>\n      <td>1</td>\n      <td>1</td>\n      <td>1</td>\n    </tr>\n    <tr>\n      <th>...</th>\n      <th>...</th>\n      <td>...</td>\n      <td>...</td>\n      <td>...</td>\n      <td>...</td>\n      <td>...</td>\n      <td>...</td>\n    </tr>\n    <tr>\n      <th>566279639</th>\n      <th>c2cd9fb0-ad5c-476d-862e-4a48420ebc6a</th>\n      <td>1</td>\n      <td>1</td>\n      <td>1</td>\n      <td>1</td>\n      <td>1</td>\n      <td>1</td>\n    </tr>\n    <tr>\n      <th>566279883</th>\n      <th>bd4d4392-42ad-4373-a8cd-1c7a4bd6b01a</th>\n      <td>1</td>\n      <td>1</td>\n      <td>1</td>\n      <td>1</td>\n      <td>1</td>\n      <td>1</td>\n    </tr>\n    <tr>\n      <th>566279996</th>\n      <th>21512135-c819-4fef-885d-76607526652b</th>\n      <td>1</td>\n      <td>1</td>\n      <td>1</td>\n      <td>1</td>\n      <td>1</td>\n      <td>1</td>\n    </tr>\n    <tr>\n      <th>566280278</th>\n      <th>5c4f78a3-ebf5-4606-946f-6a3a0b8852d2</th>\n      <td>2</td>\n      <td>2</td>\n      <td>2</td>\n      <td>2</td>\n      <td>2</td>\n      <td>2</td>\n    </tr>\n    <tr>\n      <th>566280798</th>\n      <th>4eaf7c71-e8bf-4ea6-b719-eca144466eb3</th>\n      <td>1</td>\n      <td>1</td>\n      <td>1</td>\n      <td>1</td>\n      <td>1</td>\n      <td>1</td>\n    </tr>\n  </tbody>\n</table>\n<p>826170 rows × 6 columns</p>\n</div>"
     },
     "metadata": {},
     "execution_count": 19
    }
   ],
   "source": [
    "df.groupby(by=['user_id', 'user_session']).count()"
   ]
  },
  {
   "cell_type": "code",
   "execution_count": 20,
   "metadata": {},
   "outputs": [
    {
     "output_type": "execute_result",
     "data": {
      "text/plain": [
       "(41372,)"
      ]
     },
     "metadata": {},
     "execution_count": 20
    }
   ],
   "source": [
    "df['product_id'].unique().shape"
   ]
  },
  {
   "cell_type": "code",
   "execution_count": 21,
   "metadata": {},
   "outputs": [
    {
     "output_type": "execute_result",
     "data": {
      "text/plain": [
       "(489,)"
      ]
     },
     "metadata": {},
     "execution_count": 21
    }
   ],
   "source": [
    "df['category_id'].unique().shape"
   ]
  },
  {
   "cell_type": "code",
   "execution_count": 22,
   "metadata": {},
   "outputs": [],
   "source": [
    "df['url_small'] = \"dummysite.com/\" + df['event_type'] + \"/\" + df['category_id'].astype(str) + \"/\" + df['product_id'].astype(str) + \"/\""
   ]
  },
  {
   "cell_type": "code",
   "execution_count": 23,
   "metadata": {},
   "outputs": [
    {
     "output_type": "execute_result",
     "data": {
      "text/plain": [
       "(41372,)"
      ]
     },
     "metadata": {},
     "execution_count": 23
    }
   ],
   "source": [
    "df['url_small'].unique().shape"
   ]
  },
  {
   "cell_type": "code",
   "execution_count": 86,
   "metadata": {},
   "outputs": [],
   "source": [
    "#df['product_id'] = df['product_id'].astype(\"string\")"
   ]
  },
  {
   "cell_type": "code",
   "execution_count": 87,
   "metadata": {},
   "outputs": [],
   "source": [
    "df[\"product_id_code\"] = df['product_id'] - df['product_id'].min()"
   ]
  },
  {
   "cell_type": "code",
   "execution_count": 89,
   "metadata": {},
   "outputs": [
    {
     "output_type": "execute_result",
     "data": {
      "text/plain": [
       "3752"
      ]
     },
     "metadata": {},
     "execution_count": 89
    }
   ],
   "source": [
    "df['product_id'].min()"
   ]
  },
  {
   "cell_type": "code",
   "execution_count": 123,
   "metadata": {},
   "outputs": [],
   "source": [
    "di = dict(zip(df.product_id.unique(),np.arange(products)))\n",
    "df['product_id_code'] = df['product_id'].map(di)"
   ]
  },
  {
   "cell_type": "code",
   "execution_count": 90,
   "metadata": {},
   "outputs": [
    {
     "output_type": "error",
     "ename": "KeyboardInterrupt",
     "evalue": "",
     "traceback": [
      "\u001b[1;31m---------------------------------------------------------------------------\u001b[0m",
      "\u001b[1;31mKeyboardInterrupt\u001b[0m                         Traceback (most recent call last)",
      "\u001b[1;32m<ipython-input-90-ac3553f89dfb>\u001b[0m in \u001b[0;36m<module>\u001b[1;34m\u001b[0m\n\u001b[0;32m      1\u001b[0m \u001b[0mdi\u001b[0m \u001b[1;33m=\u001b[0m \u001b[0mdict\u001b[0m\u001b[1;33m(\u001b[0m\u001b[0mzip\u001b[0m\u001b[1;33m(\u001b[0m\u001b[0mdf\u001b[0m\u001b[1;33m.\u001b[0m\u001b[0mproduct_id\u001b[0m\u001b[1;33m.\u001b[0m\u001b[0munique\u001b[0m\u001b[1;33m(\u001b[0m\u001b[1;33m)\u001b[0m\u001b[1;33m,\u001b[0m\u001b[0mnp\u001b[0m\u001b[1;33m.\u001b[0m\u001b[0marange\u001b[0m\u001b[1;33m(\u001b[0m\u001b[0mproducts\u001b[0m\u001b[1;33m)\u001b[0m\u001b[1;33m)\u001b[0m\u001b[1;33m)\u001b[0m\u001b[1;33m\u001b[0m\u001b[1;33m\u001b[0m\u001b[0m\n\u001b[1;32m----> 2\u001b[1;33m \u001b[0mdf\u001b[0m\u001b[1;33m[\u001b[0m\u001b[1;34m'product_id_code'\u001b[0m\u001b[1;33m]\u001b[0m \u001b[1;33m=\u001b[0m\u001b[0mdf\u001b[0m\u001b[1;33m[\u001b[0m\u001b[1;34m'product_id'\u001b[0m\u001b[1;33m]\u001b[0m\u001b[1;33m.\u001b[0m\u001b[0mreplace\u001b[0m\u001b[1;33m(\u001b[0m\u001b[0mdi\u001b[0m\u001b[1;33m)\u001b[0m\u001b[1;33m\u001b[0m\u001b[1;33m\u001b[0m\u001b[0m\n\u001b[0m",
      "\u001b[1;32m~\\anaconda3\\envs\\dsenv\\lib\\site-packages\\pandas\\core\\series.py\u001b[0m in \u001b[0;36mreplace\u001b[1;34m(self, to_replace, value, inplace, limit, regex, method)\u001b[0m\n\u001b[0;32m   4477\u001b[0m         \u001b[0mmethod\u001b[0m\u001b[1;33m=\u001b[0m\u001b[1;34m\"pad\"\u001b[0m\u001b[1;33m,\u001b[0m\u001b[1;33m\u001b[0m\u001b[1;33m\u001b[0m\u001b[0m\n\u001b[0;32m   4478\u001b[0m     ):\n\u001b[1;32m-> 4479\u001b[1;33m         return super().replace(\n\u001b[0m\u001b[0;32m   4480\u001b[0m             \u001b[0mto_replace\u001b[0m\u001b[1;33m=\u001b[0m\u001b[0mto_replace\u001b[0m\u001b[1;33m,\u001b[0m\u001b[1;33m\u001b[0m\u001b[1;33m\u001b[0m\u001b[0m\n\u001b[0;32m   4481\u001b[0m             \u001b[0mvalue\u001b[0m\u001b[1;33m=\u001b[0m\u001b[0mvalue\u001b[0m\u001b[1;33m,\u001b[0m\u001b[1;33m\u001b[0m\u001b[1;33m\u001b[0m\u001b[0m\n",
      "\u001b[1;32m~\\anaconda3\\envs\\dsenv\\lib\\site-packages\\pandas\\core\\generic.py\u001b[0m in \u001b[0;36mreplace\u001b[1;34m(self, to_replace, value, inplace, limit, regex, method)\u001b[0m\n\u001b[0;32m   6840\u001b[0m                 \u001b[0mto_replace\u001b[0m\u001b[1;33m,\u001b[0m \u001b[0mvalue\u001b[0m \u001b[1;33m=\u001b[0m \u001b[0mkeys\u001b[0m\u001b[1;33m,\u001b[0m \u001b[0mvalues\u001b[0m\u001b[1;33m\u001b[0m\u001b[1;33m\u001b[0m\u001b[0m\n\u001b[0;32m   6841\u001b[0m \u001b[1;33m\u001b[0m\u001b[0m\n\u001b[1;32m-> 6842\u001b[1;33m             return self.replace(\n\u001b[0m\u001b[0;32m   6843\u001b[0m                 \u001b[0mto_replace\u001b[0m\u001b[1;33m,\u001b[0m \u001b[0mvalue\u001b[0m\u001b[1;33m,\u001b[0m \u001b[0minplace\u001b[0m\u001b[1;33m=\u001b[0m\u001b[0minplace\u001b[0m\u001b[1;33m,\u001b[0m \u001b[0mlimit\u001b[0m\u001b[1;33m=\u001b[0m\u001b[0mlimit\u001b[0m\u001b[1;33m,\u001b[0m \u001b[0mregex\u001b[0m\u001b[1;33m=\u001b[0m\u001b[0mregex\u001b[0m\u001b[1;33m\u001b[0m\u001b[1;33m\u001b[0m\u001b[0m\n\u001b[0;32m   6844\u001b[0m             )\n",
      "\u001b[1;32m~\\anaconda3\\envs\\dsenv\\lib\\site-packages\\pandas\\core\\series.py\u001b[0m in \u001b[0;36mreplace\u001b[1;34m(self, to_replace, value, inplace, limit, regex, method)\u001b[0m\n\u001b[0;32m   4477\u001b[0m         \u001b[0mmethod\u001b[0m\u001b[1;33m=\u001b[0m\u001b[1;34m\"pad\"\u001b[0m\u001b[1;33m,\u001b[0m\u001b[1;33m\u001b[0m\u001b[1;33m\u001b[0m\u001b[0m\n\u001b[0;32m   4478\u001b[0m     ):\n\u001b[1;32m-> 4479\u001b[1;33m         return super().replace(\n\u001b[0m\u001b[0;32m   4480\u001b[0m             \u001b[0mto_replace\u001b[0m\u001b[1;33m=\u001b[0m\u001b[0mto_replace\u001b[0m\u001b[1;33m,\u001b[0m\u001b[1;33m\u001b[0m\u001b[1;33m\u001b[0m\u001b[0m\n\u001b[0;32m   4481\u001b[0m             \u001b[0mvalue\u001b[0m\u001b[1;33m=\u001b[0m\u001b[0mvalue\u001b[0m\u001b[1;33m,\u001b[0m\u001b[1;33m\u001b[0m\u001b[1;33m\u001b[0m\u001b[0m\n",
      "\u001b[1;32m~\\anaconda3\\envs\\dsenv\\lib\\site-packages\\pandas\\core\\generic.py\u001b[0m in \u001b[0;36mreplace\u001b[1;34m(self, to_replace, value, inplace, limit, regex, method)\u001b[0m\n\u001b[0;32m   6889\u001b[0m                         \u001b[1;34mf\"Expecting {len(to_replace)} got {len(value)} \"\u001b[0m\u001b[1;33m\u001b[0m\u001b[1;33m\u001b[0m\u001b[0m\n\u001b[0;32m   6890\u001b[0m                     )\n\u001b[1;32m-> 6891\u001b[1;33m                 new_data = self._mgr.replace_list(\n\u001b[0m\u001b[0;32m   6892\u001b[0m                     \u001b[0msrc_list\u001b[0m\u001b[1;33m=\u001b[0m\u001b[0mto_replace\u001b[0m\u001b[1;33m,\u001b[0m\u001b[1;33m\u001b[0m\u001b[1;33m\u001b[0m\u001b[0m\n\u001b[0;32m   6893\u001b[0m                     \u001b[0mdest_list\u001b[0m\u001b[1;33m=\u001b[0m\u001b[0mvalue\u001b[0m\u001b[1;33m,\u001b[0m\u001b[1;33m\u001b[0m\u001b[1;33m\u001b[0m\u001b[0m\n",
      "\u001b[1;32m~\\anaconda3\\envs\\dsenv\\lib\\site-packages\\pandas\\core\\internals\\managers.py\u001b[0m in \u001b[0;36mreplace_list\u001b[1;34m(self, src_list, dest_list, inplace, regex)\u001b[0m\n\u001b[0;32m    662\u001b[0m         \u001b[0minplace\u001b[0m \u001b[1;33m=\u001b[0m \u001b[0mvalidate_bool_kwarg\u001b[0m\u001b[1;33m(\u001b[0m\u001b[0minplace\u001b[0m\u001b[1;33m,\u001b[0m \u001b[1;34m\"inplace\"\u001b[0m\u001b[1;33m)\u001b[0m\u001b[1;33m\u001b[0m\u001b[1;33m\u001b[0m\u001b[0m\n\u001b[0;32m    663\u001b[0m \u001b[1;33m\u001b[0m\u001b[0m\n\u001b[1;32m--> 664\u001b[1;33m         bm = self.apply(\n\u001b[0m\u001b[0;32m    665\u001b[0m             \u001b[1;34m\"_replace_list\"\u001b[0m\u001b[1;33m,\u001b[0m\u001b[1;33m\u001b[0m\u001b[1;33m\u001b[0m\u001b[0m\n\u001b[0;32m    666\u001b[0m             \u001b[0msrc_list\u001b[0m\u001b[1;33m=\u001b[0m\u001b[0msrc_list\u001b[0m\u001b[1;33m,\u001b[0m\u001b[1;33m\u001b[0m\u001b[1;33m\u001b[0m\u001b[0m\n",
      "\u001b[1;32m~\\anaconda3\\envs\\dsenv\\lib\\site-packages\\pandas\\core\\internals\\managers.py\u001b[0m in \u001b[0;36mapply\u001b[1;34m(self, f, align_keys, ignore_failures, **kwargs)\u001b[0m\n\u001b[0;32m    425\u001b[0m                     \u001b[0mapplied\u001b[0m \u001b[1;33m=\u001b[0m \u001b[0mb\u001b[0m\u001b[1;33m.\u001b[0m\u001b[0mapply\u001b[0m\u001b[1;33m(\u001b[0m\u001b[0mf\u001b[0m\u001b[1;33m,\u001b[0m \u001b[1;33m**\u001b[0m\u001b[0mkwargs\u001b[0m\u001b[1;33m)\u001b[0m\u001b[1;33m\u001b[0m\u001b[1;33m\u001b[0m\u001b[0m\n\u001b[0;32m    426\u001b[0m                 \u001b[1;32melse\u001b[0m\u001b[1;33m:\u001b[0m\u001b[1;33m\u001b[0m\u001b[1;33m\u001b[0m\u001b[0m\n\u001b[1;32m--> 427\u001b[1;33m                     \u001b[0mapplied\u001b[0m \u001b[1;33m=\u001b[0m \u001b[0mgetattr\u001b[0m\u001b[1;33m(\u001b[0m\u001b[0mb\u001b[0m\u001b[1;33m,\u001b[0m \u001b[0mf\u001b[0m\u001b[1;33m)\u001b[0m\u001b[1;33m(\u001b[0m\u001b[1;33m**\u001b[0m\u001b[0mkwargs\u001b[0m\u001b[1;33m)\u001b[0m\u001b[1;33m\u001b[0m\u001b[1;33m\u001b[0m\u001b[0m\n\u001b[0m\u001b[0;32m    428\u001b[0m             \u001b[1;32mexcept\u001b[0m \u001b[1;33m(\u001b[0m\u001b[0mTypeError\u001b[0m\u001b[1;33m,\u001b[0m \u001b[0mNotImplementedError\u001b[0m\u001b[1;33m)\u001b[0m\u001b[1;33m:\u001b[0m\u001b[1;33m\u001b[0m\u001b[1;33m\u001b[0m\u001b[0m\n\u001b[0;32m    429\u001b[0m                 \u001b[1;32mif\u001b[0m \u001b[1;32mnot\u001b[0m \u001b[0mignore_failures\u001b[0m\u001b[1;33m:\u001b[0m\u001b[1;33m\u001b[0m\u001b[1;33m\u001b[0m\u001b[0m\n",
      "\u001b[1;32m~\\anaconda3\\envs\\dsenv\\lib\\site-packages\\pandas\\core\\internals\\blocks.py\u001b[0m in \u001b[0;36m_replace_list\u001b[1;34m(self, src_list, dest_list, inplace, regex)\u001b[0m\n\u001b[0;32m    889\u001b[0m         \u001b[1;32melse\u001b[0m\u001b[1;33m:\u001b[0m\u001b[1;33m\u001b[0m\u001b[1;33m\u001b[0m\u001b[0m\n\u001b[0;32m    890\u001b[0m             \u001b[1;31m# GH#38086 faster if we know we dont need to check for regex\u001b[0m\u001b[1;33m\u001b[0m\u001b[1;33m\u001b[0m\u001b[1;33m\u001b[0m\u001b[0m\n\u001b[1;32m--> 891\u001b[1;33m             \u001b[0mmasks\u001b[0m \u001b[1;33m=\u001b[0m \u001b[1;33m[\u001b[0m\u001b[0mmissing\u001b[0m\u001b[1;33m.\u001b[0m\u001b[0mmask_missing\u001b[0m\u001b[1;33m(\u001b[0m\u001b[0mself\u001b[0m\u001b[1;33m.\u001b[0m\u001b[0mvalues\u001b[0m\u001b[1;33m,\u001b[0m \u001b[0ms\u001b[0m\u001b[1;33m[\u001b[0m\u001b[1;36m0\u001b[0m\u001b[1;33m]\u001b[0m\u001b[1;33m)\u001b[0m \u001b[1;32mfor\u001b[0m \u001b[0ms\u001b[0m \u001b[1;32min\u001b[0m \u001b[0mpairs\u001b[0m\u001b[1;33m]\u001b[0m\u001b[1;33m\u001b[0m\u001b[1;33m\u001b[0m\u001b[0m\n\u001b[0m\u001b[0;32m    892\u001b[0m \u001b[1;33m\u001b[0m\u001b[0m\n\u001b[0;32m    893\u001b[0m         \u001b[0mmasks\u001b[0m \u001b[1;33m=\u001b[0m \u001b[1;33m[\u001b[0m\u001b[0m_extract_bool_array\u001b[0m\u001b[1;33m(\u001b[0m\u001b[0mx\u001b[0m\u001b[1;33m)\u001b[0m \u001b[1;32mfor\u001b[0m \u001b[0mx\u001b[0m \u001b[1;32min\u001b[0m \u001b[0mmasks\u001b[0m\u001b[1;33m]\u001b[0m\u001b[1;33m\u001b[0m\u001b[1;33m\u001b[0m\u001b[0m\n",
      "\u001b[1;32m~\\anaconda3\\envs\\dsenv\\lib\\site-packages\\pandas\\core\\internals\\blocks.py\u001b[0m in \u001b[0;36m<listcomp>\u001b[1;34m(.0)\u001b[0m\n\u001b[0;32m    889\u001b[0m         \u001b[1;32melse\u001b[0m\u001b[1;33m:\u001b[0m\u001b[1;33m\u001b[0m\u001b[1;33m\u001b[0m\u001b[0m\n\u001b[0;32m    890\u001b[0m             \u001b[1;31m# GH#38086 faster if we know we dont need to check for regex\u001b[0m\u001b[1;33m\u001b[0m\u001b[1;33m\u001b[0m\u001b[1;33m\u001b[0m\u001b[0m\n\u001b[1;32m--> 891\u001b[1;33m             \u001b[0mmasks\u001b[0m \u001b[1;33m=\u001b[0m \u001b[1;33m[\u001b[0m\u001b[0mmissing\u001b[0m\u001b[1;33m.\u001b[0m\u001b[0mmask_missing\u001b[0m\u001b[1;33m(\u001b[0m\u001b[0mself\u001b[0m\u001b[1;33m.\u001b[0m\u001b[0mvalues\u001b[0m\u001b[1;33m,\u001b[0m \u001b[0ms\u001b[0m\u001b[1;33m[\u001b[0m\u001b[1;36m0\u001b[0m\u001b[1;33m]\u001b[0m\u001b[1;33m)\u001b[0m \u001b[1;32mfor\u001b[0m \u001b[0ms\u001b[0m \u001b[1;32min\u001b[0m \u001b[0mpairs\u001b[0m\u001b[1;33m]\u001b[0m\u001b[1;33m\u001b[0m\u001b[1;33m\u001b[0m\u001b[0m\n\u001b[0m\u001b[0;32m    892\u001b[0m \u001b[1;33m\u001b[0m\u001b[0m\n\u001b[0;32m    893\u001b[0m         \u001b[0mmasks\u001b[0m \u001b[1;33m=\u001b[0m \u001b[1;33m[\u001b[0m\u001b[0m_extract_bool_array\u001b[0m\u001b[1;33m(\u001b[0m\u001b[0mx\u001b[0m\u001b[1;33m)\u001b[0m \u001b[1;32mfor\u001b[0m \u001b[0mx\u001b[0m \u001b[1;32min\u001b[0m \u001b[0mmasks\u001b[0m\u001b[1;33m]\u001b[0m\u001b[1;33m\u001b[0m\u001b[1;33m\u001b[0m\u001b[0m\n",
      "\u001b[1;32m~\\anaconda3\\envs\\dsenv\\lib\\site-packages\\pandas\\core\\missing.py\u001b[0m in \u001b[0;36mmask_missing\u001b[1;34m(arr, values_to_mask)\u001b[0m\n\u001b[0;32m     54\u001b[0m             \u001b[1;32mpass\u001b[0m\u001b[1;33m\u001b[0m\u001b[1;33m\u001b[0m\u001b[0m\n\u001b[0;32m     55\u001b[0m         \u001b[1;32melse\u001b[0m\u001b[1;33m:\u001b[0m\u001b[1;33m\u001b[0m\u001b[1;33m\u001b[0m\u001b[0m\n\u001b[1;32m---> 56\u001b[1;33m             \u001b[0mmask\u001b[0m \u001b[1;33m|=\u001b[0m \u001b[0marr\u001b[0m \u001b[1;33m==\u001b[0m \u001b[0mx\u001b[0m\u001b[1;33m\u001b[0m\u001b[1;33m\u001b[0m\u001b[0m\n\u001b[0m\u001b[0;32m     57\u001b[0m \u001b[1;33m\u001b[0m\u001b[0m\n\u001b[0;32m     58\u001b[0m     \u001b[1;32mif\u001b[0m \u001b[0mna_mask\u001b[0m\u001b[1;33m.\u001b[0m\u001b[0many\u001b[0m\u001b[1;33m(\u001b[0m\u001b[1;33m)\u001b[0m\u001b[1;33m:\u001b[0m\u001b[1;33m\u001b[0m\u001b[1;33m\u001b[0m\u001b[0m\n",
      "\u001b[1;31mKeyboardInterrupt\u001b[0m: "
     ]
    }
   ],
   "source": [
    "#di = dict(zip(df.product_id.unique(),np.arange(products)))\n",
    "#df['product_id_code'] =df['product_id'].replace(di)"
   ]
  },
  {
   "cell_type": "code",
   "execution_count": 124,
   "metadata": {},
   "outputs": [
    {
     "output_type": "execute_result",
     "data": {
      "text/plain": [
       "          user_id                          user_session  \\\n",
       "0         4103071  8930ec72-36b0-4be9-80c7-af93b9f477c6   \n",
       "1         8846226  ddd23270-792c-49f3-9ae2-d86f5080a5eb   \n",
       "2         8846226  f835c9a8-cb8a-4201-85d4-00565bcc84ad   \n",
       "3         9794320  1be8fa80-8036-4d95-93da-494a08d82cb5   \n",
       "4         9794320  9f8afcc5-abe6-47a6-93d5-290d350cea5e   \n",
       "...           ...                                   ...   \n",
       "826165  566279639  c2cd9fb0-ad5c-476d-862e-4a48420ebc6a   \n",
       "826166  566279883  bd4d4392-42ad-4373-a8cd-1c7a4bd6b01a   \n",
       "826167  566279996  21512135-c819-4fef-885d-76607526652b   \n",
       "826168  566280278  5c4f78a3-ebf5-4606-946f-6a3a0b8852d2   \n",
       "826169  566280798  4eaf7c71-e8bf-4ea6-b719-eca144466eb3   \n",
       "\n",
       "                              product_id_code  \n",
       "0       [4279, 5704, 1642, 14499, 4083, 4277]  \n",
       "1                        [22450, 1935, 10990]  \n",
       "2                  [20230, 8624, 22450, 5388]  \n",
       "3                                [1744, 8735]  \n",
       "4                                      [1744]  \n",
       "...                                       ...  \n",
       "826165                                [33736]  \n",
       "826166                                  [206]  \n",
       "826167                                  [567]  \n",
       "826168                           [130, 24059]  \n",
       "826169                                 [3788]  \n",
       "\n",
       "[826170 rows x 3 columns]"
      ],
      "text/html": "<div>\n<style scoped>\n    .dataframe tbody tr th:only-of-type {\n        vertical-align: middle;\n    }\n\n    .dataframe tbody tr th {\n        vertical-align: top;\n    }\n\n    .dataframe thead th {\n        text-align: right;\n    }\n</style>\n<table border=\"1\" class=\"dataframe\">\n  <thead>\n    <tr style=\"text-align: right;\">\n      <th></th>\n      <th>user_id</th>\n      <th>user_session</th>\n      <th>product_id_code</th>\n    </tr>\n  </thead>\n  <tbody>\n    <tr>\n      <th>0</th>\n      <td>4103071</td>\n      <td>8930ec72-36b0-4be9-80c7-af93b9f477c6</td>\n      <td>[4279, 5704, 1642, 14499, 4083, 4277]</td>\n    </tr>\n    <tr>\n      <th>1</th>\n      <td>8846226</td>\n      <td>ddd23270-792c-49f3-9ae2-d86f5080a5eb</td>\n      <td>[22450, 1935, 10990]</td>\n    </tr>\n    <tr>\n      <th>2</th>\n      <td>8846226</td>\n      <td>f835c9a8-cb8a-4201-85d4-00565bcc84ad</td>\n      <td>[20230, 8624, 22450, 5388]</td>\n    </tr>\n    <tr>\n      <th>3</th>\n      <td>9794320</td>\n      <td>1be8fa80-8036-4d95-93da-494a08d82cb5</td>\n      <td>[1744, 8735]</td>\n    </tr>\n    <tr>\n      <th>4</th>\n      <td>9794320</td>\n      <td>9f8afcc5-abe6-47a6-93d5-290d350cea5e</td>\n      <td>[1744]</td>\n    </tr>\n    <tr>\n      <th>...</th>\n      <td>...</td>\n      <td>...</td>\n      <td>...</td>\n    </tr>\n    <tr>\n      <th>826165</th>\n      <td>566279639</td>\n      <td>c2cd9fb0-ad5c-476d-862e-4a48420ebc6a</td>\n      <td>[33736]</td>\n    </tr>\n    <tr>\n      <th>826166</th>\n      <td>566279883</td>\n      <td>bd4d4392-42ad-4373-a8cd-1c7a4bd6b01a</td>\n      <td>[206]</td>\n    </tr>\n    <tr>\n      <th>826167</th>\n      <td>566279996</td>\n      <td>21512135-c819-4fef-885d-76607526652b</td>\n      <td>[567]</td>\n    </tr>\n    <tr>\n      <th>826168</th>\n      <td>566280278</td>\n      <td>5c4f78a3-ebf5-4606-946f-6a3a0b8852d2</td>\n      <td>[130, 24059]</td>\n    </tr>\n    <tr>\n      <th>826169</th>\n      <td>566280798</td>\n      <td>4eaf7c71-e8bf-4ea6-b719-eca144466eb3</td>\n      <td>[3788]</td>\n    </tr>\n  </tbody>\n</table>\n<p>826170 rows × 3 columns</p>\n</div>"
     },
     "metadata": {},
     "execution_count": 124
    }
   ],
   "source": [
    "dataset = df.groupby(['user_id', 'user_session']).product_id_code.unique().apply(list).reset_index()\n",
    "dataset"
   ]
  },
  {
   "cell_type": "code",
   "execution_count": 61,
   "metadata": {},
   "outputs": [
    {
     "output_type": "execute_result",
     "data": {
      "text/plain": [
       "          user_id                          user_session          product_id\n",
       "3         9794320  1be8fa80-8036-4d95-93da-494a08d82cb5  [5844670, 5824819]\n",
       "4         9794320  9f8afcc5-abe6-47a6-93d5-290d350cea5e           [5844670]\n",
       "7        10702733  09cd095c-eaf3-4a1b-9dff-d3e3ff4eb83c  [5802651, 5802540]\n",
       "8        10968431  7d6f82ba-be84-4afc-9abd-bb96ee81e5fe           [5853467]\n",
       "9        12055855  98b129c4-2ab1-4e89-8511-de4bf7f0d943  [5770032, 5769907]\n",
       "...           ...                                   ...                 ...\n",
       "826165  566279639  c2cd9fb0-ad5c-476d-862e-4a48420ebc6a           [5800421]\n",
       "826166  566279883  bd4d4392-42ad-4373-a8cd-1c7a4bd6b01a           [5618276]\n",
       "826167  566279996  21512135-c819-4fef-885d-76607526652b           [5700137]\n",
       "826168  566280278  5c4f78a3-ebf5-4606-946f-6a3a0b8852d2  [5809910, 5870981]\n",
       "826169  566280798  4eaf7c71-e8bf-4ea6-b719-eca144466eb3             [59996]\n",
       "\n",
       "[718573 rows x 3 columns]"
      ],
      "text/html": "<div>\n<style scoped>\n    .dataframe tbody tr th:only-of-type {\n        vertical-align: middle;\n    }\n\n    .dataframe tbody tr th {\n        vertical-align: top;\n    }\n\n    .dataframe thead th {\n        text-align: right;\n    }\n</style>\n<table border=\"1\" class=\"dataframe\">\n  <thead>\n    <tr style=\"text-align: right;\">\n      <th></th>\n      <th>user_id</th>\n      <th>user_session</th>\n      <th>product_id</th>\n    </tr>\n  </thead>\n  <tbody>\n    <tr>\n      <th>3</th>\n      <td>9794320</td>\n      <td>1be8fa80-8036-4d95-93da-494a08d82cb5</td>\n      <td>[5844670, 5824819]</td>\n    </tr>\n    <tr>\n      <th>4</th>\n      <td>9794320</td>\n      <td>9f8afcc5-abe6-47a6-93d5-290d350cea5e</td>\n      <td>[5844670]</td>\n    </tr>\n    <tr>\n      <th>7</th>\n      <td>10702733</td>\n      <td>09cd095c-eaf3-4a1b-9dff-d3e3ff4eb83c</td>\n      <td>[5802651, 5802540]</td>\n    </tr>\n    <tr>\n      <th>8</th>\n      <td>10968431</td>\n      <td>7d6f82ba-be84-4afc-9abd-bb96ee81e5fe</td>\n      <td>[5853467]</td>\n    </tr>\n    <tr>\n      <th>9</th>\n      <td>12055855</td>\n      <td>98b129c4-2ab1-4e89-8511-de4bf7f0d943</td>\n      <td>[5770032, 5769907]</td>\n    </tr>\n    <tr>\n      <th>...</th>\n      <td>...</td>\n      <td>...</td>\n      <td>...</td>\n    </tr>\n    <tr>\n      <th>826165</th>\n      <td>566279639</td>\n      <td>c2cd9fb0-ad5c-476d-862e-4a48420ebc6a</td>\n      <td>[5800421]</td>\n    </tr>\n    <tr>\n      <th>826166</th>\n      <td>566279883</td>\n      <td>bd4d4392-42ad-4373-a8cd-1c7a4bd6b01a</td>\n      <td>[5618276]</td>\n    </tr>\n    <tr>\n      <th>826167</th>\n      <td>566279996</td>\n      <td>21512135-c819-4fef-885d-76607526652b</td>\n      <td>[5700137]</td>\n    </tr>\n    <tr>\n      <th>826168</th>\n      <td>566280278</td>\n      <td>5c4f78a3-ebf5-4606-946f-6a3a0b8852d2</td>\n      <td>[5809910, 5870981]</td>\n    </tr>\n    <tr>\n      <th>826169</th>\n      <td>566280798</td>\n      <td>4eaf7c71-e8bf-4ea6-b719-eca144466eb3</td>\n      <td>[59996]</td>\n    </tr>\n  </tbody>\n</table>\n<p>718573 rows × 3 columns</p>\n</div>"
     },
     "metadata": {},
     "execution_count": 61
    }
   ],
   "source": [
    "dataset[[len(x)<=2 for x in dataset.product_id]]"
   ]
  },
  {
   "cell_type": "code",
   "execution_count": 126,
   "metadata": {},
   "outputs": [],
   "source": [
    "dataset.drop(dataset[[len(x)<=2 for x in dataset.product_id_code]].index, inplace=True)"
   ]
  },
  {
   "cell_type": "code",
   "execution_count": 28,
   "metadata": {},
   "outputs": [],
   "source": [
    "dataset.drop(columns=['user_id', 'user_session'], axis=1, inplace=True)"
   ]
  },
  {
   "cell_type": "code",
   "execution_count": 127,
   "metadata": {},
   "outputs": [
    {
     "output_type": "execute_result",
     "data": {
      "text/plain": [
       "          user_id                          user_session  \\\n",
       "0         4103071  8930ec72-36b0-4be9-80c7-af93b9f477c6   \n",
       "1         8846226  ddd23270-792c-49f3-9ae2-d86f5080a5eb   \n",
       "2         8846226  f835c9a8-cb8a-4201-85d4-00565bcc84ad   \n",
       "5        10280338  e973c7ea-221b-4885-a593-23da8116a62b   \n",
       "6        10280338  fbacb4a3-2141-4f43-b9e5-97c911c7e770   \n",
       "...           ...                                   ...   \n",
       "826112  566272734  573d9260-4f53-414b-9b96-7f2d135cbc64   \n",
       "826113  566272856  87490d2e-4c97-49c2-b1a1-dda9b5668614   \n",
       "826121  566273933  63e1d079-4814-43a8-8ca9-1d2943aa3e42   \n",
       "826122  566273978  c2d3b5fa-445a-432e-bfa8-bea9652e3cfe   \n",
       "826129  566274533  be38a4a3-aea3-43f6-8422-24e0386fe226   \n",
       "\n",
       "                                          product_id_code  \n",
       "0                   [4279, 5704, 1642, 14499, 4083, 4277]  \n",
       "1                                    [22450, 1935, 10990]  \n",
       "2                              [20230, 8624, 22450, 5388]  \n",
       "5                    [597, 16163, 2661, 1877, 6071, 5643]  \n",
       "6       [597, 4575, 14636, 1791, 9027, 7957, 5743, 212...  \n",
       "...                                                   ...  \n",
       "826112                          [1365, 5710, 27376, 9894]  \n",
       "826113                                  [78, 7510, 20469]  \n",
       "826121                               [7633, 25942, 11265]  \n",
       "826122                           [9428, 7896, 18700, 738]  \n",
       "826129                  [24385, 8572, 10876, 26463, 8735]  \n",
       "\n",
       "[107597 rows x 3 columns]"
      ],
      "text/html": "<div>\n<style scoped>\n    .dataframe tbody tr th:only-of-type {\n        vertical-align: middle;\n    }\n\n    .dataframe tbody tr th {\n        vertical-align: top;\n    }\n\n    .dataframe thead th {\n        text-align: right;\n    }\n</style>\n<table border=\"1\" class=\"dataframe\">\n  <thead>\n    <tr style=\"text-align: right;\">\n      <th></th>\n      <th>user_id</th>\n      <th>user_session</th>\n      <th>product_id_code</th>\n    </tr>\n  </thead>\n  <tbody>\n    <tr>\n      <th>0</th>\n      <td>4103071</td>\n      <td>8930ec72-36b0-4be9-80c7-af93b9f477c6</td>\n      <td>[4279, 5704, 1642, 14499, 4083, 4277]</td>\n    </tr>\n    <tr>\n      <th>1</th>\n      <td>8846226</td>\n      <td>ddd23270-792c-49f3-9ae2-d86f5080a5eb</td>\n      <td>[22450, 1935, 10990]</td>\n    </tr>\n    <tr>\n      <th>2</th>\n      <td>8846226</td>\n      <td>f835c9a8-cb8a-4201-85d4-00565bcc84ad</td>\n      <td>[20230, 8624, 22450, 5388]</td>\n    </tr>\n    <tr>\n      <th>5</th>\n      <td>10280338</td>\n      <td>e973c7ea-221b-4885-a593-23da8116a62b</td>\n      <td>[597, 16163, 2661, 1877, 6071, 5643]</td>\n    </tr>\n    <tr>\n      <th>6</th>\n      <td>10280338</td>\n      <td>fbacb4a3-2141-4f43-b9e5-97c911c7e770</td>\n      <td>[597, 4575, 14636, 1791, 9027, 7957, 5743, 212...</td>\n    </tr>\n    <tr>\n      <th>...</th>\n      <td>...</td>\n      <td>...</td>\n      <td>...</td>\n    </tr>\n    <tr>\n      <th>826112</th>\n      <td>566272734</td>\n      <td>573d9260-4f53-414b-9b96-7f2d135cbc64</td>\n      <td>[1365, 5710, 27376, 9894]</td>\n    </tr>\n    <tr>\n      <th>826113</th>\n      <td>566272856</td>\n      <td>87490d2e-4c97-49c2-b1a1-dda9b5668614</td>\n      <td>[78, 7510, 20469]</td>\n    </tr>\n    <tr>\n      <th>826121</th>\n      <td>566273933</td>\n      <td>63e1d079-4814-43a8-8ca9-1d2943aa3e42</td>\n      <td>[7633, 25942, 11265]</td>\n    </tr>\n    <tr>\n      <th>826122</th>\n      <td>566273978</td>\n      <td>c2d3b5fa-445a-432e-bfa8-bea9652e3cfe</td>\n      <td>[9428, 7896, 18700, 738]</td>\n    </tr>\n    <tr>\n      <th>826129</th>\n      <td>566274533</td>\n      <td>be38a4a3-aea3-43f6-8422-24e0386fe226</td>\n      <td>[24385, 8572, 10876, 26463, 8735]</td>\n    </tr>\n  </tbody>\n</table>\n<p>107597 rows × 3 columns</p>\n</div>"
     },
     "metadata": {},
     "execution_count": 127
    }
   ],
   "source": [
    "dataset"
   ]
  },
  {
   "cell_type": "code",
   "execution_count": 129,
   "metadata": {},
   "outputs": [
    {
     "output_type": "execute_result",
     "data": {
      "text/plain": [
       "array([list([4279, 5704, 1642, 14499, 4083, 4277]),\n",
       "       list([22450, 1935, 10990]), list([20230, 8624, 22450, 5388]), ...,\n",
       "       list([7633, 25942, 11265]), list([9428, 7896, 18700, 738]),\n",
       "       list([24385, 8572, 10876, 26463, 8735])], dtype=object)"
      ]
     },
     "metadata": {},
     "execution_count": 129
    }
   ],
   "source": [
    "seq = np.array(dataset.product_id_code)\n",
    "#seq = dataset.product_id.to_numpy()\n",
    "seq"
   ]
  },
  {
   "cell_type": "code",
   "execution_count": 130,
   "metadata": {},
   "outputs": [],
   "source": [
    "for row in range(len(seq)):\n",
    "    a = []\n",
    "    for i in range(len(seq[row])-2):\n",
    "        a.append((seq[row][i], seq[row][i+1], seq[row][i+2]))\n",
    "    seq[row] = a"
   ]
  },
  {
   "cell_type": "code",
   "execution_count": 131,
   "metadata": {},
   "outputs": [
    {
     "output_type": "execute_result",
     "data": {
      "text/plain": [
       "array([list([(4279, 5704, 1642), (5704, 1642, 14499), (1642, 14499, 4083), (14499, 4083, 4277)]),\n",
       "       list([(22450, 1935, 10990)]),\n",
       "       list([(20230, 8624, 22450), (8624, 22450, 5388)]), ...,\n",
       "       list([(7633, 25942, 11265)]),\n",
       "       list([(9428, 7896, 18700), (7896, 18700, 738)]),\n",
       "       list([(24385, 8572, 10876), (8572, 10876, 26463), (10876, 26463, 8735)])],\n",
       "      dtype=object)"
      ]
     },
     "metadata": {},
     "execution_count": 131
    }
   ],
   "source": [
    "seq"
   ]
  },
  {
   "cell_type": "code",
   "execution_count": 134,
   "metadata": {},
   "outputs": [],
   "source": [
    "sequences = []\n",
    "for row in seq:\n",
    "    for s in row:\n",
    "        sequences.append(s)"
   ]
  },
  {
   "cell_type": "code",
   "execution_count": 135,
   "metadata": {},
   "outputs": [
    {
     "output_type": "execute_result",
     "data": {
      "text/plain": [
       "array([[ 4279,  5704,  1642],\n",
       "       [ 5704,  1642, 14499],\n",
       "       [ 1642, 14499,  4083],\n",
       "       ...,\n",
       "       [24385,  8572, 10876],\n",
       "       [ 8572, 10876, 26463],\n",
       "       [10876, 26463,  8735]], dtype=int64)"
      ]
     },
     "metadata": {},
     "execution_count": 135
    }
   ],
   "source": [
    "sequences = np.array(sequences)\n",
    "sequences"
   ]
  },
  {
   "cell_type": "code",
   "execution_count": 136,
   "metadata": {},
   "outputs": [
    {
     "output_type": "execute_result",
     "data": {
      "text/plain": [
       "(605178, 3)"
      ]
     },
     "metadata": {},
     "execution_count": 136
    }
   ],
   "source": [
    "sequences.shape"
   ]
  },
  {
   "cell_type": "code",
   "execution_count": 137,
   "metadata": {},
   "outputs": [],
   "source": [
    "X = sequences[:,:-1]\n",
    "Y = sequences[:,-1]"
   ]
  },
  {
   "cell_type": "code",
   "execution_count": 109,
   "metadata": {},
   "outputs": [
    {
     "output_type": "stream",
     "name": "stdout",
     "text": [
      "(605178, 2) (605178,)\n"
     ]
    }
   ],
   "source": [
    "print(X.shape, Y.shape)"
   ]
  },
  {
   "cell_type": "code",
   "execution_count": 148,
   "metadata": {},
   "outputs": [],
   "source": [
    "train_size = int(len(sequences) * 0.70)\n",
    "test_size = len(sequences) - train_size\n",
    "train, test = sequences[0:train_size, :], sequences[train_size:, :]\n",
    "train_x, train_y = sequences[0:train_size, 0], sequences[0:train_size, 1]\n",
    "test_x, test_y = sequences[train_size:, 0], sequences[train_size:, 1]"
   ]
  },
  {
   "cell_type": "code",
   "execution_count": 110,
   "metadata": {},
   "outputs": [],
   "source": [
    "from keras.utils import to_categorical\n",
    "from keras.models import Sequential\n",
    "from keras.layers import Embedding, Dropout, LSTM, Dense"
   ]
  },
  {
   "cell_type": "code",
   "execution_count": 138,
   "metadata": {},
   "outputs": [
    {
     "output_type": "execute_result",
     "data": {
      "text/plain": [
       "41372"
      ]
     },
     "metadata": {},
     "execution_count": 138
    }
   ],
   "source": [
    "products = len(df.product_id.unique())\n",
    "products"
   ]
  },
  {
   "cell_type": "code",
   "execution_count": 41,
   "metadata": {},
   "outputs": [
    {
     "output_type": "execute_result",
     "data": {
      "text/plain": [
       "array([['5784982', '5795273'],\n",
       "       ['5795273', '5670334'],\n",
       "       ['5670334', '5735272'],\n",
       "       ...,\n",
       "       ['5875720', '5875719'],\n",
       "       ['5875811', '5875809'],\n",
       "       ['5875809', '5875810']], dtype='<U7')"
      ]
     },
     "metadata": {},
     "execution_count": 41
    }
   ],
   "source": [
    "train"
   ]
  },
  {
   "cell_type": "code",
   "execution_count": 42,
   "metadata": {},
   "outputs": [
    {
     "output_type": "error",
     "ename": "MemoryError",
     "evalue": "Unable to allocate 120. GiB for an array with shape (781760, 41372) and data type float32",
     "traceback": [
      "\u001b[1;31m---------------------------------------------------------------------------\u001b[0m",
      "\u001b[1;31mMemoryError\u001b[0m                               Traceback (most recent call last)",
      "\u001b[1;32m<ipython-input-42-7d2654999624>\u001b[0m in \u001b[0;36m<module>\u001b[1;34m\u001b[0m\n\u001b[1;32m----> 1\u001b[1;33m \u001b[0mY\u001b[0m \u001b[1;33m=\u001b[0m \u001b[0mto_categorical\u001b[0m\u001b[1;33m(\u001b[0m\u001b[0mY\u001b[0m\u001b[1;33m,\u001b[0m \u001b[0mnum_classes\u001b[0m\u001b[1;33m=\u001b[0m\u001b[0mlen\u001b[0m\u001b[1;33m(\u001b[0m\u001b[0mdf\u001b[0m\u001b[1;33m.\u001b[0m\u001b[0mproduct_id\u001b[0m\u001b[1;33m.\u001b[0m\u001b[0munique\u001b[0m\u001b[1;33m(\u001b[0m\u001b[1;33m)\u001b[0m\u001b[1;33m)\u001b[0m\u001b[1;33m)\u001b[0m\u001b[1;33m\u001b[0m\u001b[1;33m\u001b[0m\u001b[0m\n\u001b[0m\u001b[0;32m      2\u001b[0m \u001b[0mY\u001b[0m\u001b[1;33m\u001b[0m\u001b[1;33m\u001b[0m\u001b[0m\n",
      "\u001b[1;32m~\\anaconda3\\envs\\dsenv\\lib\\site-packages\\tensorflow\\python\\keras\\utils\\np_utils.py\u001b[0m in \u001b[0;36mto_categorical\u001b[1;34m(y, num_classes, dtype)\u001b[0m\n\u001b[0;32m     75\u001b[0m     \u001b[0mnum_classes\u001b[0m \u001b[1;33m=\u001b[0m \u001b[0mnp\u001b[0m\u001b[1;33m.\u001b[0m\u001b[0mmax\u001b[0m\u001b[1;33m(\u001b[0m\u001b[0my\u001b[0m\u001b[1;33m)\u001b[0m \u001b[1;33m+\u001b[0m \u001b[1;36m1\u001b[0m\u001b[1;33m\u001b[0m\u001b[1;33m\u001b[0m\u001b[0m\n\u001b[0;32m     76\u001b[0m   \u001b[0mn\u001b[0m \u001b[1;33m=\u001b[0m \u001b[0my\u001b[0m\u001b[1;33m.\u001b[0m\u001b[0mshape\u001b[0m\u001b[1;33m[\u001b[0m\u001b[1;36m0\u001b[0m\u001b[1;33m]\u001b[0m\u001b[1;33m\u001b[0m\u001b[1;33m\u001b[0m\u001b[0m\n\u001b[1;32m---> 77\u001b[1;33m   \u001b[0mcategorical\u001b[0m \u001b[1;33m=\u001b[0m \u001b[0mnp\u001b[0m\u001b[1;33m.\u001b[0m\u001b[0mzeros\u001b[0m\u001b[1;33m(\u001b[0m\u001b[1;33m(\u001b[0m\u001b[0mn\u001b[0m\u001b[1;33m,\u001b[0m \u001b[0mnum_classes\u001b[0m\u001b[1;33m)\u001b[0m\u001b[1;33m,\u001b[0m \u001b[0mdtype\u001b[0m\u001b[1;33m=\u001b[0m\u001b[0mdtype\u001b[0m\u001b[1;33m)\u001b[0m\u001b[1;33m\u001b[0m\u001b[1;33m\u001b[0m\u001b[0m\n\u001b[0m\u001b[0;32m     78\u001b[0m   \u001b[0mcategorical\u001b[0m\u001b[1;33m[\u001b[0m\u001b[0mnp\u001b[0m\u001b[1;33m.\u001b[0m\u001b[0marange\u001b[0m\u001b[1;33m(\u001b[0m\u001b[0mn\u001b[0m\u001b[1;33m)\u001b[0m\u001b[1;33m,\u001b[0m \u001b[0my\u001b[0m\u001b[1;33m]\u001b[0m \u001b[1;33m=\u001b[0m \u001b[1;36m1\u001b[0m\u001b[1;33m\u001b[0m\u001b[1;33m\u001b[0m\u001b[0m\n\u001b[0;32m     79\u001b[0m   \u001b[0moutput_shape\u001b[0m \u001b[1;33m=\u001b[0m \u001b[0minput_shape\u001b[0m \u001b[1;33m+\u001b[0m \u001b[1;33m(\u001b[0m\u001b[0mnum_classes\u001b[0m\u001b[1;33m,\u001b[0m\u001b[1;33m)\u001b[0m\u001b[1;33m\u001b[0m\u001b[1;33m\u001b[0m\u001b[0m\n",
      "\u001b[1;31mMemoryError\u001b[0m: Unable to allocate 120. GiB for an array with shape (781760, 41372) and data type float32"
     ]
    }
   ],
   "source": [
    "Y = to_categorical(Y, num_classes=len(df.product_id.unique()))\n",
    "Y"
   ]
  },
  {
   "cell_type": "code",
   "execution_count": 43,
   "metadata": {},
   "outputs": [
    {
     "output_type": "execute_result",
     "data": {
      "text/plain": [
       "array([[['5784982']],\n",
       "\n",
       "       [['5795273']],\n",
       "\n",
       "       [['5670334']],\n",
       "\n",
       "       ...,\n",
       "\n",
       "       [['5875720']],\n",
       "\n",
       "       [['5875811']],\n",
       "\n",
       "       [['5875809']]], dtype='<U7')"
      ]
     },
     "metadata": {},
     "execution_count": 43
    }
   ],
   "source": [
    "np.reshape(train_x, (train_x.shape[0], -1, 1))"
   ]
  },
  {
   "cell_type": "code",
   "execution_count": 188,
   "metadata": {},
   "outputs": [],
   "source": [
    "import keras\n",
    "class DataGenerator(keras.utils.Sequence):\n",
    "    'Generates data for Keras'\n",
    "    def __init__(self, data, labels, batch_size=32, dim=(32,32), n_channels=1,\n",
    "                 n_classes=10, shuffle=True):\n",
    "        'Initialization'\n",
    "        self.dim = dim\n",
    "        self.batch_size = batch_size\n",
    "        self.labels = labels\n",
    "        self.data = data\n",
    "        self.n_channels = n_channels\n",
    "        self.n_classes = n_classes\n",
    "        self.shuffle = shuffle\n",
    "        self.on_epoch_end()\n",
    "\n",
    "    def __len__(self):\n",
    "        'Denotes the number of batches per epoch'\n",
    "        return int(np.floor(len(self.data) / self.batch_size))\n",
    "\n",
    "    def __getitem__(self, index):\n",
    "        'Generate one batch of data'\n",
    "        # Generate indexes of the batch\n",
    "        indexes = self.indexes[index*self.batch_size:(index+1)*self.batch_size]\n",
    "        list_ID = [x for x in range(len(self.data))]\n",
    "        # Find list of IDs\n",
    "        list_IDs_temp = [self.data[k] for k in indexes]\n",
    "\n",
    "        # Generate data\n",
    "        X, y = self.__data_generation(list_IDs_temp)\n",
    "        #print(X)\n",
    "        print(X.shape, y.shape)\n",
    "        return X, y\n",
    "\n",
    "    def on_epoch_end(self):\n",
    "        'Updates indexes after each epoch'\n",
    "        self.indexes = np.arange(len(self.data))\n",
    "        if self.shuffle == True:\n",
    "            np.random.shuffle(self.indexes)\n",
    "\n",
    "    def __data_generation(self, list_IDs_temp):\n",
    "        'Generates data containing batch_size samples' # X : (n_samples, *dim, n_channels)\n",
    "        # Initialization\n",
    "        X = np.empty((self.batch_size, *self.dim), dtype=int)\n",
    "        y = np.empty((self.batch_size), dtype=int)\n",
    "        #di = dict(zip(self.labels,np.arange(self.n_classes)))\n",
    "        # Generate data\n",
    "        for i, ID in enumerate(list_IDs_temp):\n",
    "            # Store sample\n",
    "            #print((ID[0], ID[1]))\n",
    "            X[i,0] = ID[0]\n",
    "            X[i,1] = ID[1]\n",
    "\n",
    "            # Store class\n",
    "            y[i] = ID[-1]\n",
    "        return X, to_categorical(y, num_classes=self.n_classes)"
   ]
  },
  {
   "cell_type": "code",
   "execution_count": 189,
   "metadata": {},
   "outputs": [],
   "source": [
    "training_generator = DataGenerator(train, df.product_id.unique(), n_classes=products, dim=(2,1))\n",
    "validation_generator = DataGenerator(test, df.product_id.unique(), n_classes=products, dim=(2,1))"
   ]
  },
  {
   "cell_type": "code",
   "execution_count": 190,
   "metadata": {},
   "outputs": [],
   "source": [
    "model = Sequential()\n",
    "#model.add(Embedding(products, 5, input_length=2))\n",
    "#model.add(Dropout(0.2))\n",
    "model.add(LSTM(5, return_sequences=True, input_shape=(2,1)))\n",
    "model.add(LSTM(5, return_sequences=False))\n",
    "model.add(Dropout(0.2))\n",
    "model.add(Dense(products, activation='softmax'))\n",
    "model.compile(loss='categorical_crossentropy', optimizer='adam', metrics=['acc'])"
   ]
  },
  {
   "cell_type": "code",
   "execution_count": 185,
   "metadata": {},
   "outputs": [
    {
     "output_type": "stream",
     "name": "stdout",
     "text": [
      "Model: \"sequential_8\"\n_________________________________________________________________\nLayer (type)                 Output Shape              Param #   \n=================================================================\nlstm_15 (LSTM)               (None, 2, 5)              140       \n_________________________________________________________________\nlstm_16 (LSTM)               (None, 5)                 220       \n_________________________________________________________________\ndropout_12 (Dropout)         (None, 5)                 0         \n_________________________________________________________________\ndense_7 (Dense)              (None, 41372)             248232    \n=================================================================\nTotal params: 248,592\nTrainable params: 248,592\nNon-trainable params: 0\n_________________________________________________________________\n"
     ]
    }
   ],
   "source": [
    "model.summary()"
   ]
  },
  {
   "cell_type": "code",
   "execution_count": 191,
   "metadata": {
    "tags": [
     "outputPrepend"
    ]
   },
   "outputs": [
    {
     "output_type": "stream",
     "name": "stdout",
     "text": [
      "(32, 2, 1) (32, 41372)\n",
      "(32, 2, 1) (32, 41372)\n",
      "(32, 2, 1) (32, 41372)\n",
      "(32, 2, 1) (32, 41372)\n",
      "(32, 2, 1) (32, 41372)\n",
      "(32, 2, 1) (32, 41372)\n",
      "(32, 2, 1) (32, 41372)\n",
      "(32, 2, 1) (32, 41372)\n",
      "(32, 2, 1) (32, 41372)\n",
      "(32, 2, 1) (32, 41372)\n",
      "(32, 2, 1) (32, 41372)\n",
      "(32, 2, 1) (32, 41372)\n",
      "(32, 2, 1) (32, 41372)\n",
      "(32, 2, 1) (32, 41372)\n",
      "(32, 2, 1) (32, 41372)\n",
      "(32, 2, 1) (32, 41372)\n",
      "(32, 2, 1) (32, 41372)\n",
      "(32, 2, 1) (32, 41372)\n",
      "(32, 2, 1) (32, 41372)\n",
      "(32, 2, 1) (32, 41372)\n",
      "(32, 2, 1) (32, 41372)\n",
      "(32, 2, 1) (32, 41372)\n",
      "(32, 2, 1) (32, 41372)\n",
      "(32, 2, 1) (32, 41372)\n",
      "(32, 2, 1) (32, 41372)\n",
      "(32, 2, 1) (32, 41372)\n",
      "(32, 2, 1) (32, 41372)\n",
      "(32, 2, 1) (32, 41372)\n",
      "(32, 2, 1) (32, 41372)\n",
      "(32, 2, 1) (32, 41372)\n",
      "(32, 2, 1) (32, 41372)\n",
      "(32, 2, 1) (32, 41372)\n",
      "(32, 2, 1) (32, 41372)\n",
      "(32, 2, 1) (32, 41372)\n",
      "(32, 2, 1) (32, 41372)\n",
      "(32, 2, 1) (32, 41372)\n",
      "(32, 2, 1) (32, 41372)\n",
      "(32, 2, 1) (32, 41372)\n",
      "(32, 2, 1) (32, 41372)\n",
      "(32, 2, 1) (32, 41372)\n",
      "(32, 2, 1) (32, 41372)\n",
      "(32, 2, 1) (32, 41372)\n",
      "(32, 2, 1) (32, 41372)\n",
      "(32, 2, 1) (32, 41372)\n",
      "(32, 2, 1) (32, 41372)\n",
      "(32, 2, 1) (32, 41372)\n",
      "(32, 2, 1) (32, 41372)\n",
      "(32, 2, 1) (32, 41372)\n",
      "(32, 2, 1) (32, 41372)\n",
      "(32, 2, 1) (32, 41372)\n",
      "(32, 2, 1) (32, 41372)\n",
      "(32, 2, 1) (32, 41372)\n",
      "(32, 2, 1) (32, 41372)\n",
      "(32, 2, 1) (32, 41372)\n",
      "(32, 2, 1) (32, 41372)\n",
      "(32, 2, 1) (32, 41372)\n",
      "(32, 2, 1) (32, 41372)\n",
      "(32, 2, 1) (32, 41372)\n",
      "(32, 2, 1) (32, 41372)\n",
      "(32, 2, 1) (32, 41372)\n",
      "(32, 2, 1) (32, 41372)\n",
      "(32, 2, 1) (32, 41372)\n",
      "(32, 2, 1) (32, 41372)\n",
      "(32, 2, 1) (32, 41372)\n",
      "(32, 2, 1) (32, 41372)\n",
      "(32, 2, 1) (32, 41372)\n",
      "(32, 2, 1) (32, 41372)\n",
      "(32, 2, 1) (32, 41372)\n",
      "(32, 2, 1) (32, 41372)\n",
      "(32, 2, 1) (32, 41372)\n",
      "(32, 2, 1) (32, 41372)\n",
      "(32, 2, 1) (32, 41372)\n",
      "(32, 2, 1) (32, 41372)\n",
      "(32, 2, 1) (32, 41372)\n",
      "(32, 2, 1) (32, 41372)\n",
      "(32, 2, 1) (32, 41372)\n",
      "(32, 2, 1) (32, 41372)\n",
      "(32, 2, 1) (32, 41372)\n",
      "(32, 2, 1) (32, 41372)\n",
      "(32, 2, 1) (32, 41372)\n",
      "(32, 2, 1) (32, 41372)\n",
      "(32, 2, 1) (32, 41372)\n",
      "(32, 2, 1) (32, 41372)\n",
      "(32, 2, 1) (32, 41372)\n",
      "(32, 2, 1) (32, 41372)\n",
      "(32, 2, 1) (32, 41372)\n",
      "(32, 2, 1) (32, 41372)\n",
      "(32, 2, 1) (32, 41372)\n",
      "(32, 2, 1) (32, 41372)\n",
      "(32, 2, 1) (32, 41372)\n",
      "(32, 2, 1) (32, 41372)\n",
      "(32, 2, 1) (32, 41372)\n",
      "(32, 2, 1) (32, 41372)\n",
      "(32, 2, 1) (32, 41372)\n",
      "(32, 2, 1) (32, 41372)\n",
      "(32, 2, 1) (32, 41372)\n",
      "(32, 2, 1) (32, 41372)\n",
      "(32, 2, 1) (32, 41372)\n",
      "(32, 2, 1) (32, 41372)\n",
      "(32, 2, 1) (32, 41372)\n",
      "(32, 2, 1) (32, 41372)\n",
      "(32, 2, 1) (32, 41372)\n",
      "(32, 2, 1) (32, 41372)\n",
      "(32, 2, 1) (32, 41372)\n",
      "(32, 2, 1) (32, 41372)\n",
      "(32, 2, 1) (32, 41372)\n",
      "(32, 2, 1) (32, 41372)\n",
      "(32, 2, 1) (32, 41372)\n",
      "(32, 2, 1) (32, 41372)\n",
      "(32, 2, 1) (32, 41372)\n",
      "(32, 2, 1) (32, 41372)\n",
      "(32, 2, 1) (32, 41372)\n",
      "(32, 2, 1) (32, 41372)\n",
      "(32, 2, 1) (32, 41372)\n",
      "(32, 2, 1) (32, 41372)\n",
      "(32, 2, 1) (32, 41372)\n",
      "(32, 2, 1) (32, 41372)\n",
      "(32, 2, 1) (32, 41372)\n",
      "(32, 2, 1) (32, 41372)\n",
      "(32, 2, 1) (32, 41372)\n",
      "(32, 2, 1) (32, 41372)\n",
      "(32, 2, 1) (32, 41372)\n",
      "(32, 2, 1) (32, 41372)\n",
      "(32, 2, 1) (32, 41372)\n",
      "(32, 2, 1) (32, 41372)\n",
      "(32, 2, 1) (32, 41372)\n",
      "(32, 2, 1) (32, 41372)\n",
      "(32, 2, 1) (32, 41372)\n",
      "(32, 2, 1) (32, 41372)\n",
      "(32, 2, 1) (32, 41372)\n",
      "(32, 2, 1) (32, 41372)\n",
      "(32, 2, 1) (32, 41372)\n",
      "(32, 2, 1) (32, 41372)\n",
      "(32, 2, 1) (32, 41372)\n",
      "(32, 2, 1) (32, 41372)\n",
      "(32, 2, 1) (32, 41372)\n",
      "(32, 2, 1) (32, 41372)\n",
      "(32, 2, 1) (32, 41372)\n",
      "(32, 2, 1) (32, 41372)\n",
      "(32, 2, 1) (32, 41372)\n",
      "(32, 2, 1) (32, 41372)\n",
      "(32, 2, 1) (32, 41372)\n",
      "(32, 2, 1) (32, 41372)\n",
      "(32, 2, 1) (32, 41372)\n",
      "(32, 2, 1) (32, 41372)\n",
      "(32, 2, 1) (32, 41372)\n",
      "(32, 2, 1) (32, 41372)\n",
      "(32, 2, 1) (32, 41372)\n",
      "(32, 2, 1) (32, 41372)\n",
      "(32, 2, 1) (32, 41372)\n",
      "(32, 2, 1) (32, 41372)\n",
      "(32, 2, 1) (32, 41372)\n",
      "(32, 2, 1) (32, 41372)\n",
      "(32, 2, 1) (32, 41372)\n",
      "(32, 2, 1) (32, 41372)\n",
      "(32, 2, 1) (32, 41372)\n",
      "(32, 2, 1) (32, 41372)\n",
      "(32, 2, 1) (32, 41372)\n",
      "(32, 2, 1) (32, 41372)\n",
      "(32, 2, 1) (32, 41372)\n",
      "(32, 2, 1) (32, 41372)\n",
      "(32, 2, 1) (32, 41372)\n",
      "(32, 2, 1) (32, 41372)\n",
      "(32, 2, 1) (32, 41372)\n",
      "(32, 2, 1) (32, 41372)\n",
      "(32, 2, 1) (32, 41372)\n",
      "(32, 2, 1) (32, 41372)\n",
      "(32, 2, 1) (32, 41372)\n",
      "(32, 2, 1) (32, 41372)\n",
      "(32, 2, 1) (32, 41372)\n",
      "(32, 2, 1) (32, 41372)\n",
      "(32, 2, 1) (32, 41372)\n",
      "(32, 2, 1) (32, 41372)\n",
      "(32, 2, 1) (32, 41372)\n",
      "(32, 2, 1) (32, 41372)\n",
      "(32, 2, 1) (32, 41372)\n",
      "(32, 2, 1) (32, 41372)\n",
      "(32, 2, 1) (32, 41372)\n",
      "(32, 2, 1) (32, 41372)\n",
      "(32, 2, 1) (32, 41372)\n",
      "(32, 2, 1) (32, 41372)\n",
      "(32, 2, 1) (32, 41372)\n",
      "(32, 2, 1) (32, 41372)\n",
      "(32, 2, 1) (32, 41372)\n",
      "(32, 2, 1) (32, 41372)\n",
      "(32, 2, 1) (32, 41372)\n",
      "(32, 2, 1) (32, 41372)\n",
      "(32, 2, 1) (32, 41372)\n",
      "(32, 2, 1) (32, 41372)\n",
      "(32, 2, 1) (32, 41372)\n",
      "(32, 2, 1) (32, 41372)\n",
      "(32, 2, 1) (32, 41372)\n",
      "(32, 2, 1) (32, 41372)\n",
      "(32, 2, 1) (32, 41372)\n",
      "(32, 2, 1) (32, 41372)\n",
      "(32, 2, 1) (32, 41372)\n",
      "(32, 2, 1) (32, 41372)\n",
      "(32, 2, 1) (32, 41372)\n",
      "(32, 2, 1) (32, 41372)\n",
      "(32, 2, 1) (32, 41372)\n",
      "(32, 2, 1) (32, 41372)\n",
      "(32, 2, 1) (32, 41372)\n",
      "(32, 2, 1) (32, 41372)\n",
      "(32, 2, 1) (32, 41372)\n",
      "(32, 2, 1) (32, 41372)\n",
      "(32, 2, 1) (32, 41372)\n",
      "(32, 2, 1) (32, 41372)\n",
      "(32, 2, 1) (32, 41372)\n",
      "(32, 2, 1) (32, 41372)\n",
      "(32, 2, 1) (32, 41372)\n",
      "(32, 2, 1) (32, 41372)\n",
      "(32, 2, 1) (32, 41372)\n",
      "(32, 2, 1) (32, 41372)\n",
      "(32, 2, 1) (32, 41372)\n",
      "(32, 2, 1) (32, 41372)\n",
      "(32, 2, 1) (32, 41372)\n",
      "(32, 2, 1) (32, 41372)\n",
      "(32, 2, 1) (32, 41372)\n",
      "(32, 2, 1) (32, 41372)\n",
      "(32, 2, 1) (32, 41372)\n",
      "(32, 2, 1) (32, 41372)\n",
      "(32, 2, 1) (32, 41372)\n",
      "(32, 2, 1) (32, 41372)\n",
      "(32, 2, 1) (32, 41372)\n",
      "(32, 2, 1) (32, 41372)\n",
      "(32, 2, 1) (32, 41372)\n",
      "(32, 2, 1) (32, 41372)\n",
      "(32, 2, 1) (32, 41372)\n",
      "(32, 2, 1) (32, 41372)\n",
      "(32, 2, 1) (32, 41372)\n",
      "(32, 2, 1) (32, 41372)\n",
      "(32, 2, 1) (32, 41372)\n",
      "(32, 2, 1) (32, 41372)\n",
      "(32, 2, 1) (32, 41372)\n",
      "(32, 2, 1) (32, 41372)\n",
      "(32, 2, 1) (32, 41372)\n",
      "(32, 2, 1) (32, 41372)\n",
      "(32, 2, 1) (32, 41372)\n",
      "(32, 2, 1) (32, 41372)\n",
      "(32, 2, 1) (32, 41372)\n",
      "(32, 2, 1) (32, 41372)\n",
      "(32, 2, 1) (32, 41372)\n",
      "(32, 2, 1) (32, 41372)\n",
      "(32, 2, 1) (32, 41372)\n",
      "(32, 2, 1) (32, 41372)\n",
      "(32, 2, 1) (32, 41372)\n",
      "(32, 2, 1) (32, 41372)\n",
      "(32, 2, 1) (32, 41372)\n",
      "(32, 2, 1) (32, 41372)\n",
      "(32, 2, 1) (32, 41372)\n",
      "(32, 2, 1) (32, 41372)\n",
      "(32, 2, 1) (32, 41372)\n",
      "(32, 2, 1) (32, 41372)\n",
      "(32, 2, 1) (32, 41372)\n",
      "(32, 2, 1) (32, 41372)\n",
      "(32, 2, 1) (32, 41372)\n",
      "(32, 2, 1) (32, 41372)\n",
      "(32, 2, 1) (32, 41372)\n",
      "(32, 2, 1) (32, 41372)\n",
      "(32, 2, 1) (32, 41372)\n",
      "(32, 2, 1) (32, 41372)\n",
      "(32, 2, 1) (32, 41372)\n",
      "(32, 2, 1) (32, 41372)\n",
      "(32, 2, 1) (32, 41372)\n",
      "(32, 2, 1) (32, 41372)\n",
      "(32, 2, 1) (32, 41372)\n",
      "(32, 2, 1) (32, 41372)\n",
      "(32, 2, 1) (32, 41372)\n",
      "(32, 2, 1) (32, 41372)\n",
      "(32, 2, 1) (32, 41372)\n",
      "(32, 2, 1) (32, 41372)\n",
      "(32, 2, 1) (32, 41372)\n",
      "(32, 2, 1) (32, 41372)\n",
      "(32, 2, 1) (32, 41372)\n",
      "(32, 2, 1) (32, 41372)\n",
      "(32, 2, 1) (32, 41372)\n",
      "(32, 2, 1) (32, 41372)\n",
      "(32, 2, 1) (32, 41372)\n",
      "(32, 2, 1) (32, 41372)\n",
      "(32, 2, 1) (32, 41372)\n",
      "(32, 2, 1) (32, 41372)\n",
      "(32, 2, 1) (32, 41372)\n",
      "(32, 2, 1) (32, 41372)\n",
      "(32, 2, 1) (32, 41372)\n",
      "(32, 2, 1) (32, 41372)\n",
      "(32, 2, 1) (32, 41372)\n",
      "(32, 2, 1) (32, 41372)\n",
      "(32, 2, 1) (32, 41372)\n",
      "(32, 2, 1) (32, 41372)\n",
      "(32, 2, 1) (32, 41372)\n",
      "(32, 2, 1) (32, 41372)\n",
      "(32, 2, 1) (32, 41372)\n",
      "(32, 2, 1) (32, 41372)\n",
      "(32, 2, 1) (32, 41372)\n",
      "(32, 2, 1) (32, 41372)\n",
      "(32, 2, 1) (32, 41372)\n",
      "(32, 2, 1) (32, 41372)\n",
      "(32, 2, 1) (32, 41372)\n",
      "(32, 2, 1) (32, 41372)\n",
      "(32, 2, 1) (32, 41372)\n",
      "(32, 2, 1) (32, 41372)\n",
      "(32, 2, 1) (32, 41372)\n",
      "(32, 2, 1) (32, 41372)\n",
      "(32, 2, 1) (32, 41372)\n",
      "(32, 2, 1) (32, 41372)\n",
      "(32, 2, 1) (32, 41372)\n",
      "(32, 2, 1) (32, 41372)\n",
      "(32, 2, 1) (32, 41372)\n",
      "(32, 2, 1) (32, 41372)\n",
      "(32, 2, 1) (32, 41372)\n",
      "(32, 2, 1) (32, 41372)\n",
      "(32, 2, 1) (32, 41372)\n",
      "(32, 2, 1) (32, 41372)\n",
      "(32, 2, 1) (32, 41372)\n",
      "(32, 2, 1) (32, 41372)\n",
      "(32, 2, 1) (32, 41372)\n",
      "(32, 2, 1) (32, 41372)\n",
      "(32, 2, 1) (32, 41372)\n",
      "(32, 2, 1) (32, 41372)\n",
      "(32, 2, 1) (32, 41372)\n",
      "(32, 2, 1) (32, 41372)\n",
      "(32, 2, 1) (32, 41372)\n",
      "(32, 2, 1) (32, 41372)\n",
      "(32, 2, 1) (32, 41372)\n",
      "(32, 2, 1) (32, 41372)\n",
      "(32, 2, 1) (32, 41372)\n",
      "(32, 2, 1) (32, 41372)\n",
      "(32, 2, 1) (32, 41372)\n",
      "(32, 2, 1) (32, 41372)\n",
      "(32, 2, 1) (32, 41372)\n",
      "(32, 2, 1) (32, 41372)\n",
      "(32, 2, 1) (32, 41372)\n",
      "(32, 2, 1) (32, 41372)\n",
      "(32, 2, 1) (32, 41372)\n",
      "(32, 2, 1) (32, 41372)\n",
      "(32, 2, 1) (32, 41372)\n",
      "(32, 2, 1) (32, 41372)\n",
      "(32, 2, 1) (32, 41372)\n",
      "(32, 2, 1) (32, 41372)\n",
      "(32, 2, 1) (32, 41372)\n",
      "(32, 2, 1) (32, 41372)\n",
      "(32, 2, 1) (32, 41372)\n",
      "(32, 2, 1) (32, 41372)\n",
      "(32, 2, 1) (32, 41372)\n",
      "(32, 2, 1) (32, 41372)\n",
      "(32, 2, 1) (32, 41372)\n",
      "(32, 2, 1) (32, 41372)\n",
      "(32, 2, 1) (32, 41372)\n",
      "(32, 2, 1) (32, 41372)\n",
      "(32, 2, 1) (32, 41372)\n",
      "(32, 2, 1) (32, 41372)\n",
      "(32, 2, 1) (32, 41372)\n",
      "(32, 2, 1) (32, 41372)\n",
      "(32, 2, 1) (32, 41372)\n",
      "(32, 2, 1) (32, 41372)\n",
      "(32, 2, 1) (32, 41372)\n",
      "(32, 2, 1) (32, 41372)\n",
      "(32, 2, 1) (32, 41372)\n",
      "(32, 2, 1) (32, 41372)\n",
      "(32, 2, 1) (32, 41372)\n",
      "(32, 2, 1) (32, 41372)\n",
      "(32, 2, 1) (32, 41372)\n",
      "(32, 2, 1) (32, 41372)\n",
      "(32, 2, 1) (32, 41372)\n",
      "(32, 2, 1) (32, 41372)\n",
      "(32, 2, 1) (32, 41372)\n",
      "(32, 2, 1) (32, 41372)\n",
      "(32, 2, 1) (32, 41372)\n",
      "(32, 2, 1) (32, 41372)\n",
      "(32, 2, 1) (32, 41372)\n",
      "(32, 2, 1) (32, 41372)\n",
      "(32, 2, 1) (32, 41372)\n",
      "(32, 2, 1) (32, 41372)\n",
      "(32, 2, 1) (32, 41372)\n",
      "(32, 2, 1) (32, 41372)\n",
      "(32, 2, 1) (32, 41372)\n",
      "(32, 2, 1) (32, 41372)\n",
      "(32, 2, 1) (32, 41372)\n",
      "(32, 2, 1) (32, 41372)\n",
      "(32, 2, 1) (32, 41372)\n",
      "(32, 2, 1) (32, 41372)\n",
      "(32, 2, 1) (32, 41372)\n",
      "(32, 2, 1) (32, 41372)\n",
      "(32, 2, 1) (32, 41372)\n",
      "(32, 2, 1) (32, 41372)\n",
      "(32, 2, 1) (32, 41372)\n",
      "(32, 2, 1) (32, 41372)\n",
      "(32, 2, 1) (32, 41372)\n",
      "(32, 2, 1) (32, 41372)\n",
      "(32, 2, 1) (32, 41372)\n",
      "(32, 2, 1) (32, 41372)\n",
      "(32, 2, 1) (32, 41372)\n",
      "(32, 2, 1) (32, 41372)\n",
      "(32, 2, 1) (32, 41372)\n",
      "(32, 2, 1) (32, 41372)\n",
      "(32, 2, 1) (32, 41372)\n",
      "(32, 2, 1) (32, 41372)\n",
      "(32, 2, 1) (32, 41372)\n",
      "(32, 2, 1) (32, 41372)\n",
      "(32, 2, 1) (32, 41372)\n",
      "(32, 2, 1) (32, 41372)\n",
      "(32, 2, 1) (32, 41372)\n",
      "(32, 2, 1) (32, 41372)\n",
      "(32, 2, 1) (32, 41372)\n",
      "(32, 2, 1) (32, 41372)\n",
      "(32, 2, 1) (32, 41372)\n",
      "(32, 2, 1) (32, 41372)\n",
      "(32, 2, 1) (32, 41372)\n",
      "(32, 2, 1) (32, 41372)\n",
      "(32, 2, 1) (32, 41372)\n",
      "(32, 2, 1) (32, 41372)\n",
      "(32, 2, 1) (32, 41372)\n",
      "(32, 2, 1) (32, 41372)\n",
      "(32, 2, 1) (32, 41372)\n",
      "(32, 2, 1) (32, 41372)\n",
      "(32, 2, 1) (32, 41372)\n",
      "(32, 2, 1) (32, 41372)\n",
      "(32, 2, 1) (32, 41372)\n",
      "(32, 2, 1) (32, 41372)\n",
      "(32, 2, 1) (32, 41372)\n",
      "(32, 2, 1) (32, 41372)\n",
      "(32, 2, 1) (32, 41372)\n",
      "(32, 2, 1) (32, 41372)\n",
      "(32, 2, 1) (32, 41372)\n",
      "(32, 2, 1) (32, 41372)\n",
      "(32, 2, 1) (32, 41372)\n",
      "(32, 2, 1) (32, 41372)\n",
      "(32, 2, 1) (32, 41372)\n",
      "(32, 2, 1) (32, 41372)\n",
      "(32, 2, 1) (32, 41372)\n",
      "(32, 2, 1) (32, 41372)\n",
      "(32, 2, 1) (32, 41372)\n",
      "(32, 2, 1) (32, 41372)\n",
      "(32, 2, 1) (32, 41372)\n",
      "(32, 2, 1) (32, 41372)\n",
      "(32, 2, 1) (32, 41372)\n",
      "(32, 2, 1) (32, 41372)\n",
      "(32, 2, 1) (32, 41372)\n",
      "(32, 2, 1) (32, 41372)\n",
      "(32, 2, 1) (32, 41372)\n",
      "(32, 2, 1) (32, 41372)\n",
      "(32, 2, 1) (32, 41372)\n",
      "(32, 2, 1) (32, 41372)\n",
      "(32, 2, 1) (32, 41372)\n",
      "(32, 2, 1) (32, 41372)\n",
      "(32, 2, 1) (32, 41372)\n",
      "(32, 2, 1) (32, 41372)\n",
      "(32, 2, 1) (32, 41372)\n",
      "(32, 2, 1) (32, 41372)\n",
      "(32, 2, 1) (32, 41372)\n",
      "(32, 2, 1) (32, 41372)\n",
      "(32, 2, 1) (32, 41372)\n",
      "(32, 2, 1) (32, 41372)\n",
      "(32, 2, 1) (32, 41372)\n",
      "(32, 2, 1) (32, 41372)\n",
      "(32, 2, 1) (32, 41372)\n",
      "(32, 2, 1) (32, 41372)\n",
      "(32, 2, 1) (32, 41372)\n",
      "(32, 2, 1) (32, 41372)\n",
      "(32, 2, 1) (32, 41372)\n",
      "(32, 2, 1) (32, 41372)\n",
      "(32, 2, 1) (32, 41372)\n",
      "(32, 2, 1) (32, 41372)\n",
      "(32, 2, 1) (32, 41372)\n",
      "(32, 2, 1) (32, 41372)\n",
      "(32, 2, 1) (32, 41372)\n",
      "(32, 2, 1) (32, 41372)\n",
      "(32, 2, 1) (32, 41372)\n",
      "(32, 2, 1) (32, 41372)\n",
      "(32, 2, 1) (32, 41372)\n",
      "(32, 2, 1) (32, 41372)\n",
      "(32, 2, 1) (32, 41372)\n",
      "(32, 2, 1) (32, 41372)\n",
      "(32, 2, 1) (32, 41372)\n",
      "(32, 2, 1) (32, 41372)\n",
      "(32, 2, 1) (32, 41372)\n",
      "(32, 2, 1) (32, 41372)\n",
      "(32, 2, 1) (32, 41372)\n",
      "(32, 2, 1) (32, 41372)\n",
      "(32, 2, 1) (32, 41372)\n",
      "(32, 2, 1) (32, 41372)\n",
      "(32, 2, 1) (32, 41372)\n",
      "(32, 2, 1) (32, 41372)\n",
      "(32, 2, 1) (32, 41372)\n",
      "(32, 2, 1) (32, 41372)\n",
      "(32, 2, 1) (32, 41372)\n",
      "(32, 2, 1) (32, 41372)\n",
      "(32, 2, 1) (32, 41372)\n",
      "(32, 2, 1) (32, 41372)\n",
      "(32, 2, 1) (32, 41372)\n",
      "(32, 2, 1) (32, 41372)\n",
      "(32, 2, 1) (32, 41372)\n",
      "(32, 2, 1) (32, 41372)\n",
      "(32, 2, 1) (32, 41372)\n",
      "(32, 2, 1) (32, 41372)\n",
      "(32, 2, 1) (32, 41372)\n",
      "(32, 2, 1) (32, 41372)\n",
      "(32, 2, 1) (32, 41372)\n",
      "(32, 2, 1) (32, 41372)\n",
      "(32, 2, 1) (32, 41372)\n",
      "(32, 2, 1) (32, 41372)\n",
      "(32, 2, 1) (32, 41372)\n",
      "(32, 2, 1) (32, 41372)\n",
      "(32, 2, 1) (32, 41372)\n",
      "(32, 2, 1) (32, 41372)\n",
      "(32, 2, 1) (32, 41372)\n",
      "(32, 2, 1) (32, 41372)\n",
      "(32, 2, 1) (32, 41372)\n",
      "(32, 2, 1) (32, 41372)\n",
      "(32, 2, 1) (32, 41372)\n",
      "(32, 2, 1) (32, 41372)\n",
      "(32, 2, 1) (32, 41372)\n",
      "(32, 2, 1) (32, 41372)\n",
      "(32, 2, 1) (32, 41372)\n",
      "(32, 2, 1) (32, 41372)\n",
      "(32, 2, 1) (32, 41372)\n",
      "(32, 2, 1) (32, 41372)\n",
      "(32, 2, 1) (32, 41372)\n",
      "(32, 2, 1) (32, 41372)\n",
      "(32, 2, 1) (32, 41372)\n",
      "(32, 2, 1) (32, 41372)\n",
      "(32, 2, 1) (32, 41372)\n",
      "(32, 2, 1) (32, 41372)\n",
      "(32, 2, 1) (32, 41372)\n",
      "(32, 2, 1) (32, 41372)\n",
      "(32, 2, 1) (32, 41372)\n",
      "(32, 2, 1) (32, 41372)\n",
      "(32, 2, 1) (32, 41372)\n",
      "(32, 2, 1) (32, 41372)\n",
      "(32, 2, 1) (32, 41372)\n",
      "(32, 2, 1) (32, 41372)\n",
      "(32, 2, 1) (32, 41372)\n",
      "(32, 2, 1) (32, 41372)\n",
      "(32, 2, 1) (32, 41372)\n",
      "(32, 2, 1) (32, 41372)\n",
      "(32, 2, 1) (32, 41372)\n",
      "(32, 2, 1) (32, 41372)\n",
      "(32, 2, 1) (32, 41372)\n",
      "(32, 2, 1) (32, 41372)\n",
      "(32, 2, 1) (32, 41372)\n",
      "(32, 2, 1) (32, 41372)\n",
      "(32, 2, 1) (32, 41372)\n",
      "(32, 2, 1) (32, 41372)\n",
      "(32, 2, 1) (32, 41372)\n",
      "(32, 2, 1) (32, 41372)\n",
      "(32, 2, 1) (32, 41372)\n",
      "(32, 2, 1) (32, 41372)\n",
      "(32, 2, 1) (32, 41372)\n",
      "(32, 2, 1) (32, 41372)\n",
      "(32, 2, 1) (32, 41372)\n",
      "(32, 2, 1) (32, 41372)\n",
      "(32, 2, 1) (32, 41372)\n",
      "(32, 2, 1) (32, 41372)\n",
      "(32, 2, 1) (32, 41372)\n",
      "(32, 2, 1) (32, 41372)\n",
      "(32, 2, 1) (32, 41372)\n",
      "(32, 2, 1) (32, 41372)\n",
      "(32, 2, 1) (32, 41372)\n",
      "(32, 2, 1) (32, 41372)\n",
      "(32, 2, 1) (32, 41372)\n",
      "(32, 2, 1) (32, 41372)\n",
      "(32, 2, 1) (32, 41372)\n",
      "(32, 2, 1) (32, 41372)\n",
      "(32, 2, 1) (32, 41372)\n",
      "(32, 2, 1) (32, 41372)\n",
      "(32, 2, 1) (32, 41372)\n",
      "(32, 2, 1) (32, 41372)\n",
      "(32, 2, 1) (32, 41372)\n",
      "(32, 2, 1) (32, 41372)\n",
      "(32, 2, 1) (32, 41372)\n",
      "(32, 2, 1) (32, 41372)\n",
      "(32, 2, 1) (32, 41372)\n",
      "(32, 2, 1) (32, 41372)\n",
      "(32, 2, 1) (32, 41372)\n",
      "(32, 2, 1) (32, 41372)\n",
      "(32, 2, 1) (32, 41372)\n",
      "(32, 2, 1) (32, 41372)\n",
      "(32, 2, 1) (32, 41372)\n",
      "(32, 2, 1) (32, 41372)\n",
      "(32, 2, 1) (32, 41372)\n",
      "(32, 2, 1) (32, 41372)\n",
      "(32, 2, 1) (32, 41372)\n",
      "(32, 2, 1) (32, 41372)\n",
      "(32, 2, 1) (32, 41372)\n",
      "(32, 2, 1) (32, 41372)\n",
      "(32, 2, 1) (32, 41372)\n",
      "(32, 2, 1) (32, 41372)\n",
      "(32, 2, 1) (32, 41372)\n",
      "(32, 2, 1) (32, 41372)\n",
      "(32, 2, 1) (32, 41372)\n",
      "(32, 2, 1) (32, 41372)\n",
      "(32, 2, 1) (32, 41372)\n",
      "(32, 2, 1) (32, 41372)\n",
      "(32, 2, 1) (32, 41372)\n",
      "(32, 2, 1) (32, 41372)\n",
      "(32, 2, 1) (32, 41372)\n",
      "(32, 2, 1) (32, 41372)\n",
      "(32, 2, 1) (32, 41372)\n",
      "(32, 2, 1) (32, 41372)\n",
      "(32, 2, 1) (32, 41372)\n",
      "(32, 2, 1) (32, 41372)\n",
      "(32, 2, 1) (32, 41372)\n",
      "(32, 2, 1) (32, 41372)\n",
      "(32, 2, 1) (32, 41372)\n",
      "(32, 2, 1) (32, 41372)\n",
      "(32, 2, 1) (32, 41372)\n",
      "(32, 2, 1) (32, 41372)\n",
      "(32, 2, 1) (32, 41372)\n",
      "(32, 2, 1) (32, 41372)\n",
      "(32, 2, 1) (32, 41372)\n",
      "(32, 2, 1) (32, 41372)\n",
      "(32, 2, 1) (32, 41372)\n",
      "(32, 2, 1) (32, 41372)\n",
      "(32, 2, 1) (32, 41372)\n",
      "(32, 2, 1) (32, 41372)\n",
      "(32, 2, 1) (32, 41372)\n",
      "(32, 2, 1) (32, 41372)\n",
      "(32, 2, 1) (32, 41372)\n",
      "(32, 2, 1) (32, 41372)\n",
      "(32, 2, 1) (32, 41372)\n",
      "(32, 2, 1) (32, 41372)\n",
      "(32, 2, 1) (32, 41372)\n",
      "(32, 2, 1) (32, 41372)\n",
      "(32, 2, 1) (32, 41372)\n",
      "(32, 2, 1) (32, 41372)\n",
      "(32, 2, 1) (32, 41372)\n",
      "(32, 2, 1) (32, 41372)\n",
      "(32, 2, 1) (32, 41372)\n",
      "(32, 2, 1) (32, 41372)\n",
      "(32, 2, 1) (32, 41372)\n",
      "(32, 2, 1) (32, 41372)\n",
      "(32, 2, 1) (32, 41372)\n",
      "(32, 2, 1) (32, 41372)\n",
      "(32, 2, 1) (32, 41372)\n",
      "(32, 2, 1) (32, 41372)\n",
      "(32, 2, 1) (32, 41372)\n",
      "(32, 2, 1) (32, 41372)\n",
      "(32, 2, 1) (32, 41372)\n",
      "(32, 2, 1) (32, 41372)\n",
      "(32, 2, 1) (32, 41372)\n",
      "(32, 2, 1) (32, 41372)\n",
      "(32, 2, 1) (32, 41372)\n",
      "(32, 2, 1) (32, 41372)\n",
      "(32, 2, 1) (32, 41372)\n",
      "(32, 2, 1) (32, 41372)\n",
      "(32, 2, 1) (32, 41372)\n",
      "(32, 2, 1) (32, 41372)\n",
      "(32, 2, 1) (32, 41372)\n",
      "(32, 2, 1) (32, 41372)\n",
      "(32, 2, 1) (32, 41372)\n",
      "(32, 2, 1) (32, 41372)\n",
      "(32, 2, 1) (32, 41372)\n",
      "(32, 2, 1) (32, 41372)\n",
      "(32, 2, 1) (32, 41372)\n",
      "(32, 2, 1) (32, 41372)\n",
      "(32, 2, 1) (32, 41372)\n",
      "(32, 2, 1) (32, 41372)\n",
      "(32, 2, 1) (32, 41372)\n",
      "(32, 2, 1) (32, 41372)\n",
      "(32, 2, 1) (32, 41372)\n",
      "(32, 2, 1) (32, 41372)\n",
      "(32, 2, 1) (32, 41372)\n",
      "(32, 2, 1) (32, 41372)\n",
      "(32, 2, 1) (32, 41372)\n",
      "(32, 2, 1) (32, 41372)\n",
      "(32, 2, 1) (32, 41372)\n",
      "(32, 2, 1) (32, 41372)\n",
      "(32, 2, 1) (32, 41372)\n",
      "(32, 2, 1) (32, 41372)\n",
      "(32, 2, 1) (32, 41372)\n",
      "(32, 2, 1) (32, 41372)\n",
      "(32, 2, 1) (32, 41372)\n",
      "(32, 2, 1) (32, 41372)\n",
      "(32, 2, 1) (32, 41372)\n",
      "(32, 2, 1) (32, 41372)\n",
      "(32, 2, 1) (32, 41372)\n",
      "(32, 2, 1) (32, 41372)\n",
      "(32, 2, 1) (32, 41372)\n",
      "(32, 2, 1) (32, 41372)\n",
      "(32, 2, 1) (32, 41372)\n",
      "(32, 2, 1) (32, 41372)\n",
      "(32, 2, 1) (32, 41372)\n",
      "(32, 2, 1) (32, 41372)\n",
      "(32, 2, 1) (32, 41372)\n",
      "(32, 2, 1) (32, 41372)\n",
      "(32, 2, 1) (32, 41372)\n",
      "(32, 2, 1) (32, 41372)\n",
      "(32, 2, 1) (32, 41372)\n",
      "(32, 2, 1) (32, 41372)\n",
      "(32, 2, 1) (32, 41372)\n",
      "(32, 2, 1) (32, 41372)\n",
      "(32, 2, 1) (32, 41372)\n",
      "(32, 2, 1) (32, 41372)\n",
      "(32, 2, 1) (32, 41372)\n",
      "(32, 2, 1) (32, 41372)\n",
      "(32, 2, 1) (32, 41372)\n",
      "(32, 2, 1) (32, 41372)\n",
      "(32, 2, 1) (32, 41372)\n",
      "(32, 2, 1) (32, 41372)\n",
      "(32, 2, 1) (32, 41372)\n",
      "(32, 2, 1) (32, 41372)\n",
      "(32, 2, 1) (32, 41372)\n",
      "(32, 2, 1) (32, 41372)\n",
      "(32, 2, 1) (32, 41372)\n",
      "(32, 2, 1) (32, 41372)\n",
      "(32, 2, 1) (32, 41372)\n",
      "(32, 2, 1) (32, 41372)\n",
      "(32, 2, 1) (32, 41372)\n",
      "(32, 2, 1) (32, 41372)\n",
      "(32, 2, 1) (32, 41372)\n",
      "(32, 2, 1) (32, 41372)\n",
      "(32, 2, 1) (32, 41372)\n",
      "(32, 2, 1) (32, 41372)\n",
      "(32, 2, 1) (32, 41372)\n",
      "(32, 2, 1) (32, 41372)\n",
      "(32, 2, 1) (32, 41372)\n",
      "(32, 2, 1) (32, 41372)\n",
      "(32, 2, 1) (32, 41372)\n",
      "(32, 2, 1) (32, 41372)\n",
      "(32, 2, 1) (32, 41372)\n",
      "(32, 2, 1) (32, 41372)\n",
      "(32, 2, 1) (32, 41372)\n",
      "(32, 2, 1) (32, 41372)\n",
      "(32, 2, 1) (32, 41372)\n",
      "(32, 2, 1) (32, 41372)\n",
      "(32, 2, 1) (32, 41372)\n",
      "(32, 2, 1) (32, 41372)\n",
      "(32, 2, 1) (32, 41372)\n",
      "(32, 2, 1) (32, 41372)\n",
      "(32, 2, 1) (32, 41372)\n",
      "(32, 2, 1) (32, 41372)\n",
      "(32, 2, 1) (32, 41372)\n",
      "(32, 2, 1) (32, 41372)\n",
      "(32, 2, 1) (32, 41372)\n",
      "(32, 2, 1) (32, 41372)\n",
      "(32, 2, 1) (32, 41372)\n",
      "(32, 2, 1) (32, 41372)\n",
      "(32, 2, 1) (32, 41372)\n",
      "(32, 2, 1) (32, 41372)\n",
      "(32, 2, 1) (32, 41372)\n",
      "(32, 2, 1) (32, 41372)\n",
      "(32, 2, 1) (32, 41372)\n",
      "(32, 2, 1) (32, 41372)\n",
      "(32, 2, 1) (32, 41372)\n",
      "(32, 2, 1) (32, 41372)\n",
      "(32, 2, 1) (32, 41372)\n",
      "(32, 2, 1) (32, 41372)\n",
      "(32, 2, 1) (32, 41372)\n",
      "(32, 2, 1) (32, 41372)\n",
      "(32, 2, 1) (32, 41372)\n",
      "(32, 2, 1) (32, 41372)\n",
      "(32, 2, 1) (32, 41372)\n",
      "(32, 2, 1) (32, 41372)\n",
      "(32, 2, 1) (32, 41372)\n",
      "(32, 2, 1) (32, 41372)\n",
      "(32, 2, 1) (32, 41372)\n",
      "(32, 2, 1) (32, 41372)\n",
      "(32, 2, 1) (32, 41372)\n",
      "(32, 2, 1) (32, 41372)\n",
      "(32, 2, 1) (32, 41372)\n",
      "(32, 2, 1) (32, 41372)\n",
      "(32, 2, 1) (32, 41372)\n",
      "(32, 2, 1) (32, 41372)\n",
      "(32, 2, 1) (32, 41372)\n",
      "(32, 2, 1) (32, 41372)\n",
      "(32, 2, 1) (32, 41372)\n",
      "(32, 2, 1) (32, 41372)\n",
      "(32, 2, 1) (32, 41372)\n",
      "(32, 2, 1) (32, 41372)\n",
      "(32, 2, 1) (32, 41372)\n",
      "(32, 2, 1) (32, 41372)\n",
      "(32, 2, 1) (32, 41372)\n",
      "(32, 2, 1) (32, 41372)\n",
      "(32, 2, 1) (32, 41372)\n",
      "(32, 2, 1) (32, 41372)\n",
      "(32, 2, 1) (32, 41372)\n",
      "(32, 2, 1) (32, 41372)\n",
      "(32, 2, 1) (32, 41372)\n",
      "(32, 2, 1) (32, 41372)\n",
      "(32, 2, 1) (32, 41372)\n",
      "(32, 2, 1) (32, 41372)\n",
      "(32, 2, 1) (32, 41372)\n",
      "(32, 2, 1) (32, 41372)\n",
      "(32, 2, 1) (32, 41372)\n",
      "(32, 2, 1) (32, 41372)\n",
      "(32, 2, 1) (32, 41372)\n",
      "(32, 2, 1) (32, 41372)\n",
      "(32, 2, 1) (32, 41372)\n",
      "(32, 2, 1) (32, 41372)\n",
      "(32, 2, 1) (32, 41372)\n",
      "(32, 2, 1) (32, 41372)\n",
      "(32, 2, 1) (32, 41372)\n",
      "(32, 2, 1) (32, 41372)\n",
      "(32, 2, 1) (32, 41372)\n",
      "(32, 2, 1) (32, 41372)\n",
      "(32, 2, 1) (32, 41372)\n",
      "(32, 2, 1) (32, 41372)\n",
      "(32, 2, 1) (32, 41372)\n",
      "(32, 2, 1) (32, 41372)\n",
      "(32, 2, 1) (32, 41372)\n",
      "(32, 2, 1) (32, 41372)\n",
      "(32, 2, 1) (32, 41372)\n",
      "(32, 2, 1) (32, 41372)\n",
      "(32, 2, 1) (32, 41372)\n",
      "(32, 2, 1) (32, 41372)\n",
      "(32, 2, 1) (32, 41372)\n",
      "(32, 2, 1) (32, 41372)\n",
      "(32, 2, 1) (32, 41372)\n",
      "(32, 2, 1) (32, 41372)\n",
      "(32, 2, 1) (32, 41372)\n",
      "(32, 2, 1) (32, 41372)\n",
      "(32, 2, 1) (32, 41372)\n",
      "(32, 2, 1) (32, 41372)\n",
      "(32, 2, 1) (32, 41372)\n",
      "(32, 2, 1) (32, 41372)\n",
      "(32, 2, 1) (32, 41372)\n",
      "(32, 2, 1) (32, 41372)\n",
      "(32, 2, 1) (32, 41372)\n",
      "(32, 2, 1) (32, 41372)\n",
      "(32, 2, 1) (32, 41372)\n",
      "(32, 2, 1) (32, 41372)\n",
      "(32, 2, 1) (32, 41372)\n",
      "(32, 2, 1) (32, 41372)\n",
      "(32, 2, 1) (32, 41372)\n",
      "(32, 2, 1) (32, 41372)\n",
      "(32, 2, 1) (32, 41372)\n",
      "(32, 2, 1) (32, 41372)\n",
      "(32, 2, 1) (32, 41372)\n",
      "(32, 2, 1) (32, 41372)\n",
      "(32, 2, 1) (32, 41372)\n",
      "(32, 2, 1) (32, 41372)\n",
      "(32, 2, 1) (32, 41372)\n",
      "(32, 2, 1) (32, 41372)\n",
      "(32, 2, 1) (32, 41372)\n",
      "(32, 2, 1) (32, 41372)\n",
      "(32, 2, 1) (32, 41372)\n",
      "(32, 2, 1) (32, 41372)\n",
      "(32, 2, 1) (32, 41372)\n",
      "(32, 2, 1) (32, 41372)\n",
      "(32, 2, 1) (32, 41372)\n",
      "(32, 2, 1) (32, 41372)\n",
      "(32, 2, 1) (32, 41372)\n",
      "(32, 2, 1) (32, 41372)\n",
      "(32, 2, 1) (32, 41372)\n",
      "(32, 2, 1) (32, 41372)\n",
      "(32, 2, 1) (32, 41372)\n",
      "(32, 2, 1) (32, 41372)\n",
      "(32, 2, 1) (32, 41372)\n",
      "(32, 2, 1) (32, 41372)\n",
      "(32, 2, 1) (32, 41372)\n",
      "(32, 2, 1) (32, 41372)\n",
      "(32, 2, 1) (32, 41372)\n",
      "(32, 2, 1) (32, 41372)\n",
      "(32, 2, 1) (32, 41372)\n",
      "(32, 2, 1) (32, 41372)\n",
      "(32, 2, 1) (32, 41372)\n",
      "(32, 2, 1) (32, 41372)\n",
      "(32, 2, 1) (32, 41372)\n",
      "(32, 2, 1) (32, 41372)\n",
      "(32, 2, 1) (32, 41372)\n",
      "(32, 2, 1) (32, 41372)\n",
      "(32, 2, 1) (32, 41372)\n",
      "(32, 2, 1) (32, 41372)\n",
      "(32, 2, 1) (32, 41372)\n",
      "13238/13238 [==============================] - 688s 52ms/step - loss: 9.9925 - acc: 0.0017 - val_loss: 9.7842 - val_acc: 0.0017\n"
     ]
    }
   ],
   "source": [
    "h = model.fit_generator(generator=training_generator,\n",
    "                    validation_data=validation_generator,\n",
    "                    use_multiprocessing=False,\n",
    "                    workers=6, verbose=1, epochs=1)"
   ]
  },
  {
   "cell_type": "code",
   "execution_count": 79,
   "metadata": {},
   "outputs": [],
   "source": [
    "di = dict(zip(df.product_id.unique(),np.arange(products)))"
   ]
  },
  {
   "cell_type": "code",
   "execution_count": 143,
   "metadata": {},
   "outputs": [
    {
     "output_type": "stream",
     "name": "stdout",
     "text": [
      "Epoch 1/50\n",
      "11/11 [==============================] - 0s 39ms/step - loss: 6.5694 - acc: 0.0029 - val_loss: 9.6189 - val_acc: 0.0000e+00\n",
      "Epoch 2/50\n",
      "11/11 [==============================] - 0s 32ms/step - loss: 6.5277 - acc: 0.0000e+00 - val_loss: 9.6351 - val_acc: 0.0000e+00\n",
      "Epoch 3/50\n",
      "11/11 [==============================] - 0s 34ms/step - loss: 6.5345 - acc: 0.0029 - val_loss: 9.6524 - val_acc: 0.0000e+00\n",
      "Epoch 4/50\n",
      "11/11 [==============================] - 0s 31ms/step - loss: 6.5012 - acc: 0.0029 - val_loss: 9.6702 - val_acc: 0.0000e+00\n",
      "Epoch 5/50\n",
      "11/11 [==============================] - 0s 32ms/step - loss: 6.4669 - acc: 0.0029 - val_loss: 9.6882 - val_acc: 0.0000e+00\n",
      "Epoch 6/50\n",
      "11/11 [==============================] - 0s 34ms/step - loss: 6.4639 - acc: 0.0029 - val_loss: 9.7064 - val_acc: 0.0000e+00\n",
      "Epoch 7/50\n",
      "11/11 [==============================] - 0s 32ms/step - loss: 6.4302 - acc: 0.0057 - val_loss: 9.7245 - val_acc: 0.0000e+00\n",
      "Epoch 8/50\n",
      "11/11 [==============================] - 0s 34ms/step - loss: 6.4277 - acc: 0.0029 - val_loss: 9.7426 - val_acc: 0.0000e+00\n",
      "Epoch 9/50\n",
      "11/11 [==============================] - 0s 29ms/step - loss: 6.4240 - acc: 0.0029 - val_loss: 9.7609 - val_acc: 0.0000e+00\n",
      "Epoch 10/50\n",
      "11/11 [==============================] - 0s 30ms/step - loss: 6.3700 - acc: 0.0057 - val_loss: 9.7794 - val_acc: 0.0000e+00\n",
      "Epoch 11/50\n",
      "11/11 [==============================] - 0s 29ms/step - loss: 6.3908 - acc: 0.0057 - val_loss: 9.7982 - val_acc: 0.0000e+00\n",
      "Epoch 12/50\n",
      "11/11 [==============================] - 0s 31ms/step - loss: 6.3892 - acc: 0.0057 - val_loss: 9.8171 - val_acc: 0.0000e+00\n",
      "Epoch 13/50\n",
      "11/11 [==============================] - 0s 28ms/step - loss: 6.3859 - acc: 0.0057 - val_loss: 9.8359 - val_acc: 0.0000e+00\n",
      "Epoch 14/50\n",
      "11/11 [==============================] - 0s 29ms/step - loss: 6.3697 - acc: 0.0057 - val_loss: 9.8547 - val_acc: 0.0000e+00\n",
      "Epoch 15/50\n",
      "11/11 [==============================] - 0s 32ms/step - loss: 6.3422 - acc: 0.0086 - val_loss: 9.8737 - val_acc: 0.0000e+00\n",
      "Epoch 16/50\n",
      "11/11 [==============================] - 0s 29ms/step - loss: 6.3576 - acc: 0.0057 - val_loss: 9.8927 - val_acc: 0.0000e+00\n",
      "Epoch 17/50\n",
      "11/11 [==============================] - 0s 30ms/step - loss: 6.3575 - acc: 0.0057 - val_loss: 9.9120 - val_acc: 0.0000e+00\n",
      "Epoch 18/50\n",
      "11/11 [==============================] - 0s 30ms/step - loss: 6.3317 - acc: 0.0057 - val_loss: 9.9311 - val_acc: 0.0000e+00\n",
      "Epoch 19/50\n",
      "11/11 [==============================] - 0s 29ms/step - loss: 6.3438 - acc: 0.0057 - val_loss: 9.9503 - val_acc: 0.0000e+00\n",
      "Epoch 20/50\n",
      "11/11 [==============================] - 0s 29ms/step - loss: 6.2611 - acc: 0.0057 - val_loss: 9.9689 - val_acc: 0.0000e+00\n",
      "Epoch 21/50\n",
      "11/11 [==============================] - 0s 29ms/step - loss: 6.2558 - acc: 0.0029 - val_loss: 9.9874 - val_acc: 0.0000e+00\n",
      "Epoch 22/50\n",
      "11/11 [==============================] - 0s 29ms/step - loss: 6.2836 - acc: 0.0057 - val_loss: 10.0062 - val_acc: 0.0000e+00\n",
      "Epoch 23/50\n",
      "11/11 [==============================] - 0s 31ms/step - loss: 6.2698 - acc: 0.0057 - val_loss: 10.0249 - val_acc: 0.0000e+00\n",
      "Epoch 24/50\n",
      "11/11 [==============================] - 0s 30ms/step - loss: 6.2486 - acc: 0.0086 - val_loss: 10.0438 - val_acc: 0.0000e+00\n",
      "Epoch 25/50\n",
      "11/11 [==============================] - 0s 30ms/step - loss: 6.2668 - acc: 0.0029 - val_loss: 10.0624 - val_acc: 0.0000e+00\n",
      "Epoch 26/50\n",
      "11/11 [==============================] - 0s 28ms/step - loss: 6.2536 - acc: 0.0086 - val_loss: 10.0810 - val_acc: 0.0000e+00\n",
      "Epoch 27/50\n",
      "11/11 [==============================] - 0s 30ms/step - loss: 6.2533 - acc: 0.0057 - val_loss: 10.0997 - val_acc: 0.0000e+00\n",
      "Epoch 28/50\n",
      "11/11 [==============================] - 0s 30ms/step - loss: 6.2068 - acc: 0.0086 - val_loss: 10.1180 - val_acc: 0.0000e+00\n",
      "Epoch 29/50\n",
      "11/11 [==============================] - 0s 29ms/step - loss: 6.2575 - acc: 0.0057 - val_loss: 10.1367 - val_acc: 0.0000e+00\n",
      "Epoch 30/50\n",
      "11/11 [==============================] - 0s 29ms/step - loss: 6.2125 - acc: 0.0086 - val_loss: 10.1550 - val_acc: 0.0000e+00\n",
      "Epoch 31/50\n",
      "11/11 [==============================] - 0s 31ms/step - loss: 6.2116 - acc: 0.0086 - val_loss: 10.1733 - val_acc: 0.0000e+00\n",
      "Epoch 32/50\n",
      "11/11 [==============================] - 0s 31ms/step - loss: 6.2075 - acc: 0.0086 - val_loss: 10.1915 - val_acc: 0.0000e+00\n",
      "Epoch 33/50\n",
      "11/11 [==============================] - 0s 29ms/step - loss: 6.2038 - acc: 0.0057 - val_loss: 10.2097 - val_acc: 0.0000e+00\n",
      "Epoch 34/50\n",
      "11/11 [==============================] - 0s 32ms/step - loss: 6.2008 - acc: 0.0029 - val_loss: 10.2281 - val_acc: 0.0000e+00\n",
      "Epoch 35/50\n",
      "11/11 [==============================] - 0s 31ms/step - loss: 6.1953 - acc: 0.0114 - val_loss: 10.2465 - val_acc: 0.0000e+00\n",
      "Epoch 36/50\n",
      "11/11 [==============================] - 0s 30ms/step - loss: 6.1753 - acc: 0.0086 - val_loss: 10.2647 - val_acc: 0.0000e+00\n",
      "Epoch 37/50\n",
      "11/11 [==============================] - 0s 30ms/step - loss: 6.1722 - acc: 0.0029 - val_loss: 10.2827 - val_acc: 0.0000e+00\n",
      "Epoch 38/50\n",
      "11/11 [==============================] - 0s 30ms/step - loss: 6.1802 - acc: 0.0057 - val_loss: 10.3004 - val_acc: 0.0000e+00\n",
      "Epoch 39/50\n",
      "11/11 [==============================] - 0s 30ms/step - loss: 6.1764 - acc: 0.0057 - val_loss: 10.3181 - val_acc: 0.0000e+00\n",
      "Epoch 40/50\n",
      "11/11 [==============================] - 0s 32ms/step - loss: 6.1744 - acc: 0.0000e+00 - val_loss: 10.3357 - val_acc: 0.0000e+00\n",
      "Epoch 41/50\n",
      "11/11 [==============================] - 0s 30ms/step - loss: 6.1999 - acc: 0.0086 - val_loss: 10.3538 - val_acc: 0.0000e+00\n",
      "Epoch 42/50\n",
      "11/11 [==============================] - 0s 30ms/step - loss: 6.1644 - acc: 0.0029 - val_loss: 10.3717 - val_acc: 0.0000e+00\n",
      "Epoch 43/50\n",
      "11/11 [==============================] - 0s 31ms/step - loss: 6.1765 - acc: 0.0057 - val_loss: 10.3895 - val_acc: 0.0000e+00\n",
      "Epoch 44/50\n",
      "11/11 [==============================] - 0s 29ms/step - loss: 6.1310 - acc: 0.0000e+00 - val_loss: 10.4071 - val_acc: 0.0000e+00\n",
      "Epoch 45/50\n",
      "11/11 [==============================] - 0s 29ms/step - loss: 6.1326 - acc: 0.0086 - val_loss: 10.4244 - val_acc: 0.0000e+00\n",
      "Epoch 46/50\n",
      "11/11 [==============================] - 0s 33ms/step - loss: 6.1347 - acc: 0.0057 - val_loss: 10.4418 - val_acc: 0.0000e+00\n",
      "Epoch 47/50\n",
      "11/11 [==============================] - 0s 29ms/step - loss: 6.1844 - acc: 0.0086 - val_loss: 10.4594 - val_acc: 0.0000e+00\n",
      "Epoch 48/50\n",
      "11/11 [==============================] - 0s 29ms/step - loss: 6.1309 - acc: 0.0086 - val_loss: 10.4769 - val_acc: 0.0000e+00\n",
      "Epoch 49/50\n",
      "11/11 [==============================] - 0s 32ms/step - loss: 6.1298 - acc: 0.0029 - val_loss: 10.4945 - val_acc: 0.0000e+00\n",
      "Epoch 50/50\n",
      "11/11 [==============================] - 0s 28ms/step - loss: 6.1790 - acc: 0.0057 - val_loss: 10.5123 - val_acc: 0.0000e+00\n"
     ]
    }
   ],
   "source": [
    "y=[]\n",
    "x=[]\n",
    "#for i in Y[:500]:\n",
    "#    y.append(di[i])\n",
    "#for i in X[:150, :]:\n",
    "    #x.append(di[i])\n",
    "#x = np.array(x)\n",
    "#x = np.reshape(x, (len(x), 1, 1))\n",
    "x = np.array(X[:500,:], dtype=int)\n",
    "x = np.reshape(x, (x.shape[0], x.shape[1], 1))\n",
    "#print(x)\n",
    "y = Y[:500]\n",
    "y = to_categorical(y, num_classes=products)\n",
    "#h = model.fit(x, y, validation_split=0.3, verbose=1, epochs=50)"
   ]
  },
  {
   "cell_type": "code",
   "execution_count": 192,
   "metadata": {},
   "outputs": [
    {
     "output_type": "display_data",
     "data": {
      "text/plain": "<Figure size 432x288 with 1 Axes>",
      "image/svg+xml": "<?xml version=\"1.0\" encoding=\"utf-8\" standalone=\"no\"?>\r\n<!DOCTYPE svg PUBLIC \"-//W3C//DTD SVG 1.1//EN\"\r\n  \"http://www.w3.org/Graphics/SVG/1.1/DTD/svg11.dtd\">\r\n<!-- Created with matplotlib (https://matplotlib.org/) -->\r\n<svg height=\"262.19625pt\" version=\"1.1\" viewBox=\"0 0 392.14375 262.19625\" width=\"392.14375pt\" xmlns=\"http://www.w3.org/2000/svg\" xmlns:xlink=\"http://www.w3.org/1999/xlink\">\r\n <metadata>\r\n  <rdf:RDF xmlns:cc=\"http://creativecommons.org/ns#\" xmlns:dc=\"http://purl.org/dc/elements/1.1/\" xmlns:rdf=\"http://www.w3.org/1999/02/22-rdf-syntax-ns#\">\r\n   <cc:Work>\r\n    <dc:type rdf:resource=\"http://purl.org/dc/dcmitype/StillImage\"/>\r\n    <dc:date>2021-02-26T19:56:50.004877</dc:date>\r\n    <dc:format>image/svg+xml</dc:format>\r\n    <dc:creator>\r\n     <cc:Agent>\r\n      <dc:title>Matplotlib v3.3.4, https://matplotlib.org/</dc:title>\r\n     </cc:Agent>\r\n    </dc:creator>\r\n   </cc:Work>\r\n  </rdf:RDF>\r\n </metadata>\r\n <defs>\r\n  <style type=\"text/css\">*{stroke-linecap:butt;stroke-linejoin:round;}</style>\r\n </defs>\r\n <g id=\"figure_1\">\r\n  <g id=\"patch_1\">\r\n   <path d=\"M 0 262.19625 \r\nL 392.14375 262.19625 \r\nL 392.14375 0 \r\nL 0 0 \r\nz\r\n\" style=\"fill:none;\"/>\r\n  </g>\r\n  <g id=\"axes_1\">\r\n   <g id=\"patch_2\">\r\n    <path d=\"M 50.14375 224.64 \r\nL 384.94375 224.64 \r\nL 384.94375 7.2 \r\nL 50.14375 7.2 \r\nz\r\n\" style=\"fill:#ffffff;\"/>\r\n   </g>\r\n   <g id=\"matplotlib.axis_1\">\r\n    <g id=\"xtick_1\">\r\n     <g id=\"line2d_1\">\r\n      <defs>\r\n       <path d=\"M 0 0 \r\nL 0 3.5 \r\n\" id=\"m45b016ac33\" style=\"stroke:#000000;stroke-width:0.8;\"/>\r\n      </defs>\r\n      <g>\r\n       <use style=\"stroke:#000000;stroke-width:0.8;\" x=\"95.798295\" xlink:href=\"#m45b016ac33\" y=\"224.64\"/>\r\n      </g>\r\n     </g>\r\n     <g id=\"text_1\">\r\n      <!-- −0.04 -->\r\n      <g transform=\"translate(80.475639 239.238438)scale(0.1 -0.1)\">\r\n       <defs>\r\n        <path d=\"M 10.59375 35.5 \r\nL 73.1875 35.5 \r\nL 73.1875 27.203125 \r\nL 10.59375 27.203125 \r\nz\r\n\" id=\"DejaVuSans-8722\"/>\r\n        <path d=\"M 31.78125 66.40625 \r\nQ 24.171875 66.40625 20.328125 58.90625 \r\nQ 16.5 51.421875 16.5 36.375 \r\nQ 16.5 21.390625 20.328125 13.890625 \r\nQ 24.171875 6.390625 31.78125 6.390625 \r\nQ 39.453125 6.390625 43.28125 13.890625 \r\nQ 47.125 21.390625 47.125 36.375 \r\nQ 47.125 51.421875 43.28125 58.90625 \r\nQ 39.453125 66.40625 31.78125 66.40625 \r\nz\r\nM 31.78125 74.21875 \r\nQ 44.046875 74.21875 50.515625 64.515625 \r\nQ 56.984375 54.828125 56.984375 36.375 \r\nQ 56.984375 17.96875 50.515625 8.265625 \r\nQ 44.046875 -1.421875 31.78125 -1.421875 \r\nQ 19.53125 -1.421875 13.0625 8.265625 \r\nQ 6.59375 17.96875 6.59375 36.375 \r\nQ 6.59375 54.828125 13.0625 64.515625 \r\nQ 19.53125 74.21875 31.78125 74.21875 \r\nz\r\n\" id=\"DejaVuSans-48\"/>\r\n        <path d=\"M 10.6875 12.40625 \r\nL 21 12.40625 \r\nL 21 0 \r\nL 10.6875 0 \r\nz\r\n\" id=\"DejaVuSans-46\"/>\r\n        <path d=\"M 37.796875 64.3125 \r\nL 12.890625 25.390625 \r\nL 37.796875 25.390625 \r\nz\r\nM 35.203125 72.90625 \r\nL 47.609375 72.90625 \r\nL 47.609375 25.390625 \r\nL 58.015625 25.390625 \r\nL 58.015625 17.1875 \r\nL 47.609375 17.1875 \r\nL 47.609375 0 \r\nL 37.796875 0 \r\nL 37.796875 17.1875 \r\nL 4.890625 17.1875 \r\nL 4.890625 26.703125 \r\nz\r\n\" id=\"DejaVuSans-52\"/>\r\n       </defs>\r\n       <use xlink:href=\"#DejaVuSans-8722\"/>\r\n       <use x=\"83.789062\" xlink:href=\"#DejaVuSans-48\"/>\r\n       <use x=\"147.412109\" xlink:href=\"#DejaVuSans-46\"/>\r\n       <use x=\"179.199219\" xlink:href=\"#DejaVuSans-48\"/>\r\n       <use x=\"242.822266\" xlink:href=\"#DejaVuSans-52\"/>\r\n      </g>\r\n     </g>\r\n    </g>\r\n    <g id=\"xtick_2\">\r\n     <g id=\"line2d_2\">\r\n      <g>\r\n       <use style=\"stroke:#000000;stroke-width:0.8;\" x=\"156.671023\" xlink:href=\"#m45b016ac33\" y=\"224.64\"/>\r\n      </g>\r\n     </g>\r\n     <g id=\"text_2\">\r\n      <!-- −0.02 -->\r\n      <g transform=\"translate(141.348366 239.238438)scale(0.1 -0.1)\">\r\n       <defs>\r\n        <path d=\"M 19.1875 8.296875 \r\nL 53.609375 8.296875 \r\nL 53.609375 0 \r\nL 7.328125 0 \r\nL 7.328125 8.296875 \r\nQ 12.9375 14.109375 22.625 23.890625 \r\nQ 32.328125 33.6875 34.8125 36.53125 \r\nQ 39.546875 41.84375 41.421875 45.53125 \r\nQ 43.3125 49.21875 43.3125 52.78125 \r\nQ 43.3125 58.59375 39.234375 62.25 \r\nQ 35.15625 65.921875 28.609375 65.921875 \r\nQ 23.96875 65.921875 18.8125 64.3125 \r\nQ 13.671875 62.703125 7.8125 59.421875 \r\nL 7.8125 69.390625 \r\nQ 13.765625 71.78125 18.9375 73 \r\nQ 24.125 74.21875 28.421875 74.21875 \r\nQ 39.75 74.21875 46.484375 68.546875 \r\nQ 53.21875 62.890625 53.21875 53.421875 \r\nQ 53.21875 48.921875 51.53125 44.890625 \r\nQ 49.859375 40.875 45.40625 35.40625 \r\nQ 44.1875 33.984375 37.640625 27.21875 \r\nQ 31.109375 20.453125 19.1875 8.296875 \r\nz\r\n\" id=\"DejaVuSans-50\"/>\r\n       </defs>\r\n       <use xlink:href=\"#DejaVuSans-8722\"/>\r\n       <use x=\"83.789062\" xlink:href=\"#DejaVuSans-48\"/>\r\n       <use x=\"147.412109\" xlink:href=\"#DejaVuSans-46\"/>\r\n       <use x=\"179.199219\" xlink:href=\"#DejaVuSans-48\"/>\r\n       <use x=\"242.822266\" xlink:href=\"#DejaVuSans-50\"/>\r\n      </g>\r\n     </g>\r\n    </g>\r\n    <g id=\"xtick_3\">\r\n     <g id=\"line2d_3\">\r\n      <g>\r\n       <use style=\"stroke:#000000;stroke-width:0.8;\" x=\"217.54375\" xlink:href=\"#m45b016ac33\" y=\"224.64\"/>\r\n      </g>\r\n     </g>\r\n     <g id=\"text_3\">\r\n      <!-- 0.00 -->\r\n      <g transform=\"translate(206.410938 239.238438)scale(0.1 -0.1)\">\r\n       <use xlink:href=\"#DejaVuSans-48\"/>\r\n       <use x=\"63.623047\" xlink:href=\"#DejaVuSans-46\"/>\r\n       <use x=\"95.410156\" xlink:href=\"#DejaVuSans-48\"/>\r\n       <use x=\"159.033203\" xlink:href=\"#DejaVuSans-48\"/>\r\n      </g>\r\n     </g>\r\n    </g>\r\n    <g id=\"xtick_4\">\r\n     <g id=\"line2d_4\">\r\n      <g>\r\n       <use style=\"stroke:#000000;stroke-width:0.8;\" x=\"278.416477\" xlink:href=\"#m45b016ac33\" y=\"224.64\"/>\r\n      </g>\r\n     </g>\r\n     <g id=\"text_4\">\r\n      <!-- 0.02 -->\r\n      <g transform=\"translate(267.283665 239.238438)scale(0.1 -0.1)\">\r\n       <use xlink:href=\"#DejaVuSans-48\"/>\r\n       <use x=\"63.623047\" xlink:href=\"#DejaVuSans-46\"/>\r\n       <use x=\"95.410156\" xlink:href=\"#DejaVuSans-48\"/>\r\n       <use x=\"159.033203\" xlink:href=\"#DejaVuSans-50\"/>\r\n      </g>\r\n     </g>\r\n    </g>\r\n    <g id=\"xtick_5\">\r\n     <g id=\"line2d_5\">\r\n      <g>\r\n       <use style=\"stroke:#000000;stroke-width:0.8;\" x=\"339.289205\" xlink:href=\"#m45b016ac33\" y=\"224.64\"/>\r\n      </g>\r\n     </g>\r\n     <g id=\"text_5\">\r\n      <!-- 0.04 -->\r\n      <g transform=\"translate(328.156392 239.238438)scale(0.1 -0.1)\">\r\n       <use xlink:href=\"#DejaVuSans-48\"/>\r\n       <use x=\"63.623047\" xlink:href=\"#DejaVuSans-46\"/>\r\n       <use x=\"95.410156\" xlink:href=\"#DejaVuSans-48\"/>\r\n       <use x=\"159.033203\" xlink:href=\"#DejaVuSans-52\"/>\r\n      </g>\r\n     </g>\r\n    </g>\r\n    <g id=\"text_6\">\r\n     <!-- Epochs -->\r\n     <g transform=\"translate(199.628125 252.916563)scale(0.1 -0.1)\">\r\n      <defs>\r\n       <path d=\"M 9.8125 72.90625 \r\nL 55.90625 72.90625 \r\nL 55.90625 64.59375 \r\nL 19.671875 64.59375 \r\nL 19.671875 43.015625 \r\nL 54.390625 43.015625 \r\nL 54.390625 34.71875 \r\nL 19.671875 34.71875 \r\nL 19.671875 8.296875 \r\nL 56.78125 8.296875 \r\nL 56.78125 0 \r\nL 9.8125 0 \r\nz\r\n\" id=\"DejaVuSans-69\"/>\r\n       <path d=\"M 18.109375 8.203125 \r\nL 18.109375 -20.796875 \r\nL 9.078125 -20.796875 \r\nL 9.078125 54.6875 \r\nL 18.109375 54.6875 \r\nL 18.109375 46.390625 \r\nQ 20.953125 51.265625 25.265625 53.625 \r\nQ 29.59375 56 35.59375 56 \r\nQ 45.5625 56 51.78125 48.09375 \r\nQ 58.015625 40.1875 58.015625 27.296875 \r\nQ 58.015625 14.40625 51.78125 6.484375 \r\nQ 45.5625 -1.421875 35.59375 -1.421875 \r\nQ 29.59375 -1.421875 25.265625 0.953125 \r\nQ 20.953125 3.328125 18.109375 8.203125 \r\nz\r\nM 48.6875 27.296875 \r\nQ 48.6875 37.203125 44.609375 42.84375 \r\nQ 40.53125 48.484375 33.40625 48.484375 \r\nQ 26.265625 48.484375 22.1875 42.84375 \r\nQ 18.109375 37.203125 18.109375 27.296875 \r\nQ 18.109375 17.390625 22.1875 11.75 \r\nQ 26.265625 6.109375 33.40625 6.109375 \r\nQ 40.53125 6.109375 44.609375 11.75 \r\nQ 48.6875 17.390625 48.6875 27.296875 \r\nz\r\n\" id=\"DejaVuSans-112\"/>\r\n       <path d=\"M 30.609375 48.390625 \r\nQ 23.390625 48.390625 19.1875 42.75 \r\nQ 14.984375 37.109375 14.984375 27.296875 \r\nQ 14.984375 17.484375 19.15625 11.84375 \r\nQ 23.34375 6.203125 30.609375 6.203125 \r\nQ 37.796875 6.203125 41.984375 11.859375 \r\nQ 46.1875 17.53125 46.1875 27.296875 \r\nQ 46.1875 37.015625 41.984375 42.703125 \r\nQ 37.796875 48.390625 30.609375 48.390625 \r\nz\r\nM 30.609375 56 \r\nQ 42.328125 56 49.015625 48.375 \r\nQ 55.71875 40.765625 55.71875 27.296875 \r\nQ 55.71875 13.875 49.015625 6.21875 \r\nQ 42.328125 -1.421875 30.609375 -1.421875 \r\nQ 18.84375 -1.421875 12.171875 6.21875 \r\nQ 5.515625 13.875 5.515625 27.296875 \r\nQ 5.515625 40.765625 12.171875 48.375 \r\nQ 18.84375 56 30.609375 56 \r\nz\r\n\" id=\"DejaVuSans-111\"/>\r\n       <path d=\"M 48.78125 52.59375 \r\nL 48.78125 44.1875 \r\nQ 44.96875 46.296875 41.140625 47.34375 \r\nQ 37.3125 48.390625 33.40625 48.390625 \r\nQ 24.65625 48.390625 19.8125 42.84375 \r\nQ 14.984375 37.3125 14.984375 27.296875 \r\nQ 14.984375 17.28125 19.8125 11.734375 \r\nQ 24.65625 6.203125 33.40625 6.203125 \r\nQ 37.3125 6.203125 41.140625 7.25 \r\nQ 44.96875 8.296875 48.78125 10.40625 \r\nL 48.78125 2.09375 \r\nQ 45.015625 0.34375 40.984375 -0.53125 \r\nQ 36.96875 -1.421875 32.421875 -1.421875 \r\nQ 20.0625 -1.421875 12.78125 6.34375 \r\nQ 5.515625 14.109375 5.515625 27.296875 \r\nQ 5.515625 40.671875 12.859375 48.328125 \r\nQ 20.21875 56 33.015625 56 \r\nQ 37.15625 56 41.109375 55.140625 \r\nQ 45.0625 54.296875 48.78125 52.59375 \r\nz\r\n\" id=\"DejaVuSans-99\"/>\r\n       <path d=\"M 54.890625 33.015625 \r\nL 54.890625 0 \r\nL 45.90625 0 \r\nL 45.90625 32.71875 \r\nQ 45.90625 40.484375 42.875 44.328125 \r\nQ 39.84375 48.1875 33.796875 48.1875 \r\nQ 26.515625 48.1875 22.3125 43.546875 \r\nQ 18.109375 38.921875 18.109375 30.90625 \r\nL 18.109375 0 \r\nL 9.078125 0 \r\nL 9.078125 75.984375 \r\nL 18.109375 75.984375 \r\nL 18.109375 46.1875 \r\nQ 21.34375 51.125 25.703125 53.5625 \r\nQ 30.078125 56 35.796875 56 \r\nQ 45.21875 56 50.046875 50.171875 \r\nQ 54.890625 44.34375 54.890625 33.015625 \r\nz\r\n\" id=\"DejaVuSans-104\"/>\r\n       <path d=\"M 44.28125 53.078125 \r\nL 44.28125 44.578125 \r\nQ 40.484375 46.53125 36.375 47.5 \r\nQ 32.28125 48.484375 27.875 48.484375 \r\nQ 21.1875 48.484375 17.84375 46.4375 \r\nQ 14.5 44.390625 14.5 40.28125 \r\nQ 14.5 37.15625 16.890625 35.375 \r\nQ 19.28125 33.59375 26.515625 31.984375 \r\nL 29.59375 31.296875 \r\nQ 39.15625 29.25 43.1875 25.515625 \r\nQ 47.21875 21.78125 47.21875 15.09375 \r\nQ 47.21875 7.46875 41.1875 3.015625 \r\nQ 35.15625 -1.421875 24.609375 -1.421875 \r\nQ 20.21875 -1.421875 15.453125 -0.5625 \r\nQ 10.6875 0.296875 5.421875 2 \r\nL 5.421875 11.28125 \r\nQ 10.40625 8.6875 15.234375 7.390625 \r\nQ 20.0625 6.109375 24.8125 6.109375 \r\nQ 31.15625 6.109375 34.5625 8.28125 \r\nQ 37.984375 10.453125 37.984375 14.40625 \r\nQ 37.984375 18.0625 35.515625 20.015625 \r\nQ 33.0625 21.96875 24.703125 23.78125 \r\nL 21.578125 24.515625 \r\nQ 13.234375 26.265625 9.515625 29.90625 \r\nQ 5.8125 33.546875 5.8125 39.890625 \r\nQ 5.8125 47.609375 11.28125 51.796875 \r\nQ 16.75 56 26.8125 56 \r\nQ 31.78125 56 36.171875 55.265625 \r\nQ 40.578125 54.546875 44.28125 53.078125 \r\nz\r\n\" id=\"DejaVuSans-115\"/>\r\n      </defs>\r\n      <use xlink:href=\"#DejaVuSans-69\"/>\r\n      <use x=\"63.183594\" xlink:href=\"#DejaVuSans-112\"/>\r\n      <use x=\"126.660156\" xlink:href=\"#DejaVuSans-111\"/>\r\n      <use x=\"187.841797\" xlink:href=\"#DejaVuSans-99\"/>\r\n      <use x=\"242.822266\" xlink:href=\"#DejaVuSans-104\"/>\r\n      <use x=\"306.201172\" xlink:href=\"#DejaVuSans-115\"/>\r\n     </g>\r\n    </g>\r\n   </g>\r\n   <g id=\"matplotlib.axis_2\">\r\n    <g id=\"ytick_1\">\r\n     <g id=\"line2d_6\">\r\n      <defs>\r\n       <path d=\"M 0 0 \r\nL -3.5 0 \r\n\" id=\"m30d92124c5\" style=\"stroke:#000000;stroke-width:0.8;\"/>\r\n      </defs>\r\n      <g>\r\n       <use style=\"stroke:#000000;stroke-width:0.8;\" x=\"50.14375\" xlink:href=\"#m30d92124c5\" y=\"199.458281\"/>\r\n      </g>\r\n     </g>\r\n     <g id=\"text_7\">\r\n      <!-- 9.79 -->\r\n      <g transform=\"translate(20.878125 203.2575)scale(0.1 -0.1)\">\r\n       <defs>\r\n        <path d=\"M 10.984375 1.515625 \r\nL 10.984375 10.5 \r\nQ 14.703125 8.734375 18.5 7.8125 \r\nQ 22.3125 6.890625 25.984375 6.890625 \r\nQ 35.75 6.890625 40.890625 13.453125 \r\nQ 46.046875 20.015625 46.78125 33.40625 \r\nQ 43.953125 29.203125 39.59375 26.953125 \r\nQ 35.25 24.703125 29.984375 24.703125 \r\nQ 19.046875 24.703125 12.671875 31.3125 \r\nQ 6.296875 37.9375 6.296875 49.421875 \r\nQ 6.296875 60.640625 12.9375 67.421875 \r\nQ 19.578125 74.21875 30.609375 74.21875 \r\nQ 43.265625 74.21875 49.921875 64.515625 \r\nQ 56.59375 54.828125 56.59375 36.375 \r\nQ 56.59375 19.140625 48.40625 8.859375 \r\nQ 40.234375 -1.421875 26.421875 -1.421875 \r\nQ 22.703125 -1.421875 18.890625 -0.6875 \r\nQ 15.09375 0.046875 10.984375 1.515625 \r\nz\r\nM 30.609375 32.421875 \r\nQ 37.25 32.421875 41.125 36.953125 \r\nQ 45.015625 41.5 45.015625 49.421875 \r\nQ 45.015625 57.28125 41.125 61.84375 \r\nQ 37.25 66.40625 30.609375 66.40625 \r\nQ 23.96875 66.40625 20.09375 61.84375 \r\nQ 16.21875 57.28125 16.21875 49.421875 \r\nQ 16.21875 41.5 20.09375 36.953125 \r\nQ 23.96875 32.421875 30.609375 32.421875 \r\nz\r\n\" id=\"DejaVuSans-57\"/>\r\n        <path d=\"M 8.203125 72.90625 \r\nL 55.078125 72.90625 \r\nL 55.078125 68.703125 \r\nL 28.609375 0 \r\nL 18.3125 0 \r\nL 43.21875 64.59375 \r\nL 8.203125 64.59375 \r\nz\r\n\" id=\"DejaVuSans-55\"/>\r\n       </defs>\r\n       <use xlink:href=\"#DejaVuSans-57\"/>\r\n       <use x=\"63.623047\" xlink:href=\"#DejaVuSans-46\"/>\r\n       <use x=\"95.410156\" xlink:href=\"#DejaVuSans-55\"/>\r\n       <use x=\"159.033203\" xlink:href=\"#DejaVuSans-57\"/>\r\n      </g>\r\n     </g>\r\n    </g>\r\n    <g id=\"ytick_2\">\r\n     <g id=\"line2d_7\">\r\n      <g>\r\n       <use style=\"stroke:#000000;stroke-width:0.8;\" x=\"50.14375\" xlink:href=\"#m30d92124c5\" y=\"173.000924\"/>\r\n      </g>\r\n     </g>\r\n     <g id=\"text_8\">\r\n      <!-- 9.80 -->\r\n      <g transform=\"translate(20.878125 176.800142)scale(0.1 -0.1)\">\r\n       <defs>\r\n        <path d=\"M 31.78125 34.625 \r\nQ 24.75 34.625 20.71875 30.859375 \r\nQ 16.703125 27.09375 16.703125 20.515625 \r\nQ 16.703125 13.921875 20.71875 10.15625 \r\nQ 24.75 6.390625 31.78125 6.390625 \r\nQ 38.8125 6.390625 42.859375 10.171875 \r\nQ 46.921875 13.96875 46.921875 20.515625 \r\nQ 46.921875 27.09375 42.890625 30.859375 \r\nQ 38.875 34.625 31.78125 34.625 \r\nz\r\nM 21.921875 38.8125 \r\nQ 15.578125 40.375 12.03125 44.71875 \r\nQ 8.5 49.078125 8.5 55.328125 \r\nQ 8.5 64.0625 14.71875 69.140625 \r\nQ 20.953125 74.21875 31.78125 74.21875 \r\nQ 42.671875 74.21875 48.875 69.140625 \r\nQ 55.078125 64.0625 55.078125 55.328125 \r\nQ 55.078125 49.078125 51.53125 44.71875 \r\nQ 48 40.375 41.703125 38.8125 \r\nQ 48.828125 37.15625 52.796875 32.3125 \r\nQ 56.78125 27.484375 56.78125 20.515625 \r\nQ 56.78125 9.90625 50.3125 4.234375 \r\nQ 43.84375 -1.421875 31.78125 -1.421875 \r\nQ 19.734375 -1.421875 13.25 4.234375 \r\nQ 6.78125 9.90625 6.78125 20.515625 \r\nQ 6.78125 27.484375 10.78125 32.3125 \r\nQ 14.796875 37.15625 21.921875 38.8125 \r\nz\r\nM 18.3125 54.390625 \r\nQ 18.3125 48.734375 21.84375 45.5625 \r\nQ 25.390625 42.390625 31.78125 42.390625 \r\nQ 38.140625 42.390625 41.71875 45.5625 \r\nQ 45.3125 48.734375 45.3125 54.390625 \r\nQ 45.3125 60.0625 41.71875 63.234375 \r\nQ 38.140625 66.40625 31.78125 66.40625 \r\nQ 25.390625 66.40625 21.84375 63.234375 \r\nQ 18.3125 60.0625 18.3125 54.390625 \r\nz\r\n\" id=\"DejaVuSans-56\"/>\r\n       </defs>\r\n       <use xlink:href=\"#DejaVuSans-57\"/>\r\n       <use x=\"63.623047\" xlink:href=\"#DejaVuSans-46\"/>\r\n       <use x=\"95.410156\" xlink:href=\"#DejaVuSans-56\"/>\r\n       <use x=\"159.033203\" xlink:href=\"#DejaVuSans-48\"/>\r\n      </g>\r\n     </g>\r\n    </g>\r\n    <g id=\"ytick_3\">\r\n     <g id=\"line2d_8\">\r\n      <g>\r\n       <use style=\"stroke:#000000;stroke-width:0.8;\" x=\"50.14375\" xlink:href=\"#m30d92124c5\" y=\"146.543566\"/>\r\n      </g>\r\n     </g>\r\n     <g id=\"text_9\">\r\n      <!-- 9.81 -->\r\n      <g transform=\"translate(20.878125 150.342785)scale(0.1 -0.1)\">\r\n       <defs>\r\n        <path d=\"M 12.40625 8.296875 \r\nL 28.515625 8.296875 \r\nL 28.515625 63.921875 \r\nL 10.984375 60.40625 \r\nL 10.984375 69.390625 \r\nL 28.421875 72.90625 \r\nL 38.28125 72.90625 \r\nL 38.28125 8.296875 \r\nL 54.390625 8.296875 \r\nL 54.390625 0 \r\nL 12.40625 0 \r\nz\r\n\" id=\"DejaVuSans-49\"/>\r\n       </defs>\r\n       <use xlink:href=\"#DejaVuSans-57\"/>\r\n       <use x=\"63.623047\" xlink:href=\"#DejaVuSans-46\"/>\r\n       <use x=\"95.410156\" xlink:href=\"#DejaVuSans-56\"/>\r\n       <use x=\"159.033203\" xlink:href=\"#DejaVuSans-49\"/>\r\n      </g>\r\n     </g>\r\n    </g>\r\n    <g id=\"ytick_4\">\r\n     <g id=\"line2d_9\">\r\n      <g>\r\n       <use style=\"stroke:#000000;stroke-width:0.8;\" x=\"50.14375\" xlink:href=\"#m30d92124c5\" y=\"120.086208\"/>\r\n      </g>\r\n     </g>\r\n     <g id=\"text_10\">\r\n      <!-- 9.82 -->\r\n      <g transform=\"translate(20.878125 123.885427)scale(0.1 -0.1)\">\r\n       <use xlink:href=\"#DejaVuSans-57\"/>\r\n       <use x=\"63.623047\" xlink:href=\"#DejaVuSans-46\"/>\r\n       <use x=\"95.410156\" xlink:href=\"#DejaVuSans-56\"/>\r\n       <use x=\"159.033203\" xlink:href=\"#DejaVuSans-50\"/>\r\n      </g>\r\n     </g>\r\n    </g>\r\n    <g id=\"ytick_5\">\r\n     <g id=\"line2d_10\">\r\n      <g>\r\n       <use style=\"stroke:#000000;stroke-width:0.8;\" x=\"50.14375\" xlink:href=\"#m30d92124c5\" y=\"93.628851\"/>\r\n      </g>\r\n     </g>\r\n     <g id=\"text_11\">\r\n      <!-- 9.83 -->\r\n      <g transform=\"translate(20.878125 97.428069)scale(0.1 -0.1)\">\r\n       <defs>\r\n        <path d=\"M 40.578125 39.3125 \r\nQ 47.65625 37.796875 51.625 33 \r\nQ 55.609375 28.21875 55.609375 21.1875 \r\nQ 55.609375 10.40625 48.1875 4.484375 \r\nQ 40.765625 -1.421875 27.09375 -1.421875 \r\nQ 22.515625 -1.421875 17.65625 -0.515625 \r\nQ 12.796875 0.390625 7.625 2.203125 \r\nL 7.625 11.71875 \r\nQ 11.71875 9.328125 16.59375 8.109375 \r\nQ 21.484375 6.890625 26.8125 6.890625 \r\nQ 36.078125 6.890625 40.9375 10.546875 \r\nQ 45.796875 14.203125 45.796875 21.1875 \r\nQ 45.796875 27.640625 41.28125 31.265625 \r\nQ 36.765625 34.90625 28.71875 34.90625 \r\nL 20.21875 34.90625 \r\nL 20.21875 43.015625 \r\nL 29.109375 43.015625 \r\nQ 36.375 43.015625 40.234375 45.921875 \r\nQ 44.09375 48.828125 44.09375 54.296875 \r\nQ 44.09375 59.90625 40.109375 62.90625 \r\nQ 36.140625 65.921875 28.71875 65.921875 \r\nQ 24.65625 65.921875 20.015625 65.03125 \r\nQ 15.375 64.15625 9.8125 62.3125 \r\nL 9.8125 71.09375 \r\nQ 15.4375 72.65625 20.34375 73.4375 \r\nQ 25.25 74.21875 29.59375 74.21875 \r\nQ 40.828125 74.21875 47.359375 69.109375 \r\nQ 53.90625 64.015625 53.90625 55.328125 \r\nQ 53.90625 49.265625 50.4375 45.09375 \r\nQ 46.96875 40.921875 40.578125 39.3125 \r\nz\r\n\" id=\"DejaVuSans-51\"/>\r\n       </defs>\r\n       <use xlink:href=\"#DejaVuSans-57\"/>\r\n       <use x=\"63.623047\" xlink:href=\"#DejaVuSans-46\"/>\r\n       <use x=\"95.410156\" xlink:href=\"#DejaVuSans-56\"/>\r\n       <use x=\"159.033203\" xlink:href=\"#DejaVuSans-51\"/>\r\n      </g>\r\n     </g>\r\n    </g>\r\n    <g id=\"ytick_6\">\r\n     <g id=\"line2d_11\">\r\n      <g>\r\n       <use style=\"stroke:#000000;stroke-width:0.8;\" x=\"50.14375\" xlink:href=\"#m30d92124c5\" y=\"67.171493\"/>\r\n      </g>\r\n     </g>\r\n     <g id=\"text_12\">\r\n      <!-- 9.84 -->\r\n      <g transform=\"translate(20.878125 70.970712)scale(0.1 -0.1)\">\r\n       <use xlink:href=\"#DejaVuSans-57\"/>\r\n       <use x=\"63.623047\" xlink:href=\"#DejaVuSans-46\"/>\r\n       <use x=\"95.410156\" xlink:href=\"#DejaVuSans-56\"/>\r\n       <use x=\"159.033203\" xlink:href=\"#DejaVuSans-52\"/>\r\n      </g>\r\n     </g>\r\n    </g>\r\n    <g id=\"ytick_7\">\r\n     <g id=\"line2d_12\">\r\n      <g>\r\n       <use style=\"stroke:#000000;stroke-width:0.8;\" x=\"50.14375\" xlink:href=\"#m30d92124c5\" y=\"40.714135\"/>\r\n      </g>\r\n     </g>\r\n     <g id=\"text_13\">\r\n      <!-- 9.85 -->\r\n      <g transform=\"translate(20.878125 44.513354)scale(0.1 -0.1)\">\r\n       <defs>\r\n        <path d=\"M 10.796875 72.90625 \r\nL 49.515625 72.90625 \r\nL 49.515625 64.59375 \r\nL 19.828125 64.59375 \r\nL 19.828125 46.734375 \r\nQ 21.96875 47.46875 24.109375 47.828125 \r\nQ 26.265625 48.1875 28.421875 48.1875 \r\nQ 40.625 48.1875 47.75 41.5 \r\nQ 54.890625 34.8125 54.890625 23.390625 \r\nQ 54.890625 11.625 47.5625 5.09375 \r\nQ 40.234375 -1.421875 26.90625 -1.421875 \r\nQ 22.3125 -1.421875 17.546875 -0.640625 \r\nQ 12.796875 0.140625 7.71875 1.703125 \r\nL 7.71875 11.625 \r\nQ 12.109375 9.234375 16.796875 8.0625 \r\nQ 21.484375 6.890625 26.703125 6.890625 \r\nQ 35.15625 6.890625 40.078125 11.328125 \r\nQ 45.015625 15.765625 45.015625 23.390625 \r\nQ 45.015625 31 40.078125 35.4375 \r\nQ 35.15625 39.890625 26.703125 39.890625 \r\nQ 22.75 39.890625 18.8125 39.015625 \r\nQ 14.890625 38.140625 10.796875 36.28125 \r\nz\r\n\" id=\"DejaVuSans-53\"/>\r\n       </defs>\r\n       <use xlink:href=\"#DejaVuSans-57\"/>\r\n       <use x=\"63.623047\" xlink:href=\"#DejaVuSans-46\"/>\r\n       <use x=\"95.410156\" xlink:href=\"#DejaVuSans-56\"/>\r\n       <use x=\"159.033203\" xlink:href=\"#DejaVuSans-53\"/>\r\n      </g>\r\n     </g>\r\n    </g>\r\n    <g id=\"ytick_8\">\r\n     <g id=\"line2d_13\">\r\n      <g>\r\n       <use style=\"stroke:#000000;stroke-width:0.8;\" x=\"50.14375\" xlink:href=\"#m30d92124c5\" y=\"14.256777\"/>\r\n      </g>\r\n     </g>\r\n     <g id=\"text_14\">\r\n      <!-- 9.86 -->\r\n      <g transform=\"translate(20.878125 18.055996)scale(0.1 -0.1)\">\r\n       <defs>\r\n        <path d=\"M 33.015625 40.375 \r\nQ 26.375 40.375 22.484375 35.828125 \r\nQ 18.609375 31.296875 18.609375 23.390625 \r\nQ 18.609375 15.53125 22.484375 10.953125 \r\nQ 26.375 6.390625 33.015625 6.390625 \r\nQ 39.65625 6.390625 43.53125 10.953125 \r\nQ 47.40625 15.53125 47.40625 23.390625 \r\nQ 47.40625 31.296875 43.53125 35.828125 \r\nQ 39.65625 40.375 33.015625 40.375 \r\nz\r\nM 52.59375 71.296875 \r\nL 52.59375 62.3125 \r\nQ 48.875 64.0625 45.09375 64.984375 \r\nQ 41.3125 65.921875 37.59375 65.921875 \r\nQ 27.828125 65.921875 22.671875 59.328125 \r\nQ 17.53125 52.734375 16.796875 39.40625 \r\nQ 19.671875 43.65625 24.015625 45.921875 \r\nQ 28.375 48.1875 33.59375 48.1875 \r\nQ 44.578125 48.1875 50.953125 41.515625 \r\nQ 57.328125 34.859375 57.328125 23.390625 \r\nQ 57.328125 12.15625 50.6875 5.359375 \r\nQ 44.046875 -1.421875 33.015625 -1.421875 \r\nQ 20.359375 -1.421875 13.671875 8.265625 \r\nQ 6.984375 17.96875 6.984375 36.375 \r\nQ 6.984375 53.65625 15.1875 63.9375 \r\nQ 23.390625 74.21875 37.203125 74.21875 \r\nQ 40.921875 74.21875 44.703125 73.484375 \r\nQ 48.484375 72.75 52.59375 71.296875 \r\nz\r\n\" id=\"DejaVuSans-54\"/>\r\n       </defs>\r\n       <use xlink:href=\"#DejaVuSans-57\"/>\r\n       <use x=\"63.623047\" xlink:href=\"#DejaVuSans-46\"/>\r\n       <use x=\"95.410156\" xlink:href=\"#DejaVuSans-56\"/>\r\n       <use x=\"159.033203\" xlink:href=\"#DejaVuSans-54\"/>\r\n      </g>\r\n     </g>\r\n    </g>\r\n    <g id=\"text_15\">\r\n     <!-- Loss -->\r\n     <g transform=\"translate(14.798438 126.887188)rotate(-90)scale(0.1 -0.1)\">\r\n      <defs>\r\n       <path d=\"M 9.8125 72.90625 \r\nL 19.671875 72.90625 \r\nL 19.671875 8.296875 \r\nL 55.171875 8.296875 \r\nL 55.171875 0 \r\nL 9.8125 0 \r\nz\r\n\" id=\"DejaVuSans-76\"/>\r\n      </defs>\r\n      <use xlink:href=\"#DejaVuSans-76\"/>\r\n      <use x=\"53.962891\" xlink:href=\"#DejaVuSans-111\"/>\r\n      <use x=\"115.144531\" xlink:href=\"#DejaVuSans-115\"/>\r\n      <use x=\"167.244141\" xlink:href=\"#DejaVuSans-115\"/>\r\n     </g>\r\n    </g>\r\n   </g>\r\n   <g id=\"line2d_14\">\r\n    <path clip-path=\"url(#pd8a6d5b71c)\" d=\"M 217.54375 17.083636 \r\n\" style=\"fill:none;stroke:#1f77b4;stroke-linecap:square;stroke-width:1.5;\"/>\r\n   </g>\r\n   <g id=\"line2d_15\">\r\n    <path clip-path=\"url(#pd8a6d5b71c)\" d=\"M 217.54375 214.756364 \r\n\" style=\"fill:none;stroke:#ff7f0e;stroke-linecap:square;stroke-width:1.5;\"/>\r\n   </g>\r\n   <g id=\"patch_3\">\r\n    <path d=\"M 50.14375 224.64 \r\nL 50.14375 7.2 \r\n\" style=\"fill:none;stroke:#000000;stroke-linecap:square;stroke-linejoin:miter;stroke-width:0.8;\"/>\r\n   </g>\r\n   <g id=\"patch_4\">\r\n    <path d=\"M 384.94375 224.64 \r\nL 384.94375 7.2 \r\n\" style=\"fill:none;stroke:#000000;stroke-linecap:square;stroke-linejoin:miter;stroke-width:0.8;\"/>\r\n   </g>\r\n   <g id=\"patch_5\">\r\n    <path d=\"M 50.14375 224.64 \r\nL 384.94375 224.64 \r\n\" style=\"fill:none;stroke:#000000;stroke-linecap:square;stroke-linejoin:miter;stroke-width:0.8;\"/>\r\n   </g>\r\n   <g id=\"patch_6\">\r\n    <path d=\"M 50.14375 7.2 \r\nL 384.94375 7.2 \r\n\" style=\"fill:none;stroke:#000000;stroke-linecap:square;stroke-linejoin:miter;stroke-width:0.8;\"/>\r\n   </g>\r\n  </g>\r\n </g>\r\n <defs>\r\n  <clipPath id=\"pd8a6d5b71c\">\r\n   <rect height=\"217.44\" width=\"334.8\" x=\"50.14375\" y=\"7.2\"/>\r\n  </clipPath>\r\n </defs>\r\n</svg>\r\n",
      "image/png": "[encoded data removed]"
     },
     "metadata": {
      "needs_background": "light"
     }
    },
    {
     "output_type": "display_data",
     "data": {
      "text/plain": "<Figure size 432x288 with 1 Axes>",
      "image/svg+xml": "<?xml version=\"1.0\" encoding=\"utf-8\" standalone=\"no\"?>\r\n<!DOCTYPE svg PUBLIC \"-//W3C//DTD SVG 1.1//EN\"\r\n  \"http://www.w3.org/Graphics/SVG/1.1/DTD/svg11.dtd\">\r\n<!-- Created with matplotlib (https://matplotlib.org/) -->\r\n<svg height=\"262.19625pt\" version=\"1.1\" viewBox=\"0 0 417.59375 262.19625\" width=\"417.59375pt\" xmlns=\"http://www.w3.org/2000/svg\" xmlns:xlink=\"http://www.w3.org/1999/xlink\">\r\n <metadata>\r\n  <rdf:RDF xmlns:cc=\"http://creativecommons.org/ns#\" xmlns:dc=\"http://purl.org/dc/elements/1.1/\" xmlns:rdf=\"http://www.w3.org/1999/02/22-rdf-syntax-ns#\">\r\n   <cc:Work>\r\n    <dc:type rdf:resource=\"http://purl.org/dc/dcmitype/StillImage\"/>\r\n    <dc:date>2021-02-26T19:56:50.206878</dc:date>\r\n    <dc:format>image/svg+xml</dc:format>\r\n    <dc:creator>\r\n     <cc:Agent>\r\n      <dc:title>Matplotlib v3.3.4, https://matplotlib.org/</dc:title>\r\n     </cc:Agent>\r\n    </dc:creator>\r\n   </cc:Work>\r\n  </rdf:RDF>\r\n </metadata>\r\n <defs>\r\n  <style type=\"text/css\">*{stroke-linecap:butt;stroke-linejoin:round;}</style>\r\n </defs>\r\n <g id=\"figure_1\">\r\n  <g id=\"patch_1\">\r\n   <path d=\"M 0 262.19625 \r\nL 417.59375 262.19625 \r\nL 417.59375 0 \r\nL 0 0 \r\nz\r\n\" style=\"fill:none;\"/>\r\n  </g>\r\n  <g id=\"axes_1\">\r\n   <g id=\"patch_2\">\r\n    <path d=\"M 75.59375 224.64 \r\nL 410.39375 224.64 \r\nL 410.39375 7.2 \r\nL 75.59375 7.2 \r\nz\r\n\" style=\"fill:#ffffff;\"/>\r\n   </g>\r\n   <g id=\"matplotlib.axis_1\">\r\n    <g id=\"xtick_1\">\r\n     <g id=\"line2d_1\">\r\n      <defs>\r\n       <path d=\"M 0 0 \r\nL 0 3.5 \r\n\" id=\"m239670776b\" style=\"stroke:#000000;stroke-width:0.8;\"/>\r\n      </defs>\r\n      <g>\r\n       <use style=\"stroke:#000000;stroke-width:0.8;\" x=\"121.248295\" xlink:href=\"#m239670776b\" y=\"224.64\"/>\r\n      </g>\r\n     </g>\r\n     <g id=\"text_1\">\r\n      <!-- −0.04 -->\r\n      <g transform=\"translate(105.925639 239.238437)scale(0.1 -0.1)\">\r\n       <defs>\r\n        <path d=\"M 10.59375 35.5 \r\nL 73.1875 35.5 \r\nL 73.1875 27.203125 \r\nL 10.59375 27.203125 \r\nz\r\n\" id=\"DejaVuSans-8722\"/>\r\n        <path d=\"M 31.78125 66.40625 \r\nQ 24.171875 66.40625 20.328125 58.90625 \r\nQ 16.5 51.421875 16.5 36.375 \r\nQ 16.5 21.390625 20.328125 13.890625 \r\nQ 24.171875 6.390625 31.78125 6.390625 \r\nQ 39.453125 6.390625 43.28125 13.890625 \r\nQ 47.125 21.390625 47.125 36.375 \r\nQ 47.125 51.421875 43.28125 58.90625 \r\nQ 39.453125 66.40625 31.78125 66.40625 \r\nz\r\nM 31.78125 74.21875 \r\nQ 44.046875 74.21875 50.515625 64.515625 \r\nQ 56.984375 54.828125 56.984375 36.375 \r\nQ 56.984375 17.96875 50.515625 8.265625 \r\nQ 44.046875 -1.421875 31.78125 -1.421875 \r\nQ 19.53125 -1.421875 13.0625 8.265625 \r\nQ 6.59375 17.96875 6.59375 36.375 \r\nQ 6.59375 54.828125 13.0625 64.515625 \r\nQ 19.53125 74.21875 31.78125 74.21875 \r\nz\r\n\" id=\"DejaVuSans-48\"/>\r\n        <path d=\"M 10.6875 12.40625 \r\nL 21 12.40625 \r\nL 21 0 \r\nL 10.6875 0 \r\nz\r\n\" id=\"DejaVuSans-46\"/>\r\n        <path d=\"M 37.796875 64.3125 \r\nL 12.890625 25.390625 \r\nL 37.796875 25.390625 \r\nz\r\nM 35.203125 72.90625 \r\nL 47.609375 72.90625 \r\nL 47.609375 25.390625 \r\nL 58.015625 25.390625 \r\nL 58.015625 17.1875 \r\nL 47.609375 17.1875 \r\nL 47.609375 0 \r\nL 37.796875 0 \r\nL 37.796875 17.1875 \r\nL 4.890625 17.1875 \r\nL 4.890625 26.703125 \r\nz\r\n\" id=\"DejaVuSans-52\"/>\r\n       </defs>\r\n       <use xlink:href=\"#DejaVuSans-8722\"/>\r\n       <use x=\"83.789062\" xlink:href=\"#DejaVuSans-48\"/>\r\n       <use x=\"147.412109\" xlink:href=\"#DejaVuSans-46\"/>\r\n       <use x=\"179.199219\" xlink:href=\"#DejaVuSans-48\"/>\r\n       <use x=\"242.822266\" xlink:href=\"#DejaVuSans-52\"/>\r\n      </g>\r\n     </g>\r\n    </g>\r\n    <g id=\"xtick_2\">\r\n     <g id=\"line2d_2\">\r\n      <g>\r\n       <use style=\"stroke:#000000;stroke-width:0.8;\" x=\"182.121023\" xlink:href=\"#m239670776b\" y=\"224.64\"/>\r\n      </g>\r\n     </g>\r\n     <g id=\"text_2\">\r\n      <!-- −0.02 -->\r\n      <g transform=\"translate(166.798366 239.238437)scale(0.1 -0.1)\">\r\n       <defs>\r\n        <path d=\"M 19.1875 8.296875 \r\nL 53.609375 8.296875 \r\nL 53.609375 0 \r\nL 7.328125 0 \r\nL 7.328125 8.296875 \r\nQ 12.9375 14.109375 22.625 23.890625 \r\nQ 32.328125 33.6875 34.8125 36.53125 \r\nQ 39.546875 41.84375 41.421875 45.53125 \r\nQ 43.3125 49.21875 43.3125 52.78125 \r\nQ 43.3125 58.59375 39.234375 62.25 \r\nQ 35.15625 65.921875 28.609375 65.921875 \r\nQ 23.96875 65.921875 18.8125 64.3125 \r\nQ 13.671875 62.703125 7.8125 59.421875 \r\nL 7.8125 69.390625 \r\nQ 13.765625 71.78125 18.9375 73 \r\nQ 24.125 74.21875 28.421875 74.21875 \r\nQ 39.75 74.21875 46.484375 68.546875 \r\nQ 53.21875 62.890625 53.21875 53.421875 \r\nQ 53.21875 48.921875 51.53125 44.890625 \r\nQ 49.859375 40.875 45.40625 35.40625 \r\nQ 44.1875 33.984375 37.640625 27.21875 \r\nQ 31.109375 20.453125 19.1875 8.296875 \r\nz\r\n\" id=\"DejaVuSans-50\"/>\r\n       </defs>\r\n       <use xlink:href=\"#DejaVuSans-8722\"/>\r\n       <use x=\"83.789062\" xlink:href=\"#DejaVuSans-48\"/>\r\n       <use x=\"147.412109\" xlink:href=\"#DejaVuSans-46\"/>\r\n       <use x=\"179.199219\" xlink:href=\"#DejaVuSans-48\"/>\r\n       <use x=\"242.822266\" xlink:href=\"#DejaVuSans-50\"/>\r\n      </g>\r\n     </g>\r\n    </g>\r\n    <g id=\"xtick_3\">\r\n     <g id=\"line2d_3\">\r\n      <g>\r\n       <use style=\"stroke:#000000;stroke-width:0.8;\" x=\"242.99375\" xlink:href=\"#m239670776b\" y=\"224.64\"/>\r\n      </g>\r\n     </g>\r\n     <g id=\"text_3\">\r\n      <!-- 0.00 -->\r\n      <g transform=\"translate(231.860938 239.238437)scale(0.1 -0.1)\">\r\n       <use xlink:href=\"#DejaVuSans-48\"/>\r\n       <use x=\"63.623047\" xlink:href=\"#DejaVuSans-46\"/>\r\n       <use x=\"95.410156\" xlink:href=\"#DejaVuSans-48\"/>\r\n       <use x=\"159.033203\" xlink:href=\"#DejaVuSans-48\"/>\r\n      </g>\r\n     </g>\r\n    </g>\r\n    <g id=\"xtick_4\">\r\n     <g id=\"line2d_4\">\r\n      <g>\r\n       <use style=\"stroke:#000000;stroke-width:0.8;\" x=\"303.866477\" xlink:href=\"#m239670776b\" y=\"224.64\"/>\r\n      </g>\r\n     </g>\r\n     <g id=\"text_4\">\r\n      <!-- 0.02 -->\r\n      <g transform=\"translate(292.733665 239.238437)scale(0.1 -0.1)\">\r\n       <use xlink:href=\"#DejaVuSans-48\"/>\r\n       <use x=\"63.623047\" xlink:href=\"#DejaVuSans-46\"/>\r\n       <use x=\"95.410156\" xlink:href=\"#DejaVuSans-48\"/>\r\n       <use x=\"159.033203\" xlink:href=\"#DejaVuSans-50\"/>\r\n      </g>\r\n     </g>\r\n    </g>\r\n    <g id=\"xtick_5\">\r\n     <g id=\"line2d_5\">\r\n      <g>\r\n       <use style=\"stroke:#000000;stroke-width:0.8;\" x=\"364.739205\" xlink:href=\"#m239670776b\" y=\"224.64\"/>\r\n      </g>\r\n     </g>\r\n     <g id=\"text_5\">\r\n      <!-- 0.04 -->\r\n      <g transform=\"translate(353.606392 239.238437)scale(0.1 -0.1)\">\r\n       <use xlink:href=\"#DejaVuSans-48\"/>\r\n       <use x=\"63.623047\" xlink:href=\"#DejaVuSans-46\"/>\r\n       <use x=\"95.410156\" xlink:href=\"#DejaVuSans-48\"/>\r\n       <use x=\"159.033203\" xlink:href=\"#DejaVuSans-52\"/>\r\n      </g>\r\n     </g>\r\n    </g>\r\n    <g id=\"text_6\">\r\n     <!-- Epochs -->\r\n     <g transform=\"translate(225.078125 252.916562)scale(0.1 -0.1)\">\r\n      <defs>\r\n       <path d=\"M 9.8125 72.90625 \r\nL 55.90625 72.90625 \r\nL 55.90625 64.59375 \r\nL 19.671875 64.59375 \r\nL 19.671875 43.015625 \r\nL 54.390625 43.015625 \r\nL 54.390625 34.71875 \r\nL 19.671875 34.71875 \r\nL 19.671875 8.296875 \r\nL 56.78125 8.296875 \r\nL 56.78125 0 \r\nL 9.8125 0 \r\nz\r\n\" id=\"DejaVuSans-69\"/>\r\n       <path d=\"M 18.109375 8.203125 \r\nL 18.109375 -20.796875 \r\nL 9.078125 -20.796875 \r\nL 9.078125 54.6875 \r\nL 18.109375 54.6875 \r\nL 18.109375 46.390625 \r\nQ 20.953125 51.265625 25.265625 53.625 \r\nQ 29.59375 56 35.59375 56 \r\nQ 45.5625 56 51.78125 48.09375 \r\nQ 58.015625 40.1875 58.015625 27.296875 \r\nQ 58.015625 14.40625 51.78125 6.484375 \r\nQ 45.5625 -1.421875 35.59375 -1.421875 \r\nQ 29.59375 -1.421875 25.265625 0.953125 \r\nQ 20.953125 3.328125 18.109375 8.203125 \r\nz\r\nM 48.6875 27.296875 \r\nQ 48.6875 37.203125 44.609375 42.84375 \r\nQ 40.53125 48.484375 33.40625 48.484375 \r\nQ 26.265625 48.484375 22.1875 42.84375 \r\nQ 18.109375 37.203125 18.109375 27.296875 \r\nQ 18.109375 17.390625 22.1875 11.75 \r\nQ 26.265625 6.109375 33.40625 6.109375 \r\nQ 40.53125 6.109375 44.609375 11.75 \r\nQ 48.6875 17.390625 48.6875 27.296875 \r\nz\r\n\" id=\"DejaVuSans-112\"/>\r\n       <path d=\"M 30.609375 48.390625 \r\nQ 23.390625 48.390625 19.1875 42.75 \r\nQ 14.984375 37.109375 14.984375 27.296875 \r\nQ 14.984375 17.484375 19.15625 11.84375 \r\nQ 23.34375 6.203125 30.609375 6.203125 \r\nQ 37.796875 6.203125 41.984375 11.859375 \r\nQ 46.1875 17.53125 46.1875 27.296875 \r\nQ 46.1875 37.015625 41.984375 42.703125 \r\nQ 37.796875 48.390625 30.609375 48.390625 \r\nz\r\nM 30.609375 56 \r\nQ 42.328125 56 49.015625 48.375 \r\nQ 55.71875 40.765625 55.71875 27.296875 \r\nQ 55.71875 13.875 49.015625 6.21875 \r\nQ 42.328125 -1.421875 30.609375 -1.421875 \r\nQ 18.84375 -1.421875 12.171875 6.21875 \r\nQ 5.515625 13.875 5.515625 27.296875 \r\nQ 5.515625 40.765625 12.171875 48.375 \r\nQ 18.84375 56 30.609375 56 \r\nz\r\n\" id=\"DejaVuSans-111\"/>\r\n       <path d=\"M 48.78125 52.59375 \r\nL 48.78125 44.1875 \r\nQ 44.96875 46.296875 41.140625 47.34375 \r\nQ 37.3125 48.390625 33.40625 48.390625 \r\nQ 24.65625 48.390625 19.8125 42.84375 \r\nQ 14.984375 37.3125 14.984375 27.296875 \r\nQ 14.984375 17.28125 19.8125 11.734375 \r\nQ 24.65625 6.203125 33.40625 6.203125 \r\nQ 37.3125 6.203125 41.140625 7.25 \r\nQ 44.96875 8.296875 48.78125 10.40625 \r\nL 48.78125 2.09375 \r\nQ 45.015625 0.34375 40.984375 -0.53125 \r\nQ 36.96875 -1.421875 32.421875 -1.421875 \r\nQ 20.0625 -1.421875 12.78125 6.34375 \r\nQ 5.515625 14.109375 5.515625 27.296875 \r\nQ 5.515625 40.671875 12.859375 48.328125 \r\nQ 20.21875 56 33.015625 56 \r\nQ 37.15625 56 41.109375 55.140625 \r\nQ 45.0625 54.296875 48.78125 52.59375 \r\nz\r\n\" id=\"DejaVuSans-99\"/>\r\n       <path d=\"M 54.890625 33.015625 \r\nL 54.890625 0 \r\nL 45.90625 0 \r\nL 45.90625 32.71875 \r\nQ 45.90625 40.484375 42.875 44.328125 \r\nQ 39.84375 48.1875 33.796875 48.1875 \r\nQ 26.515625 48.1875 22.3125 43.546875 \r\nQ 18.109375 38.921875 18.109375 30.90625 \r\nL 18.109375 0 \r\nL 9.078125 0 \r\nL 9.078125 75.984375 \r\nL 18.109375 75.984375 \r\nL 18.109375 46.1875 \r\nQ 21.34375 51.125 25.703125 53.5625 \r\nQ 30.078125 56 35.796875 56 \r\nQ 45.21875 56 50.046875 50.171875 \r\nQ 54.890625 44.34375 54.890625 33.015625 \r\nz\r\n\" id=\"DejaVuSans-104\"/>\r\n       <path d=\"M 44.28125 53.078125 \r\nL 44.28125 44.578125 \r\nQ 40.484375 46.53125 36.375 47.5 \r\nQ 32.28125 48.484375 27.875 48.484375 \r\nQ 21.1875 48.484375 17.84375 46.4375 \r\nQ 14.5 44.390625 14.5 40.28125 \r\nQ 14.5 37.15625 16.890625 35.375 \r\nQ 19.28125 33.59375 26.515625 31.984375 \r\nL 29.59375 31.296875 \r\nQ 39.15625 29.25 43.1875 25.515625 \r\nQ 47.21875 21.78125 47.21875 15.09375 \r\nQ 47.21875 7.46875 41.1875 3.015625 \r\nQ 35.15625 -1.421875 24.609375 -1.421875 \r\nQ 20.21875 -1.421875 15.453125 -0.5625 \r\nQ 10.6875 0.296875 5.421875 2 \r\nL 5.421875 11.28125 \r\nQ 10.40625 8.6875 15.234375 7.390625 \r\nQ 20.0625 6.109375 24.8125 6.109375 \r\nQ 31.15625 6.109375 34.5625 8.28125 \r\nQ 37.984375 10.453125 37.984375 14.40625 \r\nQ 37.984375 18.0625 35.515625 20.015625 \r\nQ 33.0625 21.96875 24.703125 23.78125 \r\nL 21.578125 24.515625 \r\nQ 13.234375 26.265625 9.515625 29.90625 \r\nQ 5.8125 33.546875 5.8125 39.890625 \r\nQ 5.8125 47.609375 11.28125 51.796875 \r\nQ 16.75 56 26.8125 56 \r\nQ 31.78125 56 36.171875 55.265625 \r\nQ 40.578125 54.546875 44.28125 53.078125 \r\nz\r\n\" id=\"DejaVuSans-115\"/>\r\n      </defs>\r\n      <use xlink:href=\"#DejaVuSans-69\"/>\r\n      <use x=\"63.183594\" xlink:href=\"#DejaVuSans-112\"/>\r\n      <use x=\"126.660156\" xlink:href=\"#DejaVuSans-111\"/>\r\n      <use x=\"187.841797\" xlink:href=\"#DejaVuSans-99\"/>\r\n      <use x=\"242.822266\" xlink:href=\"#DejaVuSans-104\"/>\r\n      <use x=\"306.201172\" xlink:href=\"#DejaVuSans-115\"/>\r\n     </g>\r\n    </g>\r\n   </g>\r\n   <g id=\"matplotlib.axis_2\">\r\n    <g id=\"ytick_1\">\r\n     <g id=\"line2d_6\">\r\n      <defs>\r\n       <path d=\"M 0 0 \r\nL -3.5 0 \r\n\" id=\"m0d3e7a0d44\" style=\"stroke:#000000;stroke-width:0.8;\"/>\r\n      </defs>\r\n      <g>\r\n       <use style=\"stroke:#000000;stroke-width:0.8;\" x=\"75.59375\" xlink:href=\"#m0d3e7a0d44\" y=\"206.068523\"/>\r\n      </g>\r\n     </g>\r\n     <g id=\"text_7\">\r\n      <!-- 0.001710 -->\r\n      <g transform=\"translate(20.878125 209.867742)scale(0.1 -0.1)\">\r\n       <defs>\r\n        <path d=\"M 12.40625 8.296875 \r\nL 28.515625 8.296875 \r\nL 28.515625 63.921875 \r\nL 10.984375 60.40625 \r\nL 10.984375 69.390625 \r\nL 28.421875 72.90625 \r\nL 38.28125 72.90625 \r\nL 38.28125 8.296875 \r\nL 54.390625 8.296875 \r\nL 54.390625 0 \r\nL 12.40625 0 \r\nz\r\n\" id=\"DejaVuSans-49\"/>\r\n        <path d=\"M 8.203125 72.90625 \r\nL 55.078125 72.90625 \r\nL 55.078125 68.703125 \r\nL 28.609375 0 \r\nL 18.3125 0 \r\nL 43.21875 64.59375 \r\nL 8.203125 64.59375 \r\nz\r\n\" id=\"DejaVuSans-55\"/>\r\n       </defs>\r\n       <use xlink:href=\"#DejaVuSans-48\"/>\r\n       <use x=\"63.623047\" xlink:href=\"#DejaVuSans-46\"/>\r\n       <use x=\"95.410156\" xlink:href=\"#DejaVuSans-48\"/>\r\n       <use x=\"159.033203\" xlink:href=\"#DejaVuSans-48\"/>\r\n       <use x=\"222.65625\" xlink:href=\"#DejaVuSans-49\"/>\r\n       <use x=\"286.279297\" xlink:href=\"#DejaVuSans-55\"/>\r\n       <use x=\"349.902344\" xlink:href=\"#DejaVuSans-49\"/>\r\n       <use x=\"413.525391\" xlink:href=\"#DejaVuSans-48\"/>\r\n      </g>\r\n     </g>\r\n    </g>\r\n    <g id=\"ytick_2\">\r\n     <g id=\"line2d_7\">\r\n      <g>\r\n       <use style=\"stroke:#000000;stroke-width:0.8;\" x=\"75.59375\" xlink:href=\"#m0d3e7a0d44\" y=\"158.064842\"/>\r\n      </g>\r\n     </g>\r\n     <g id=\"text_8\">\r\n      <!-- 0.001715 -->\r\n      <g transform=\"translate(20.878125 161.864061)scale(0.1 -0.1)\">\r\n       <defs>\r\n        <path d=\"M 10.796875 72.90625 \r\nL 49.515625 72.90625 \r\nL 49.515625 64.59375 \r\nL 19.828125 64.59375 \r\nL 19.828125 46.734375 \r\nQ 21.96875 47.46875 24.109375 47.828125 \r\nQ 26.265625 48.1875 28.421875 48.1875 \r\nQ 40.625 48.1875 47.75 41.5 \r\nQ 54.890625 34.8125 54.890625 23.390625 \r\nQ 54.890625 11.625 47.5625 5.09375 \r\nQ 40.234375 -1.421875 26.90625 -1.421875 \r\nQ 22.3125 -1.421875 17.546875 -0.640625 \r\nQ 12.796875 0.140625 7.71875 1.703125 \r\nL 7.71875 11.625 \r\nQ 12.109375 9.234375 16.796875 8.0625 \r\nQ 21.484375 6.890625 26.703125 6.890625 \r\nQ 35.15625 6.890625 40.078125 11.328125 \r\nQ 45.015625 15.765625 45.015625 23.390625 \r\nQ 45.015625 31 40.078125 35.4375 \r\nQ 35.15625 39.890625 26.703125 39.890625 \r\nQ 22.75 39.890625 18.8125 39.015625 \r\nQ 14.890625 38.140625 10.796875 36.28125 \r\nz\r\n\" id=\"DejaVuSans-53\"/>\r\n       </defs>\r\n       <use xlink:href=\"#DejaVuSans-48\"/>\r\n       <use x=\"63.623047\" xlink:href=\"#DejaVuSans-46\"/>\r\n       <use x=\"95.410156\" xlink:href=\"#DejaVuSans-48\"/>\r\n       <use x=\"159.033203\" xlink:href=\"#DejaVuSans-48\"/>\r\n       <use x=\"222.65625\" xlink:href=\"#DejaVuSans-49\"/>\r\n       <use x=\"286.279297\" xlink:href=\"#DejaVuSans-55\"/>\r\n       <use x=\"349.902344\" xlink:href=\"#DejaVuSans-49\"/>\r\n       <use x=\"413.525391\" xlink:href=\"#DejaVuSans-53\"/>\r\n      </g>\r\n     </g>\r\n    </g>\r\n    <g id=\"ytick_3\">\r\n     <g id=\"line2d_8\">\r\n      <g>\r\n       <use style=\"stroke:#000000;stroke-width:0.8;\" x=\"75.59375\" xlink:href=\"#m0d3e7a0d44\" y=\"110.061161\"/>\r\n      </g>\r\n     </g>\r\n     <g id=\"text_9\">\r\n      <!-- 0.001720 -->\r\n      <g transform=\"translate(20.878125 113.86038)scale(0.1 -0.1)\">\r\n       <use xlink:href=\"#DejaVuSans-48\"/>\r\n       <use x=\"63.623047\" xlink:href=\"#DejaVuSans-46\"/>\r\n       <use x=\"95.410156\" xlink:href=\"#DejaVuSans-48\"/>\r\n       <use x=\"159.033203\" xlink:href=\"#DejaVuSans-48\"/>\r\n       <use x=\"222.65625\" xlink:href=\"#DejaVuSans-49\"/>\r\n       <use x=\"286.279297\" xlink:href=\"#DejaVuSans-55\"/>\r\n       <use x=\"349.902344\" xlink:href=\"#DejaVuSans-50\"/>\r\n       <use x=\"413.525391\" xlink:href=\"#DejaVuSans-48\"/>\r\n      </g>\r\n     </g>\r\n    </g>\r\n    <g id=\"ytick_4\">\r\n     <g id=\"line2d_9\">\r\n      <g>\r\n       <use style=\"stroke:#000000;stroke-width:0.8;\" x=\"75.59375\" xlink:href=\"#m0d3e7a0d44\" y=\"62.05748\"/>\r\n      </g>\r\n     </g>\r\n     <g id=\"text_10\">\r\n      <!-- 0.001725 -->\r\n      <g transform=\"translate(20.878125 65.856699)scale(0.1 -0.1)\">\r\n       <use xlink:href=\"#DejaVuSans-48\"/>\r\n       <use x=\"63.623047\" xlink:href=\"#DejaVuSans-46\"/>\r\n       <use x=\"95.410156\" xlink:href=\"#DejaVuSans-48\"/>\r\n       <use x=\"159.033203\" xlink:href=\"#DejaVuSans-48\"/>\r\n       <use x=\"222.65625\" xlink:href=\"#DejaVuSans-49\"/>\r\n       <use x=\"286.279297\" xlink:href=\"#DejaVuSans-55\"/>\r\n       <use x=\"349.902344\" xlink:href=\"#DejaVuSans-50\"/>\r\n       <use x=\"413.525391\" xlink:href=\"#DejaVuSans-53\"/>\r\n      </g>\r\n     </g>\r\n    </g>\r\n    <g id=\"ytick_5\">\r\n     <g id=\"line2d_10\">\r\n      <g>\r\n       <use style=\"stroke:#000000;stroke-width:0.8;\" x=\"75.59375\" xlink:href=\"#m0d3e7a0d44\" y=\"14.0538\"/>\r\n      </g>\r\n     </g>\r\n     <g id=\"text_11\">\r\n      <!-- 0.001730 -->\r\n      <g transform=\"translate(20.878125 17.853018)scale(0.1 -0.1)\">\r\n       <defs>\r\n        <path d=\"M 40.578125 39.3125 \r\nQ 47.65625 37.796875 51.625 33 \r\nQ 55.609375 28.21875 55.609375 21.1875 \r\nQ 55.609375 10.40625 48.1875 4.484375 \r\nQ 40.765625 -1.421875 27.09375 -1.421875 \r\nQ 22.515625 -1.421875 17.65625 -0.515625 \r\nQ 12.796875 0.390625 7.625 2.203125 \r\nL 7.625 11.71875 \r\nQ 11.71875 9.328125 16.59375 8.109375 \r\nQ 21.484375 6.890625 26.8125 6.890625 \r\nQ 36.078125 6.890625 40.9375 10.546875 \r\nQ 45.796875 14.203125 45.796875 21.1875 \r\nQ 45.796875 27.640625 41.28125 31.265625 \r\nQ 36.765625 34.90625 28.71875 34.90625 \r\nL 20.21875 34.90625 \r\nL 20.21875 43.015625 \r\nL 29.109375 43.015625 \r\nQ 36.375 43.015625 40.234375 45.921875 \r\nQ 44.09375 48.828125 44.09375 54.296875 \r\nQ 44.09375 59.90625 40.109375 62.90625 \r\nQ 36.140625 65.921875 28.71875 65.921875 \r\nQ 24.65625 65.921875 20.015625 65.03125 \r\nQ 15.375 64.15625 9.8125 62.3125 \r\nL 9.8125 71.09375 \r\nQ 15.4375 72.65625 20.34375 73.4375 \r\nQ 25.25 74.21875 29.59375 74.21875 \r\nQ 40.828125 74.21875 47.359375 69.109375 \r\nQ 53.90625 64.015625 53.90625 55.328125 \r\nQ 53.90625 49.265625 50.4375 45.09375 \r\nQ 46.96875 40.921875 40.578125 39.3125 \r\nz\r\n\" id=\"DejaVuSans-51\"/>\r\n       </defs>\r\n       <use xlink:href=\"#DejaVuSans-48\"/>\r\n       <use x=\"63.623047\" xlink:href=\"#DejaVuSans-46\"/>\r\n       <use x=\"95.410156\" xlink:href=\"#DejaVuSans-48\"/>\r\n       <use x=\"159.033203\" xlink:href=\"#DejaVuSans-48\"/>\r\n       <use x=\"222.65625\" xlink:href=\"#DejaVuSans-49\"/>\r\n       <use x=\"286.279297\" xlink:href=\"#DejaVuSans-55\"/>\r\n       <use x=\"349.902344\" xlink:href=\"#DejaVuSans-51\"/>\r\n       <use x=\"413.525391\" xlink:href=\"#DejaVuSans-48\"/>\r\n      </g>\r\n     </g>\r\n    </g>\r\n    <g id=\"text_12\">\r\n     <!-- Accuracy -->\r\n     <g transform=\"translate(14.798437 138.748125)rotate(-90)scale(0.1 -0.1)\">\r\n      <defs>\r\n       <path d=\"M 34.1875 63.1875 \r\nL 20.796875 26.90625 \r\nL 47.609375 26.90625 \r\nz\r\nM 28.609375 72.90625 \r\nL 39.796875 72.90625 \r\nL 67.578125 0 \r\nL 57.328125 0 \r\nL 50.6875 18.703125 \r\nL 17.828125 18.703125 \r\nL 11.1875 0 \r\nL 0.78125 0 \r\nz\r\n\" id=\"DejaVuSans-65\"/>\r\n       <path d=\"M 8.5 21.578125 \r\nL 8.5 54.6875 \r\nL 17.484375 54.6875 \r\nL 17.484375 21.921875 \r\nQ 17.484375 14.15625 20.5 10.265625 \r\nQ 23.53125 6.390625 29.59375 6.390625 \r\nQ 36.859375 6.390625 41.078125 11.03125 \r\nQ 45.3125 15.671875 45.3125 23.6875 \r\nL 45.3125 54.6875 \r\nL 54.296875 54.6875 \r\nL 54.296875 0 \r\nL 45.3125 0 \r\nL 45.3125 8.40625 \r\nQ 42.046875 3.421875 37.71875 1 \r\nQ 33.40625 -1.421875 27.6875 -1.421875 \r\nQ 18.265625 -1.421875 13.375 4.4375 \r\nQ 8.5 10.296875 8.5 21.578125 \r\nz\r\nM 31.109375 56 \r\nz\r\n\" id=\"DejaVuSans-117\"/>\r\n       <path d=\"M 41.109375 46.296875 \r\nQ 39.59375 47.171875 37.8125 47.578125 \r\nQ 36.03125 48 33.890625 48 \r\nQ 26.265625 48 22.1875 43.046875 \r\nQ 18.109375 38.09375 18.109375 28.8125 \r\nL 18.109375 0 \r\nL 9.078125 0 \r\nL 9.078125 54.6875 \r\nL 18.109375 54.6875 \r\nL 18.109375 46.1875 \r\nQ 20.953125 51.171875 25.484375 53.578125 \r\nQ 30.03125 56 36.53125 56 \r\nQ 37.453125 56 38.578125 55.875 \r\nQ 39.703125 55.765625 41.0625 55.515625 \r\nz\r\n\" id=\"DejaVuSans-114\"/>\r\n       <path d=\"M 34.28125 27.484375 \r\nQ 23.390625 27.484375 19.1875 25 \r\nQ 14.984375 22.515625 14.984375 16.5 \r\nQ 14.984375 11.71875 18.140625 8.90625 \r\nQ 21.296875 6.109375 26.703125 6.109375 \r\nQ 34.1875 6.109375 38.703125 11.40625 \r\nQ 43.21875 16.703125 43.21875 25.484375 \r\nL 43.21875 27.484375 \r\nz\r\nM 52.203125 31.203125 \r\nL 52.203125 0 \r\nL 43.21875 0 \r\nL 43.21875 8.296875 \r\nQ 40.140625 3.328125 35.546875 0.953125 \r\nQ 30.953125 -1.421875 24.3125 -1.421875 \r\nQ 15.921875 -1.421875 10.953125 3.296875 \r\nQ 6 8.015625 6 15.921875 \r\nQ 6 25.140625 12.171875 29.828125 \r\nQ 18.359375 34.515625 30.609375 34.515625 \r\nL 43.21875 34.515625 \r\nL 43.21875 35.40625 \r\nQ 43.21875 41.609375 39.140625 45 \r\nQ 35.0625 48.390625 27.6875 48.390625 \r\nQ 23 48.390625 18.546875 47.265625 \r\nQ 14.109375 46.140625 10.015625 43.890625 \r\nL 10.015625 52.203125 \r\nQ 14.9375 54.109375 19.578125 55.046875 \r\nQ 24.21875 56 28.609375 56 \r\nQ 40.484375 56 46.34375 49.84375 \r\nQ 52.203125 43.703125 52.203125 31.203125 \r\nz\r\n\" id=\"DejaVuSans-97\"/>\r\n       <path d=\"M 32.171875 -5.078125 \r\nQ 28.375 -14.84375 24.75 -17.8125 \r\nQ 21.140625 -20.796875 15.09375 -20.796875 \r\nL 7.90625 -20.796875 \r\nL 7.90625 -13.28125 \r\nL 13.1875 -13.28125 \r\nQ 16.890625 -13.28125 18.9375 -11.515625 \r\nQ 21 -9.765625 23.484375 -3.21875 \r\nL 25.09375 0.875 \r\nL 2.984375 54.6875 \r\nL 12.5 54.6875 \r\nL 29.59375 11.921875 \r\nL 46.6875 54.6875 \r\nL 56.203125 54.6875 \r\nz\r\n\" id=\"DejaVuSans-121\"/>\r\n      </defs>\r\n      <use xlink:href=\"#DejaVuSans-65\"/>\r\n      <use x=\"66.658203\" xlink:href=\"#DejaVuSans-99\"/>\r\n      <use x=\"121.638672\" xlink:href=\"#DejaVuSans-99\"/>\r\n      <use x=\"176.619141\" xlink:href=\"#DejaVuSans-117\"/>\r\n      <use x=\"239.998047\" xlink:href=\"#DejaVuSans-114\"/>\r\n      <use x=\"281.111328\" xlink:href=\"#DejaVuSans-97\"/>\r\n      <use x=\"342.390625\" xlink:href=\"#DejaVuSans-99\"/>\r\n      <use x=\"397.371094\" xlink:href=\"#DejaVuSans-121\"/>\r\n     </g>\r\n    </g>\r\n   </g>\r\n   <g id=\"line2d_11\">\r\n    <path clip-path=\"url(#p20d92acf1f)\" d=\"M 242.99375 214.756364 \r\n\" style=\"fill:none;stroke:#1f77b4;stroke-linecap:square;stroke-width:1.5;\"/>\r\n   </g>\r\n   <g id=\"line2d_12\">\r\n    <path clip-path=\"url(#p20d92acf1f)\" d=\"M 242.99375 17.083636 \r\n\" style=\"fill:none;stroke:#ff7f0e;stroke-linecap:square;stroke-width:1.5;\"/>\r\n   </g>\r\n   <g id=\"patch_3\">\r\n    <path d=\"M 75.59375 224.64 \r\nL 75.59375 7.2 \r\n\" style=\"fill:none;stroke:#000000;stroke-linecap:square;stroke-linejoin:miter;stroke-width:0.8;\"/>\r\n   </g>\r\n   <g id=\"patch_4\">\r\n    <path d=\"M 410.39375 224.64 \r\nL 410.39375 7.2 \r\n\" style=\"fill:none;stroke:#000000;stroke-linecap:square;stroke-linejoin:miter;stroke-width:0.8;\"/>\r\n   </g>\r\n   <g id=\"patch_5\">\r\n    <path d=\"M 75.59375 224.64 \r\nL 410.39375 224.64 \r\n\" style=\"fill:none;stroke:#000000;stroke-linecap:square;stroke-linejoin:miter;stroke-width:0.8;\"/>\r\n   </g>\r\n   <g id=\"patch_6\">\r\n    <path d=\"M 75.59375 7.2 \r\nL 410.39375 7.2 \r\n\" style=\"fill:none;stroke:#000000;stroke-linecap:square;stroke-linejoin:miter;stroke-width:0.8;\"/>\r\n   </g>\r\n  </g>\r\n </g>\r\n <defs>\r\n  <clipPath id=\"p20d92acf1f\">\r\n   <rect height=\"217.44\" width=\"334.8\" x=\"75.59375\" y=\"7.2\"/>\r\n  </clipPath>\r\n </defs>\r\n</svg>\r\n",
      "image/png": "[encoded data removed]"
     },
     "metadata": {
      "needs_background": "light"
     }
    }
   ],
   "source": [
    "plt.plot(h.history['loss'], label='Train loss')\n",
    "plt.plot(h.history['val_loss'], label='Validation loss')\n",
    "plt.xlabel('Epochs')\n",
    "plt.ylabel('Loss')\n",
    "plt.show()\n",
    "plt.plot(h.history['acc'], label='Train accuracy')\n",
    "plt.plot(h.history['val_acc'], label='Validation accuracy')\n",
    "plt.xlabel('Epochs')\n",
    "plt.ylabel('Accuracy')\n",
    "plt.show()"
   ]
  },
  {
   "cell_type": "code",
   "execution_count": 50,
   "metadata": {},
   "outputs": [
    {
     "output_type": "stream",
     "name": "stdout",
     "text": [
      "[4279, 5704, 1642, 14499, 4083, 22450, 1935, 20230, 8624, 22450, 1744, 597, 16163, 2661, 1877, 6071, 597, 4575, 14636, 1791, 9027, 7957, 5743, 21285, 928, 4729, 9548, 19957, 3270, 6549, 14837, 25042, 977, 7859, 18435, 18193, 6072, 5387, 6087, 1910, 31771, 17647, 6283, 5956, 13617, 19716, 27679, 6133, 3780, 6586, 2626, 3779, 6136, 629, 704, 3099, 6471, 5517, 1990, 536, 30893, 7922, 19822, 25607, 10485, 2031, 4864, 18094, 8118, 7652, 15079, 15306, 7371, 13903, 3450, 1125, 7706, 26474, 642, 355, 1528, 1647, 1004, 1488, 3020, 4224, 2262, 13122, 11486, 785, 5535, 5530, 1490, 11096, 428, 2473, 2481, 1965, 4900, 9525, 16787, 12197, 9039, 12530, 1997, 267, 4081, 14628, 111, 1717, 1958, 1198, 1717, 3983, 3982, 3469, 428, 5365, 1526, 10370, 16534, 13636, 11410, 693, 6449, 808, 2558, 9207, 2298, 1788, 1046, 7010, 1455, 10577, 579, 9672, 13602, 1282, 5724, 14593, 31064, 22840, 15450, 19874, 1315, 2994, 8090, 4099, 12637, 12109]\n"
     ]
    }
   ],
   "source": [
    "x=[]\n",
    "for i in X[:150]:\n",
    "    x.append(di[i])\n",
    "print(x)\n",
    "x = np.array(x)"
   ]
  },
  {
   "cell_type": "code",
   "execution_count": 196,
   "metadata": {},
   "outputs": [],
   "source": [
    "def get_key(my_dict,val):\n",
    "    for key, value in my_dict.items():\n",
    "         if val == value:\n",
    "             return key"
   ]
  },
  {
   "cell_type": "code",
   "execution_count": 193,
   "metadata": {},
   "outputs": [],
   "source": [
    "x = np.array(X[:50,:], dtype=int)\n",
    "x = np.reshape(x, (x.shape[0], x.shape[1], 1))"
   ]
  },
  {
   "cell_type": "code",
   "execution_count": 194,
   "metadata": {},
   "outputs": [
    {
     "output_type": "stream",
     "name": "stdout",
     "text": [
      "2/2 [==============================] - 1s 8ms/step\n"
     ]
    },
    {
     "output_type": "execute_result",
     "data": {
      "text/plain": [
       "array([200, 200, 200, 200, 200, 200, 200, 200, 200, 200, 200, 200, 200,\n",
       "       200, 200, 200, 200, 200, 200, 200, 200, 200, 200, 200, 200, 200,\n",
       "       200, 200, 200, 200, 200, 200, 200, 200, 200, 200, 200, 200, 200,\n",
       "       200, 200, 200, 200, 200, 200, 200, 200, 200, 200, 200], dtype=int64)"
      ]
     },
     "metadata": {},
     "execution_count": 194
    }
   ],
   "source": [
    "input = '5784982'\n",
    "pred = model.predict_classes(x, verbose=1)\n",
    "pred"
   ]
  },
  {
   "cell_type": "code",
   "execution_count": 205,
   "metadata": {},
   "outputs": [
    {
     "output_type": "stream",
     "name": "stdout",
     "text": [
      "[4279],[5704] -> 200\n5784982,5795273 -> 5809911\n[5704],[1642] -> 200\n5795273,5670334 -> 5809911\n[1642],[14499] -> 200\n5670334,5735272 -> 5809911\n[14499],[4083] -> 200\n5735272,5563536 -> 5809911\n[22450],[1935] -> 200\n5882900,5745715 -> 5809911\n[20230],[8624] -> 200\n5827351,5889616 -> 5809911\n[8624],[22450] -> 200\n5889616,5882900 -> 5809911\n[597],[16163] -> 200\n5838938,5883104 -> 5809911\n[16163],[2661] -> 200\n5883104,5819270 -> 5809911\n[2661],[1877] -> 200\n5819270,5852393 -> 5809911\n[1877],[6071] -> 200\n5852393,5819251 -> 5809911\n[597],[4575] -> 200\n5838938,5883100 -> 5809911\n[4575],[14636] -> 200\n5883100,5819243 -> 5809911\n[14636],[1791] -> 200\n5819243,5883103 -> 5809911\n[1791],[9027] -> 200\n5883103,5852396 -> 5809911\n[9027],[7957] -> 200\n5852396,5883101 -> 5809911\n[7957],[5743] -> 200\n5883101,5807839 -> 5809911\n[5743],[21285] -> 200\n5807839,5852397 -> 5809911\n[21285],[928] -> 200\n5852397,5807844 -> 5809911\n[928],[4729] -> 200\n5807844,5823410 -> 5809911\n[4729],[9548] -> 200\n5823410,5808949 -> 5809911\n[9548],[19957] -> 200\n5808949,5663779 -> 5809911\n[19957],[3270] -> 200\n5663779,5839058 -> 5809911\n[3270],[6549] -> 200\n5839058,5839279 -> 5809911\n[6549],[14837] -> 200\n5839279,5868782 -> 5809911\n[14837],[25042] -> 200\n5868782,5834355 -> 5809911\n[18435],[18193] -> 200\n5852084,5835121 -> 5809911\n[31771],[17647] -> 200\n5802677,5827459 -> 5809911\n[17647],[6283] -> 200\n5827459,5751404 -> 5809911\n[6283],[5956] -> 200\n5751404,5852014 -> 5809911\n[5956],[13617] -> 200\n5852014,5751175 -> 5809911\n[13617],[19716] -> 200\n5751175,5851990 -> 5809911\n[19716],[27679] -> 200\n5851990,5852003 -> 5809911\n[27679],[6133] -> 200\n5852003,5852020 -> 5809911\n[6133],[3780] -> 200\n5852020,5852019 -> 5809911\n[3780],[6586] -> 200\n5852019,5852010 -> 5809911\n[6586],[2626] -> 200\n5852010,5852012 -> 5809911\n[2626],[3779] -> 200\n5852012,5852009 -> 5809911\n[3779],[6136] -> 200\n5852009,5851995 -> 5809911\n[6136],[629] -> 200\n5851995,5747404 -> 5809911\n[629],[704] -> 200\n5747404,5747405 -> 5809911\n[704],[3099] -> 200\n5747405,5839674 -> 5809911\n[3099],[6471] -> 200\n5839674,5826989 -> 5809911\n[6471],[5517] -> 200\n5826989,5788524 -> 5809911\n[5517],[1990] -> 200\n5788524,5839671 -> 5809911\n[1990],[536] -> 200\n5839671,5859420 -> 5809911\n[536],[30893] -> 200\n5859420,5826991 -> 5809911\n[30893],[7922] -> 200\n5826991,5839706 -> 5809911\n[7922],[19822] -> 200\n5839706,5797174 -> 5809911\n[19822],[25607] -> 200\n5797174,5797969 -> 5809911\n"
     ]
    }
   ],
   "source": [
    "for i in range(x.shape[0]):\n",
    "    print( \",\".join( [str(f) for f in x[i]]) + \" -> \" + str(pred[i]))\n",
    "    print( \",\".join([str(get_key(di, f[0])) for f in x[i]]) + \" -> \" + str(get_key(di, pred[i])))"
   ]
  }
 ]
}